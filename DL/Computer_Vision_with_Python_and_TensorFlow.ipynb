{
  "nbformat": 4,
  "nbformat_minor": 0,
  "metadata": {
    "colab": {
      "provenance": [],
      "authorship_tag": "ABX9TyO1X8901350CW06vh3dQ7RG",
      "include_colab_link": true
    },
    "kernelspec": {
      "name": "python3",
      "display_name": "Python 3"
    },
    "language_info": {
      "name": "python"
    }
  },
  "cells": [
    {
      "cell_type": "markdown",
      "metadata": {
        "id": "view-in-github",
        "colab_type": "text"
      },
      "source": [
        "<a href=\"https://colab.research.google.com/github/HK-Sepuri/My_Learning/blob/main/DL/Computer_Vision_with_Python_and_TensorFlow.ipynb\" target=\"_parent\"><img src=\"https://colab.research.google.com/assets/colab-badge.svg\" alt=\"Open In Colab\"/></a>"
      ]
    },
    {
      "cell_type": "code",
      "execution_count": 2,
      "metadata": {
        "id": "H7onLFe3qLMz"
      },
      "outputs": [],
      "source": [
        "import tensorflow as tf"
      ]
    },
    {
      "cell_type": "code",
      "source": [
        "tensor_zero_d = tf.constant(8)\n",
        "tensor_zero_d"
      ],
      "metadata": {
        "colab": {
          "base_uri": "https://localhost:8080/"
        },
        "id": "FYWP5s2erfks",
        "outputId": "d56bf4f6-6e23-4afa-cea1-e62206e2d90c"
      },
      "execution_count": 3,
      "outputs": [
        {
          "output_type": "execute_result",
          "data": {
            "text/plain": [
              "<tf.Tensor: shape=(), dtype=int32, numpy=8>"
            ]
          },
          "metadata": {},
          "execution_count": 3
        }
      ]
    },
    {
      "cell_type": "code",
      "source": [
        "tensor_one_d = tf.constant([1,2,3,4.0])\n",
        "tensor_one_d"
      ],
      "metadata": {
        "colab": {
          "base_uri": "https://localhost:8080/"
        },
        "id": "BJ55d77-rpRR",
        "outputId": "b7029ee3-be01-40a7-8b40-ba31e828f6e3"
      },
      "execution_count": 4,
      "outputs": [
        {
          "output_type": "execute_result",
          "data": {
            "text/plain": [
              "<tf.Tensor: shape=(4,), dtype=float32, numpy=array([1., 2., 3., 4.], dtype=float32)>"
            ]
          },
          "metadata": {},
          "execution_count": 4
        }
      ]
    },
    {
      "cell_type": "code",
      "source": [
        "tensor_two_d = tf.constant([[1,2],[2,3],[3,4]])\n",
        "tensor_two_d"
      ],
      "metadata": {
        "colab": {
          "base_uri": "https://localhost:8080/"
        },
        "id": "Tatcbzyfr0Q8",
        "outputId": "6548d257-08ee-4715-e414-e151cb11d7be"
      },
      "execution_count": 5,
      "outputs": [
        {
          "output_type": "execute_result",
          "data": {
            "text/plain": [
              "<tf.Tensor: shape=(3, 2), dtype=int32, numpy=\n",
              "array([[1, 2],\n",
              "       [2, 3],\n",
              "       [3, 4]], dtype=int32)>"
            ]
          },
          "metadata": {},
          "execution_count": 5
        }
      ]
    },
    {
      "cell_type": "code",
      "source": [
        "tensor_three_d = tf.constant([[[1,2],[2,3],[3,4]],\n",
        "                              [[1,2],[2,3],[3,4]],\n",
        "                              [[1,2],[2,3],[3,4]]])\n",
        "tensor_three_d"
      ],
      "metadata": {
        "colab": {
          "base_uri": "https://localhost:8080/"
        },
        "id": "NmzUGmQOsZGi",
        "outputId": "0707ff74-b756-47b1-c20f-7665a5e6e01e"
      },
      "execution_count": 6,
      "outputs": [
        {
          "output_type": "execute_result",
          "data": {
            "text/plain": [
              "<tf.Tensor: shape=(3, 3, 2), dtype=int32, numpy=\n",
              "array([[[1, 2],\n",
              "        [2, 3],\n",
              "        [3, 4]],\n",
              "\n",
              "       [[1, 2],\n",
              "        [2, 3],\n",
              "        [3, 4]],\n",
              "\n",
              "       [[1, 2],\n",
              "        [2, 3],\n",
              "        [3, 4]]], dtype=int32)>"
            ]
          },
          "metadata": {},
          "execution_count": 6
        }
      ]
    },
    {
      "cell_type": "code",
      "source": [
        "tensor_four_d = tf.constant([[[[1,2],[2,3],[3,4]],\n",
        "                              [[1,2],[2,3],[3,4]],\n",
        "                              [[1,2],[2,3],[3,4]]],[[[1,2],[2,3],[3,4]],\n",
        "                              [[1,2],[2,3],[3,4]],\n",
        "                              [[1,2],[2,3],[3,4]]]])\n",
        "tensor_four_d"
      ],
      "metadata": {
        "colab": {
          "base_uri": "https://localhost:8080/"
        },
        "id": "h5zKOy9zs-Rw",
        "outputId": "9f135ac4-108b-4cbd-e86c-0a1ff9d58842"
      },
      "execution_count": 7,
      "outputs": [
        {
          "output_type": "execute_result",
          "data": {
            "text/plain": [
              "<tf.Tensor: shape=(2, 3, 3, 2), dtype=int32, numpy=\n",
              "array([[[[1, 2],\n",
              "         [2, 3],\n",
              "         [3, 4]],\n",
              "\n",
              "        [[1, 2],\n",
              "         [2, 3],\n",
              "         [3, 4]],\n",
              "\n",
              "        [[1, 2],\n",
              "         [2, 3],\n",
              "         [3, 4]]],\n",
              "\n",
              "\n",
              "       [[[1, 2],\n",
              "         [2, 3],\n",
              "         [3, 4]],\n",
              "\n",
              "        [[1, 2],\n",
              "         [2, 3],\n",
              "         [3, 4]],\n",
              "\n",
              "        [[1, 2],\n",
              "         [2, 3],\n",
              "         [3, 4]]]], dtype=int32)>"
            ]
          },
          "metadata": {},
          "execution_count": 7
        }
      ]
    },
    {
      "cell_type": "code",
      "source": [
        "casted_tensor_one_d = tf.cast(tensor_one_d,dtype= tf.int64)\n",
        "casted_tensor_one_d"
      ],
      "metadata": {
        "id": "JkZLDj1V_isk",
        "colab": {
          "base_uri": "https://localhost:8080/"
        },
        "outputId": "fa5c5b82-9378-4f6a-a993-3ff208f6140a"
      },
      "execution_count": 10,
      "outputs": [
        {
          "output_type": "execute_result",
          "data": {
            "text/plain": [
              "<tf.Tensor: shape=(4,), dtype=int64, numpy=array([1, 2, 3, 4])>"
            ]
          },
          "metadata": {},
          "execution_count": 10
        }
      ]
    },
    {
      "cell_type": "code",
      "source": [
        "boolen_tensor_one_d = tf.cast(tensor_one_d,dtype= bool)\n",
        "boolen_tensor_one_d"
      ],
      "metadata": {
        "colab": {
          "base_uri": "https://localhost:8080/"
        },
        "id": "MXKGfZST9A9r",
        "outputId": "edf8fd25-479d-4ee1-ff11-3fa5dc270bc3"
      },
      "execution_count": 11,
      "outputs": [
        {
          "output_type": "execute_result",
          "data": {
            "text/plain": [
              "<tf.Tensor: shape=(4,), dtype=bool, numpy=array([ True,  True,  True,  True])>"
            ]
          },
          "metadata": {},
          "execution_count": 11
        }
      ]
    },
    {
      "cell_type": "code",
      "source": [
        "# if its zero its false and anyother number will be true"
      ],
      "metadata": {
        "id": "9xZDe4K49h3d"
      },
      "execution_count": 12,
      "outputs": []
    },
    {
      "cell_type": "code",
      "source": [
        "tensor_bool = tf.constant([True,False,True])\n",
        "tensor_bool"
      ],
      "metadata": {
        "colab": {
          "base_uri": "https://localhost:8080/"
        },
        "id": "Sdd6fbk59m_E",
        "outputId": "f2882a11-42dc-4cea-cfe0-9fa3619bf3dc"
      },
      "execution_count": 14,
      "outputs": [
        {
          "output_type": "execute_result",
          "data": {
            "text/plain": [
              "<tf.Tensor: shape=(3,), dtype=bool, numpy=array([ True, False,  True])>"
            ]
          },
          "metadata": {},
          "execution_count": 14
        }
      ]
    },
    {
      "cell_type": "code",
      "source": [
        "tensor_string = tf.constant([\"Hello\",\"world\",\"!\"])\n",
        "tensor_string"
      ],
      "metadata": {
        "colab": {
          "base_uri": "https://localhost:8080/"
        },
        "id": "BtmlqfEn90lI",
        "outputId": "de06792d-ae3e-44c0-e770-2eec9ae070cc"
      },
      "execution_count": 15,
      "outputs": [
        {
          "output_type": "execute_result",
          "data": {
            "text/plain": [
              "<tf.Tensor: shape=(3,), dtype=string, numpy=array([b'Hello', b'world', b'!'], dtype=object)>"
            ]
          },
          "metadata": {},
          "execution_count": 15
        }
      ]
    },
    {
      "cell_type": "code",
      "source": [
        "import numpy as np"
      ],
      "metadata": {
        "id": "uJm1YM2V-GRt"
      },
      "execution_count": 16,
      "outputs": []
    },
    {
      "cell_type": "code",
      "source": [
        "np_array = ([1,2,3,4,5,5])\n",
        "np_array"
      ],
      "metadata": {
        "colab": {
          "base_uri": "https://localhost:8080/"
        },
        "id": "4SljBqaq-MHa",
        "outputId": "51f7ee7b-fd23-4465-c005-a63575d480a7"
      },
      "execution_count": 18,
      "outputs": [
        {
          "output_type": "execute_result",
          "data": {
            "text/plain": [
              "[1, 2, 3, 4, 5, 5]"
            ]
          },
          "metadata": {},
          "execution_count": 18
        }
      ]
    },
    {
      "cell_type": "code",
      "source": [
        "tensor_np_array = tf.convert_to_tensor(np_array)\n",
        "tensor_np_array"
      ],
      "metadata": {
        "colab": {
          "base_uri": "https://localhost:8080/"
        },
        "id": "XxYTTwiZ-S1X",
        "outputId": "903937de-1907-4441-a221-18d53559c9ef"
      },
      "execution_count": 19,
      "outputs": [
        {
          "output_type": "execute_result",
          "data": {
            "text/plain": [
              "<tf.Tensor: shape=(6,), dtype=int32, numpy=array([1, 2, 3, 4, 5, 5], dtype=int32)>"
            ]
          },
          "metadata": {},
          "execution_count": 19
        }
      ]
    },
    {
      "cell_type": "code",
      "source": [
        "import tensorflow as tf\n",
        "print(tf.__version__)"
      ],
      "metadata": {
        "colab": {
          "base_uri": "https://localhost:8080/"
        },
        "id": "YZuxIj0e-4Bo",
        "outputId": "ffe417ab-ae6a-4f88-f07a-4ee2151f7ea0"
      },
      "execution_count": 20,
      "outputs": [
        {
          "output_type": "stream",
          "name": "stdout",
          "text": [
            "2.14.0\n"
          ]
        }
      ]
    },
    {
      "cell_type": "code",
      "source": [],
      "metadata": {
        "id": "oK7PcmJZKvb5"
      },
      "execution_count": null,
      "outputs": []
    }
  ]
}
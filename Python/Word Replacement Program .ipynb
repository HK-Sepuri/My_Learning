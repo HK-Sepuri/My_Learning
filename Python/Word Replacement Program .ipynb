{
 "cells": [
  {
   "cell_type": "markdown",
   "id": "58889fcb-1d45-4f3a-884b-c4b6a06d75fa",
   "metadata": {},
   "source": [
    "# Word Replacement Program "
   ]
  },
  {
   "cell_type": "code",
   "execution_count": 1,
   "id": "f907d05b-a3e5-4936-b881-06bca4d8ee8f",
   "metadata": {},
   "outputs": [],
   "source": [
    "string = \"Hello, Iam Hari, nice to meet you Mr World\""
   ]
  },
  {
   "cell_type": "code",
   "execution_count": 2,
   "id": "ea312b0d-cb06-4ba7-9416-dd3e66b7ceb8",
   "metadata": {},
   "outputs": [
    {
     "name": "stdin",
     "output_type": "stream",
     "text": [
      "Enter the word to replace:  World\n"
     ]
    }
   ],
   "source": [
    "word_to_replace = input(\"Enter the word to replace: \")"
   ]
  },
  {
   "cell_type": "code",
   "execution_count": 3,
   "id": "2bb0fa52-53fd-4dc7-a779-5fa7e7eba7cb",
   "metadata": {},
   "outputs": [
    {
     "name": "stdin",
     "output_type": "stream",
     "text": [
      "Enter the word to be replaced as:  Worldwide\n"
     ]
    }
   ],
   "source": [
    "word_replacement = input(\"Enter the word to be replaced as: \")"
   ]
  },
  {
   "cell_type": "code",
   "execution_count": 5,
   "id": "b6a17934-af2e-48a9-ab0c-db23c69d369c",
   "metadata": {},
   "outputs": [
    {
     "name": "stdout",
     "output_type": "stream",
     "text": [
      "Hello, Iam Hari, nice to meet you Mr Worldwide\n"
     ]
    }
   ],
   "source": [
    "print(string.replace(word_to_replace, word_replacement))"
   ]
  },
  {
   "cell_type": "code",
   "execution_count": 6,
   "id": "3d4ed66d-6e8f-4f44-8d29-134d4fdfdc64",
   "metadata": {},
   "outputs": [],
   "source": [
    "def replace_word():\n",
    "    string1 = \"hi guys, i am Hari, and hi hi hi hi\"\n",
    "    word_to_replace = input(\"Enter the word to replace: \")\n",
    "    word_replacement = input(\"Enter the word replacement: \")\n",
    "    print(string1.replace(word_to_replace, word_replacement))"
   ]
  },
  {
   "cell_type": "code",
   "execution_count": 7,
   "id": "f576b3b5-7216-4dc5-bbfd-039146bd99d3",
   "metadata": {},
   "outputs": [
    {
     "name": "stdin",
     "output_type": "stream",
     "text": [
      "Enter the word to replace:  hi\n",
      "Enter the word replacement:  yolo\n"
     ]
    },
    {
     "name": "stdout",
     "output_type": "stream",
     "text": [
      "yolo guys, i am Hari, and yolo yolo yolo yolo\n"
     ]
    }
   ],
   "source": [
    "replace_word() # calling the function"
   ]
  },
  {
   "cell_type": "code",
   "execution_count": null,
   "id": "0b565128-f546-4b2e-818c-2d761ec8c858",
   "metadata": {},
   "outputs": [],
   "source": []
  }
 ],
 "metadata": {
  "kernelspec": {
   "display_name": "Python 3 (ipykernel)",
   "language": "python",
   "name": "python3"
  },
  "language_info": {
   "codemirror_mode": {
    "name": "ipython",
    "version": 3
   },
   "file_extension": ".py",
   "mimetype": "text/x-python",
   "name": "python",
   "nbconvert_exporter": "python",
   "pygments_lexer": "ipython3",
   "version": "3.10.12"
  }
 },
 "nbformat": 4,
 "nbformat_minor": 5
}

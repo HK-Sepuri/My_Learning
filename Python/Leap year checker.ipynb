{
 "cells": [
  {
   "cell_type": "code",
   "execution_count": 1,
   "id": "95f49b9a-8f19-4c6a-a2fa-6f2323060578",
   "metadata": {},
   "outputs": [],
   "source": [
    "def is_leap_year(year):\n",
    "    if year % 4 == 0:\n",
    "        if year % 100 == 0:\n",
    "            if year % 400 == 0:\n",
    "                print('Leap Year' )\n",
    "            else:\n",
    "                print('Not leap year')\n",
    "        else:\n",
    "            print('Leap year' )\n",
    "    else:\n",
    "        print('Not Leap Year')"
   ]
  },
  {
   "cell_type": "code",
   "execution_count": 2,
   "id": "7795221a-2673-4c17-a5d8-e338ed61f0b2",
   "metadata": {},
   "outputs": [
    {
     "name": "stdout",
     "output_type": "stream",
     "text": [
      "Not Leap Year\n"
     ]
    }
   ],
   "source": [
    "is_leap_year(2051)"
   ]
  },
  {
   "cell_type": "code",
   "execution_count": null,
   "id": "1c9c78f0-73e1-46dd-a277-2fcb4119cce8",
   "metadata": {},
   "outputs": [],
   "source": []
  }
 ],
 "metadata": {
  "kernelspec": {
   "display_name": "Python 3 (ipykernel)",
   "language": "python",
   "name": "python3"
  },
  "language_info": {
   "codemirror_mode": {
    "name": "ipython",
    "version": 3
   },
   "file_extension": ".py",
   "mimetype": "text/x-python",
   "name": "python",
   "nbconvert_exporter": "python",
   "pygments_lexer": "ipython3",
   "version": "3.10.12"
  }
 },
 "nbformat": 4,
 "nbformat_minor": 5
}

{
 "cells": [
  {
   "cell_type": "code",
   "execution_count": 32,
   "id": "13f0c369-a34f-4a79-b014-9305e242fb25",
   "metadata": {},
   "outputs": [],
   "source": [
    "def add(a,b):\n",
    "    c=a+b\n",
    "    print(str(a)+ \"+\"+ str(b)+ \"=\"+ str(c) )"
   ]
  },
  {
   "cell_type": "code",
   "execution_count": 33,
   "id": "e2ed889c-c790-4904-a5be-d748529ce07c",
   "metadata": {},
   "outputs": [
    {
     "name": "stdout",
     "output_type": "stream",
     "text": [
      "4+5=9\n"
     ]
    }
   ],
   "source": [
    "add(4,5)"
   ]
  },
  {
   "cell_type": "code",
   "execution_count": 34,
   "id": "a3751b3d-117b-476e-85a7-39c3f32c04c3",
   "metadata": {},
   "outputs": [],
   "source": [
    "# had to write str(a) to make it into a string not number\n",
    "# also all strings are added by + so had to add after each word"
   ]
  },
  {
   "cell_type": "code",
   "execution_count": 35,
   "id": "64d8afb0-e702-4440-8282-ce3bc1fe9949",
   "metadata": {},
   "outputs": [],
   "source": [
    "def sub(a,b):\n",
    "    c=a-b\n",
    "    print(str(a)+\"-\"+str(b)+\"=\"+str(c))"
   ]
  },
  {
   "cell_type": "code",
   "execution_count": 36,
   "id": "d8bf3399-9194-4749-a030-206f2e616383",
   "metadata": {},
   "outputs": [],
   "source": [
    "def mul(a,b):\n",
    "    c=a*b\n",
    "    print(str(a)+\"*\"+str(b)+\"=\"+str(c))"
   ]
  },
  {
   "cell_type": "code",
   "execution_count": 37,
   "id": "85f03f1d-51de-482a-95a6-5ac7a6e42bfb",
   "metadata": {},
   "outputs": [],
   "source": [
    "def div(a,b):\n",
    "    c=a/b\n",
    "    print(str(a)+\"/\"+str(b)+\"=\"+str(c))"
   ]
  },
  {
   "cell_type": "code",
   "execution_count": 38,
   "id": "664db4de-7186-4d26-bd25-423c1034340d",
   "metadata": {},
   "outputs": [],
   "source": [
    "# you can create more with square , square root etc "
   ]
  },
  {
   "cell_type": "code",
   "execution_count": 43,
   "id": "708ae06a-94f1-4501-9274-59ad27dad4df",
   "metadata": {},
   "outputs": [],
   "source": [
    "def choice():\n",
    "    print(\"A. Addition \\nB. Subtraction \\nC. Multiplication \\nD. Division\")\n",
    "    choice = input(\"input your choice: \")\n",
    "    \n",
    "    if choice!= \"A\" and choice != \"B\" and choice!=\"C\" and choice!=\"D\":\n",
    "        print (\"Enter correct choice\")\n",
    "    \n",
    "    elif choice == \"A\":\n",
    "        print(\"Addition\")\n",
    "        a = int(input(\"input first number: \"))\n",
    "        b = int(input(\"input second number: \"))\n",
    "        add(a, b)\n",
    "    \n",
    "    elif  choice == \"B\":\n",
    "        print(\"Subtraction\")\n",
    "        a = int(input(\"input first number:\"))\n",
    "        b = int(input(\"input second number: \"))\n",
    "        sub(a, b)\n",
    "    \n",
    "    elif  choice == \"C\":\n",
    "        print(\"Multiplication\")\n",
    "        a = int(input(\"input first number:\"))\n",
    "        b = int(input(\"input second number: \"))\n",
    "        mul(a, b)\n",
    "    \n",
    "    elif  choice == \"D\":\n",
    "        print(\"Division\" )\n",
    "        a = int(input(\"input first number:\"))\n",
    "        b = int(input(\"input second number: \"))\n",
    "        div(a, b)"
   ]
  },
  {
   "cell_type": "code",
   "execution_count": 44,
   "id": "c52a4069-3190-481f-9340-089154adb10a",
   "metadata": {},
   "outputs": [
    {
     "name": "stdout",
     "output_type": "stream",
     "text": [
      "A. Addition \n",
      "B. Subtraction \n",
      "C. Multiplication \n",
      "D. Division\n"
     ]
    },
    {
     "name": "stdin",
     "output_type": "stream",
     "text": [
      "input your choice:  A\n"
     ]
    },
    {
     "name": "stdout",
     "output_type": "stream",
     "text": [
      "Addition\n"
     ]
    },
    {
     "name": "stdin",
     "output_type": "stream",
     "text": [
      "input first number:  3\n",
      "input second number:  4\n"
     ]
    },
    {
     "name": "stdout",
     "output_type": "stream",
     "text": [
      "3+4=7\n"
     ]
    }
   ],
   "source": [
    "choice()"
   ]
  },
  {
   "cell_type": "code",
   "execution_count": null,
   "id": "1d4dc004-3fca-4a1d-9266-836b5b973ec7",
   "metadata": {},
   "outputs": [],
   "source": []
  }
 ],
 "metadata": {
  "kernelspec": {
   "display_name": "Python 3 (ipykernel)",
   "language": "python",
   "name": "python3"
  },
  "language_info": {
   "codemirror_mode": {
    "name": "ipython",
    "version": 3
   },
   "file_extension": ".py",
   "mimetype": "text/x-python",
   "name": "python",
   "nbconvert_exporter": "python",
   "pygments_lexer": "ipython3",
   "version": "3.10.12"
  }
 },
 "nbformat": 4,
 "nbformat_minor": 5
}

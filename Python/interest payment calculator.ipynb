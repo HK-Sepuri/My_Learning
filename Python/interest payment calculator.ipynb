{
 "cells": [
  {
   "cell_type": "code",
   "execution_count": 1,
   "id": "b0929ba6-f2ff-4e2a-b404-0f1d0c18228e",
   "metadata": {},
   "outputs": [],
   "source": [
    "def main():\n",
    "    print(\" This is a monthly payment loan calculator \")\n",
    "    \n",
    "    principal = float(input(\"Input the loan amount: \"))\n",
    "    apr = float(input(\"Input the annual interest rate: \"))\n",
    "    years = int(input(\"Input amount of years: \"))\n",
    "    \n",
    "    monthly_interest_rate = apr / 1200\n",
    "    amount_of_months = years * 12\n",
    "    monthly_payment = principal * monthly_interest_rate / (1 - (1 + monthly_interest_rate) ** (-amount_of_months))\n",
    "    \n",
    "    print(\" The monthly payment for this loan is: %.2f \" % monthly_payment)\n"
   ]
  },
  {
   "cell_type": "code",
   "execution_count": 2,
   "id": "de68cd19-668d-44ec-885c-dad0cdfeebd6",
   "metadata": {},
   "outputs": [
    {
     "name": "stdout",
     "output_type": "stream",
     "text": [
      " This is a monthly payment loan calculator \n",
      "\n"
     ]
    },
    {
     "name": "stdin",
     "output_type": "stream",
     "text": [
      "Input the loan amount:  100000\n",
      "Input the annual interest rate:  6.5\n",
      "Input amount of years:  15\n"
     ]
    },
    {
     "name": "stdout",
     "output_type": "stream",
     "text": [
      " The monthly payment for this loan is: 871.11 \n"
     ]
    }
   ],
   "source": [
    "main()"
   ]
  },
  {
   "cell_type": "code",
   "execution_count": null,
   "id": "7d9dcd29-c981-457a-9e77-b71db41459a4",
   "metadata": {},
   "outputs": [],
   "source": []
  }
 ],
 "metadata": {
  "kernelspec": {
   "display_name": "Python 3 (ipykernel)",
   "language": "python",
   "name": "python3"
  },
  "language_info": {
   "codemirror_mode": {
    "name": "ipython",
    "version": 3
   },
   "file_extension": ".py",
   "mimetype": "text/x-python",
   "name": "python",
   "nbconvert_exporter": "python",
   "pygments_lexer": "ipython3",
   "version": "3.10.12"
  }
 },
 "nbformat": 4,
 "nbformat_minor": 5
}

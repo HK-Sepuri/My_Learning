{
 "cells": [
  {
   "cell_type": "markdown",
   "id": "03181ec4-9858-4804-aca2-8244d2f5feef",
   "metadata": {},
   "source": [
    "# Data Structures"
   ]
  },
  {
   "cell_type": "code",
   "execution_count": 27,
   "id": "f9f9ee62-5208-42f5-af7d-4cbc3c687431",
   "metadata": {},
   "outputs": [],
   "source": [
    "L = [1,3,4.9,\"name\",3]# list\n",
    "T = (1,3,4.9,\"name\",3)# tupple\n",
    "S = {1,3,4.9,\"name\",3}# set\n",
    "D = {23:\"twothree\",'B':43,'C':'CCD'} # dist"
   ]
  },
  {
   "cell_type": "code",
   "execution_count": 4,
   "id": "fd2dbac8-799a-4f62-8534-fcb2fc4b1e02",
   "metadata": {},
   "outputs": [
    {
     "name": "stdout",
     "output_type": "stream",
     "text": [
      "The type of L is  <class 'list'>\n",
      "The type of T is  <class 'tuple'>\n",
      "The type of S is  <class 'set'>\n",
      "The type of D is  <class 'dict'>\n"
     ]
    }
   ],
   "source": [
    "print(\"The type of L is \", type(L))\n",
    "print(\"The type of T is \", type(T))\n",
    "print(\"The type of S is \", type(S))\n",
    "print(\"The type of D is \", type(D))"
   ]
  },
  {
   "cell_type": "code",
   "execution_count": 8,
   "id": "3b8dad84-1d53-4498-bae4-3752dc704b95",
   "metadata": {},
   "outputs": [
    {
     "name": "stdout",
     "output_type": "stream",
     "text": [
      "3\n",
      "3\n",
      "True\n",
      "twothree\n"
     ]
    }
   ],
   "source": [
    "print(L[1])\n",
    "print(T[1])\n",
    "print(3 in S)#it will search if 3 is presnt in whole list and come true if it is or false\n",
    "print(D[23]) # it will find 23 in the dict and print its value assigned in the dict "
   ]
  },
  {
   "cell_type": "code",
   "execution_count": 9,
   "id": "ebed87fc-0046-4329-915c-79f9f281c312",
   "metadata": {},
   "outputs": [
    {
     "name": "stdout",
     "output_type": "stream",
     "text": [
      "43\n"
     ]
    }
   ],
   "source": [
    "print(D['B'])# key is B and its value in dict is 43 B:43"
   ]
  },
  {
   "cell_type": "code",
   "execution_count": 13,
   "id": "cc37cc1d-11a9-40c7-b820-9ba3f03342fb",
   "metadata": {},
   "outputs": [
    {
     "data": {
      "text/plain": [
       "{1, 3, 4.9, 'name'}"
      ]
     },
     "execution_count": 13,
     "metadata": {},
     "output_type": "execute_result"
    }
   ],
   "source": [
    "S # 3 duplicate is removed "
   ]
  },
  {
   "cell_type": "code",
   "execution_count": 28,
   "id": "653ec8e0-2680-4d2a-881e-eaa1215e0873",
   "metadata": {},
   "outputs": [
    {
     "data": {
      "text/plain": [
       "[1, 3, 4.9, 'name', 3]"
      ]
     },
     "execution_count": 28,
     "metadata": {},
     "output_type": "execute_result"
    }
   ],
   "source": [
    "L # duplicate is there"
   ]
  },
  {
   "cell_type": "code",
   "execution_count": 12,
   "id": "69d63b14-5666-4ec8-befa-fbde57ed2ec2",
   "metadata": {},
   "outputs": [
    {
     "data": {
      "text/plain": [
       "[3, 4.9]"
      ]
     },
     "execution_count": 12,
     "metadata": {},
     "output_type": "execute_result"
    }
   ],
   "source": [
    "L[1:3]"
   ]
  },
  {
   "cell_type": "code",
   "execution_count": 16,
   "id": "6345eee6-6893-4861-9713-720b8973384a",
   "metadata": {},
   "outputs": [
    {
     "data": {
      "text/plain": [
       "[3, 'name', 4.9, 3, 1]"
      ]
     },
     "execution_count": 16,
     "metadata": {},
     "output_type": "execute_result"
    }
   ],
   "source": [
    "L[::-1] # reverse the whole list "
   ]
  },
  {
   "cell_type": "code",
   "execution_count": 17,
   "id": "3f2a83c8-102a-475b-8431-6f9a24b3f6f2",
   "metadata": {},
   "outputs": [
    {
     "data": {
      "text/plain": [
       "(1, 3, 4.9)"
      ]
     },
     "execution_count": 17,
     "metadata": {},
     "output_type": "execute_result"
    }
   ],
   "source": [
    "T[:3]"
   ]
  },
  {
   "cell_type": "code",
   "execution_count": 29,
   "id": "0dd7813a-8dc3-405e-929f-4e54bf01d017",
   "metadata": {},
   "outputs": [],
   "source": [
    "L = L + [\"how\",\"are\",6,\"you\"]#add the list to the end of list "
   ]
  },
  {
   "cell_type": "code",
   "execution_count": 30,
   "id": "577ff36f-4f59-4d18-b1f7-5ef8e02d573e",
   "metadata": {},
   "outputs": [
    {
     "data": {
      "text/plain": [
       "[1, 3, 4.9, 'name', 3, 'how', 'are', 6, 'you']"
      ]
     },
     "execution_count": 30,
     "metadata": {},
     "output_type": "execute_result"
    }
   ],
   "source": [
    "L"
   ]
  },
  {
   "cell_type": "code",
   "execution_count": 31,
   "id": "ee123628-4cca-4f12-b755-ca1b7bee46a7",
   "metadata": {},
   "outputs": [],
   "source": [
    "L.append(6.8)# adds the virabal at end of list "
   ]
  },
  {
   "cell_type": "code",
   "execution_count": 32,
   "id": "a7b59d5b-53e0-4b92-a9b8-f541bfa9416e",
   "metadata": {},
   "outputs": [
    {
     "data": {
      "text/plain": [
       "[1, 3, 4.9, 'name', 3, 'how', 'are', 6, 'you', 6.8]"
      ]
     },
     "execution_count": 32,
     "metadata": {},
     "output_type": "execute_result"
    }
   ],
   "source": [
    "L"
   ]
  },
  {
   "cell_type": "code",
   "execution_count": 35,
   "id": "aa5cb530-fc7f-430c-9b93-4bd5c774fcae",
   "metadata": {},
   "outputs": [],
   "source": [
    "T2 = ('a','b',45)\n",
    "T3 = T+T2# you cant chnage the tupple but you can add two tupple into another "
   ]
  },
  {
   "cell_type": "code",
   "execution_count": 36,
   "id": "05e08e50-7e4d-45d0-96f0-3f73eba19f5c",
   "metadata": {},
   "outputs": [
    {
     "data": {
      "text/plain": [
       "(1, 3, 4.9, 'name', 3, 'a', 'b', 45)"
      ]
     },
     "execution_count": 36,
     "metadata": {},
     "output_type": "execute_result"
    }
   ],
   "source": [
    "T3"
   ]
  },
  {
   "cell_type": "code",
   "execution_count": 37,
   "id": "66e1452a-a5ed-49c7-9d29-2aa6c9af2696",
   "metadata": {},
   "outputs": [
    {
     "data": {
      "text/plain": [
       "{1, 3, 4.9, 'name'}"
      ]
     },
     "execution_count": 37,
     "metadata": {},
     "output_type": "execute_result"
    }
   ],
   "source": [
    "S"
   ]
  },
  {
   "cell_type": "code",
   "execution_count": 39,
   "id": "abac9183-3f82-4c5e-ac7b-22a6a58c0b5f",
   "metadata": {},
   "outputs": [
    {
     "ename": "AttributeError",
     "evalue": "'set' object has no attribute 'append'",
     "output_type": "error",
     "traceback": [
      "\u001b[0;31m---------------------------------------------------------------------------\u001b[0m",
      "\u001b[0;31mAttributeError\u001b[0m                            Traceback (most recent call last)",
      "Cell \u001b[0;32mIn[39], line 1\u001b[0m\n\u001b[0;32m----> 1\u001b[0m \u001b[43mS\u001b[49m\u001b[38;5;241;43m.\u001b[39;49m\u001b[43mappend\u001b[49m(\u001b[38;5;241m5\u001b[39m)\n",
      "\u001b[0;31mAttributeError\u001b[0m: 'set' object has no attribute 'append'"
     ]
    }
   ],
   "source": [
    "S.append(5)"
   ]
  },
  {
   "cell_type": "code",
   "execution_count": 42,
   "id": "d5e0db2a-dce0-4c2c-9a91-a1c8dbe0277a",
   "metadata": {},
   "outputs": [],
   "source": [
    "S.add(56) # it add one element "
   ]
  },
  {
   "cell_type": "code",
   "execution_count": 43,
   "id": "10b42748-ae9a-41d7-a702-c0d64199fb0e",
   "metadata": {},
   "outputs": [
    {
     "data": {
      "text/plain": [
       "{1, 3, 4.9, 56, 'name'}"
      ]
     },
     "execution_count": 43,
     "metadata": {},
     "output_type": "execute_result"
    }
   ],
   "source": [
    "S"
   ]
  },
  {
   "cell_type": "code",
   "execution_count": 62,
   "id": "edc5e013-712e-4bfc-a33e-1e5160b7b3fd",
   "metadata": {},
   "outputs": [],
   "source": [
    "S.update({23,\"game\",1})# it add multiple elements "
   ]
  },
  {
   "cell_type": "code",
   "execution_count": 45,
   "id": "345de621-78b8-4277-afa3-5cbd638970f5",
   "metadata": {},
   "outputs": [
    {
     "data": {
      "text/plain": [
       "{1, 23, 3, 4.9, 56, 'game', 'name'}"
      ]
     },
     "execution_count": 45,
     "metadata": {},
     "output_type": "execute_result"
    }
   ],
   "source": [
    "S"
   ]
  },
  {
   "cell_type": "code",
   "execution_count": 46,
   "id": "5c5c4135-c125-469a-b3ea-f61ee2b88b5f",
   "metadata": {},
   "outputs": [
    {
     "data": {
      "text/plain": [
       "{23: 'twothree', 'B': 43, 'C': 'CCD'}"
      ]
     },
     "execution_count": 46,
     "metadata": {},
     "output_type": "execute_result"
    }
   ],
   "source": [
    "D"
   ]
  },
  {
   "cell_type": "code",
   "execution_count": 47,
   "id": "273a4929-9fd6-47cb-ab15-4eaf49d0ba67",
   "metadata": {},
   "outputs": [],
   "source": [
    "D['newKey'] = \"newValue\"# syntax to add new key and its value in dict"
   ]
  },
  {
   "cell_type": "code",
   "execution_count": 48,
   "id": "2c333840-029c-457a-8a6d-03a753a2b6ce",
   "metadata": {},
   "outputs": [
    {
     "data": {
      "text/plain": [
       "{23: 'twothree', 'B': 43, 'C': 'CCD', 'newKey': 'newValue'}"
      ]
     },
     "execution_count": 48,
     "metadata": {},
     "output_type": "execute_result"
    }
   ],
   "source": [
    "D"
   ]
  },
  {
   "cell_type": "code",
   "execution_count": 49,
   "id": "1896fd5d-277b-4318-9c59-989bff368e1a",
   "metadata": {},
   "outputs": [],
   "source": [
    "D2 = {\"y\":\"YY\",\"z\":10}"
   ]
  },
  {
   "cell_type": "code",
   "execution_count": 50,
   "id": "dc325914-7991-47ab-bd24-fe644ad4a2af",
   "metadata": {},
   "outputs": [
    {
     "ename": "TypeError",
     "evalue": "unsupported operand type(s) for +: 'dict' and 'dict'",
     "output_type": "error",
     "traceback": [
      "\u001b[0;31m---------------------------------------------------------------------------\u001b[0m",
      "\u001b[0;31mTypeError\u001b[0m                                 Traceback (most recent call last)",
      "Cell \u001b[0;32mIn[50], line 1\u001b[0m\n\u001b[0;32m----> 1\u001b[0m D1\u001b[38;5;241m=\u001b[39m\u001b[43mD\u001b[49m\u001b[38;5;241;43m+\u001b[39;49m\u001b[43mD2\u001b[49m\n",
      "\u001b[0;31mTypeError\u001b[0m: unsupported operand type(s) for +: 'dict' and 'dict'"
     ]
    }
   ],
   "source": [
    "D1=D+D2"
   ]
  },
  {
   "cell_type": "code",
   "execution_count": 51,
   "id": "6a3d67c7-d872-416a-9c5f-cc45aef10dd8",
   "metadata": {},
   "outputs": [
    {
     "data": {
      "text/plain": [
       "[1, 3, 4.9, 'name', 3, 'how', 'are', 6, 'you', 6.8]"
      ]
     },
     "execution_count": 51,
     "metadata": {},
     "output_type": "execute_result"
    }
   ],
   "source": [
    "L"
   ]
  },
  {
   "cell_type": "code",
   "execution_count": 52,
   "id": "bbb3a953-be8d-4176-a8f8-ff4c0612a4f2",
   "metadata": {},
   "outputs": [],
   "source": [
    "del L[3] # to delete jjst one element from list "
   ]
  },
  {
   "cell_type": "code",
   "execution_count": 53,
   "id": "a76ae07d-7485-4188-be0c-d1fb1fc91ffb",
   "metadata": {},
   "outputs": [
    {
     "data": {
      "text/plain": [
       "[1, 3, 4.9, 3, 'how', 'are', 6, 'you', 6.8]"
      ]
     },
     "execution_count": 53,
     "metadata": {},
     "output_type": "execute_result"
    }
   ],
   "source": [
    "L"
   ]
  },
  {
   "cell_type": "code",
   "execution_count": 63,
   "id": "7f7cac7e-ca54-4de5-8fd3-cd9c4e8e5103",
   "metadata": {},
   "outputs": [
    {
     "data": {
      "text/plain": [
       "{1, 23, 3, 4.9, 56, 'game', 'name'}"
      ]
     },
     "execution_count": 63,
     "metadata": {},
     "output_type": "execute_result"
    }
   ],
   "source": [
    "S"
   ]
  },
  {
   "cell_type": "code",
   "execution_count": 64,
   "id": "9e010bcc-9b81-4e7b-a10f-eaa056f8a075",
   "metadata": {},
   "outputs": [],
   "source": [
    "S.remove('game')# to remove one element in set"
   ]
  },
  {
   "cell_type": "code",
   "execution_count": 65,
   "id": "eba19c9a-8144-40b4-bff9-503de55213fd",
   "metadata": {},
   "outputs": [
    {
     "data": {
      "text/plain": [
       "{1, 23, 3, 4.9, 56, 'name'}"
      ]
     },
     "execution_count": 65,
     "metadata": {},
     "output_type": "execute_result"
    }
   ],
   "source": [
    "S"
   ]
  },
  {
   "cell_type": "code",
   "execution_count": 66,
   "id": "e61b627e-a183-414b-8ae7-f24368563e09",
   "metadata": {},
   "outputs": [
    {
     "data": {
      "text/plain": [
       "{23: 'twothree', 'B': 43, 'C': 'CCD', 'newKey': 'newValue'}"
      ]
     },
     "execution_count": 66,
     "metadata": {},
     "output_type": "execute_result"
    }
   ],
   "source": [
    "D"
   ]
  },
  {
   "cell_type": "code",
   "execution_count": 67,
   "id": "954f4d40-b771-40dd-a8ab-4a67a02afc6f",
   "metadata": {},
   "outputs": [],
   "source": [
    "D.update(D2) # to add one dict to into another "
   ]
  },
  {
   "cell_type": "code",
   "execution_count": 68,
   "id": "bbe5620e-d3c8-405f-8c92-7a9d360ab3d5",
   "metadata": {},
   "outputs": [
    {
     "data": {
      "text/plain": [
       "{23: 'twothree', 'B': 43, 'C': 'CCD', 'newKey': 'newValue', 'y': 'YY', 'z': 10}"
      ]
     },
     "execution_count": 68,
     "metadata": {},
     "output_type": "execute_result"
    }
   ],
   "source": [
    "D"
   ]
  },
  {
   "cell_type": "code",
   "execution_count": 69,
   "id": "ee998045-2882-42b1-a6c5-f0c35bf7c22d",
   "metadata": {},
   "outputs": [
    {
     "data": {
      "text/plain": [
       "[1, 3, 4.9, 3, 'how', 'are', 6, 'you', 6.8]"
      ]
     },
     "execution_count": 69,
     "metadata": {},
     "output_type": "execute_result"
    }
   ],
   "source": [
    "L"
   ]
  },
  {
   "cell_type": "code",
   "execution_count": 70,
   "id": "70074553-b69f-4bb7-8f19-7c85a1538f09",
   "metadata": {},
   "outputs": [],
   "source": [
    "L2=L# it doesnt actualy copy but point towards L"
   ]
  },
  {
   "cell_type": "code",
   "execution_count": 71,
   "id": "f5d4cb59-cd29-4b14-8625-a56a8abf42ef",
   "metadata": {},
   "outputs": [
    {
     "data": {
      "text/plain": [
       "[1, 3, 4.9, 3, 'how', 'are', 6, 'you', 6.8]"
      ]
     },
     "execution_count": 71,
     "metadata": {},
     "output_type": "execute_result"
    }
   ],
   "source": [
    "L2"
   ]
  },
  {
   "cell_type": "code",
   "execution_count": 72,
   "id": "024929c1-0d21-4504-b30d-9f42b0307e1a",
   "metadata": {},
   "outputs": [],
   "source": [
    "L2[2] = \"four point nine\""
   ]
  },
  {
   "cell_type": "code",
   "execution_count": 73,
   "id": "181a3abd-007a-461f-9a3f-f3cdd9cb628f",
   "metadata": {},
   "outputs": [
    {
     "data": {
      "text/plain": [
       "[1, 3, 'four point nine', 3, 'how', 'are', 6, 'you', 6.8]"
      ]
     },
     "execution_count": 73,
     "metadata": {},
     "output_type": "execute_result"
    }
   ],
   "source": [
    "L"
   ]
  },
  {
   "cell_type": "code",
   "execution_count": 74,
   "id": "e409eb22-cf4d-4d89-bb84-d18ce6a0cd7d",
   "metadata": {},
   "outputs": [],
   "source": [
    "L2 = L.copy()# it copy the values into anothere"
   ]
  },
  {
   "cell_type": "code",
   "execution_count": 75,
   "id": "69cec842-7dfb-4684-bce5-e38417c7047b",
   "metadata": {},
   "outputs": [
    {
     "data": {
      "text/plain": [
       "[1, 3, 'four point nine', 3, 'how', 'are', 6, 'you', 6.8]"
      ]
     },
     "execution_count": 75,
     "metadata": {},
     "output_type": "execute_result"
    }
   ],
   "source": [
    "L2"
   ]
  },
  {
   "cell_type": "code",
   "execution_count": 76,
   "id": "6ace93ea-6eb9-4981-9581-7889eb2dd965",
   "metadata": {},
   "outputs": [],
   "source": [
    "L2[2] = 4.9"
   ]
  },
  {
   "cell_type": "code",
   "execution_count": 77,
   "id": "da672ec8-6e0b-4126-8778-4602d312ec6f",
   "metadata": {},
   "outputs": [
    {
     "data": {
      "text/plain": [
       "[1, 3, 4.9, 3, 'how', 'are', 6, 'you', 6.8]"
      ]
     },
     "execution_count": 77,
     "metadata": {},
     "output_type": "execute_result"
    }
   ],
   "source": [
    "L2"
   ]
  },
  {
   "cell_type": "code",
   "execution_count": 78,
   "id": "1e890612-610f-45ec-a6c8-44a048b6f7b3",
   "metadata": {},
   "outputs": [
    {
     "data": {
      "text/plain": [
       "[1, 3, 'four point nine', 3, 'how', 'are', 6, 'you', 6.8]"
      ]
     },
     "execution_count": 78,
     "metadata": {},
     "output_type": "execute_result"
    }
   ],
   "source": [
    "L"
   ]
  },
  {
   "cell_type": "code",
   "execution_count": 84,
   "id": "eb6844c4-6a2f-4180-8ff9-5b82fbce768f",
   "metadata": {},
   "outputs": [],
   "source": [
    "L3 = L[1:5]#slicing the list and copy value only not pointing"
   ]
  },
  {
   "cell_type": "code",
   "execution_count": 85,
   "id": "1bf430d7-1b60-4a23-861c-a00917ff34f4",
   "metadata": {},
   "outputs": [
    {
     "data": {
      "text/plain": [
       "[3, 'four point nine', 3, 'how']"
      ]
     },
     "execution_count": 85,
     "metadata": {},
     "output_type": "execute_result"
    }
   ],
   "source": [
    "L3"
   ]
  },
  {
   "cell_type": "code",
   "execution_count": 86,
   "id": "04e9036e-0619-467f-802e-dd8f38d2236d",
   "metadata": {},
   "outputs": [],
   "source": [
    "L3[0]=3456"
   ]
  },
  {
   "cell_type": "code",
   "execution_count": 87,
   "id": "7624beb5-c835-493f-a3ff-e250f7483599",
   "metadata": {},
   "outputs": [
    {
     "data": {
      "text/plain": [
       "[3456, 'four point nine', 3, 'how']"
      ]
     },
     "execution_count": 87,
     "metadata": {},
     "output_type": "execute_result"
    }
   ],
   "source": [
    "L3"
   ]
  },
  {
   "cell_type": "code",
   "execution_count": 88,
   "id": "1185b4ed-f201-4a69-adaa-dc72ee324d69",
   "metadata": {},
   "outputs": [
    {
     "data": {
      "text/plain": [
       "[1, 3, 'four point nine', 3, 'how', 'are', 6, 'you', 6.8]"
      ]
     },
     "execution_count": 88,
     "metadata": {},
     "output_type": "execute_result"
    }
   ],
   "source": [
    "L"
   ]
  },
  {
   "cell_type": "code",
   "execution_count": 89,
   "id": "5c8fbdbb-7977-434f-86f4-a6b86213046f",
   "metadata": {},
   "outputs": [
    {
     "name": "stdout",
     "output_type": "stream",
     "text": [
      "Help on built-in function append:\n",
      "\n",
      "append(object, /) method of builtins.list instance\n",
      "    Append object to the end of the list.\n",
      "\n"
     ]
    }
   ],
   "source": [
    "help(L.append)"
   ]
  },
  {
   "cell_type": "code",
   "execution_count": 90,
   "id": "653a223f-819a-44d9-9371-78f2b145e4f3",
   "metadata": {},
   "outputs": [
    {
     "data": {
      "text/plain": [
       "\u001b[0;31mSignature:\u001b[0m \u001b[0mL\u001b[0m\u001b[0;34m.\u001b[0m\u001b[0mclear\u001b[0m\u001b[0;34m(\u001b[0m\u001b[0;34m)\u001b[0m\u001b[0;34m\u001b[0m\u001b[0;34m\u001b[0m\u001b[0m\n",
       "\u001b[0;31mDocstring:\u001b[0m Remove all items from list.\n",
       "\u001b[0;31mType:\u001b[0m      builtin_function_or_method"
      ]
     },
     "metadata": {},
     "output_type": "display_data"
    }
   ],
   "source": [
    "L.clear?"
   ]
  },
  {
   "cell_type": "code",
   "execution_count": 91,
   "id": "7a30514f-472d-4911-91aa-794d50902e7b",
   "metadata": {},
   "outputs": [
    {
     "data": {
      "text/plain": [
       "\u001b[0;31mSignature:\u001b[0m \u001b[0mL\u001b[0m\u001b[0;34m.\u001b[0m\u001b[0mpop\u001b[0m\u001b[0;34m(\u001b[0m\u001b[0mindex\u001b[0m\u001b[0;34m=\u001b[0m\u001b[0;34m-\u001b[0m\u001b[0;36m1\u001b[0m\u001b[0;34m,\u001b[0m \u001b[0;34m/\u001b[0m\u001b[0;34m)\u001b[0m\u001b[0;34m\u001b[0m\u001b[0;34m\u001b[0m\u001b[0m\n",
       "\u001b[0;31mDocstring:\u001b[0m\n",
       "Remove and return item at index (default last).\n",
       "\n",
       "Raises IndexError if list is empty or index is out of range.\n",
       "\u001b[0;31mType:\u001b[0m      builtin_function_or_method"
      ]
     },
     "metadata": {},
     "output_type": "display_data"
    }
   ],
   "source": [
    "L.pop?"
   ]
  },
  {
   "cell_type": "code",
   "execution_count": 92,
   "id": "fb6f3623-9e6e-45af-bb06-d3a5bc189df9",
   "metadata": {},
   "outputs": [
    {
     "data": {
      "text/plain": [
       "[1, 3, 'four point nine', 3, 'how', 'are', 6, 'you', 6.8]"
      ]
     },
     "execution_count": 92,
     "metadata": {},
     "output_type": "execute_result"
    }
   ],
   "source": [
    "L"
   ]
  },
  {
   "cell_type": "code",
   "execution_count": 93,
   "id": "79c49452-ecaa-4b05-b8e0-02760d21b773",
   "metadata": {},
   "outputs": [],
   "source": [
    "L.reverse()"
   ]
  },
  {
   "cell_type": "code",
   "execution_count": 94,
   "id": "108a2cf9-fcc8-4c89-ba30-3284615529b7",
   "metadata": {},
   "outputs": [
    {
     "data": {
      "text/plain": [
       "[6.8, 'you', 6, 'are', 'how', 3, 'four point nine', 3, 1]"
      ]
     },
     "execution_count": 94,
     "metadata": {},
     "output_type": "execute_result"
    }
   ],
   "source": [
    "L"
   ]
  },
  {
   "cell_type": "code",
   "execution_count": 95,
   "id": "3d8cab78-6726-42d9-abed-3438f0d2eacb",
   "metadata": {},
   "outputs": [
    {
     "data": {
      "text/plain": [
       "[1, 3, 'four point nine', 3, 'how', 'are', 6, 'you', 6.8]"
      ]
     },
     "execution_count": 95,
     "metadata": {},
     "output_type": "execute_result"
    }
   ],
   "source": [
    "L[::-1]"
   ]
  },
  {
   "cell_type": "code",
   "execution_count": 103,
   "id": "5bfcc5f3-3c74-4a83-8ca1-75d6970e4adc",
   "metadata": {},
   "outputs": [],
   "source": [
    "x=[1,2,3,4,5]\n",
    "y=[6,7,8,9,10]"
   ]
  },
  {
   "cell_type": "code",
   "execution_count": 104,
   "id": "0ddcdba8-390e-45e0-97cb-b56d31f458b6",
   "metadata": {},
   "outputs": [],
   "source": [
    "x.append(y)"
   ]
  },
  {
   "cell_type": "code",
   "execution_count": 105,
   "id": "63b46348-10fe-4668-9610-0959c3906428",
   "metadata": {},
   "outputs": [
    {
     "data": {
      "text/plain": [
       "[1, 2, 3, 4, 5, [6, 7, 8, 9, 10]]"
      ]
     },
     "execution_count": 105,
     "metadata": {},
     "output_type": "execute_result"
    }
   ],
   "source": [
    "x"
   ]
  },
  {
   "cell_type": "code",
   "execution_count": 106,
   "id": "d558cd5f-6357-4a97-a685-3cf187712ec5",
   "metadata": {},
   "outputs": [
    {
     "data": {
      "text/plain": [
       "6"
      ]
     },
     "execution_count": 106,
     "metadata": {},
     "output_type": "execute_result"
    }
   ],
   "source": [
    "len(x)"
   ]
  },
  {
   "cell_type": "code",
   "execution_count": 107,
   "id": "29c8e36b-31b2-4337-8b1f-e31780a9bf0d",
   "metadata": {},
   "outputs": [
    {
     "data": {
      "text/plain": [
       "dict_items([(23, 'twothree'), ('B', 43), ('C', 'CCD'), ('newKey', 'newValue'), ('y', 'YY'), ('z', 10)])"
      ]
     },
     "execution_count": 107,
     "metadata": {},
     "output_type": "execute_result"
    }
   ],
   "source": [
    "D.items()"
   ]
  },
  {
   "cell_type": "code",
   "execution_count": 108,
   "id": "3ee2dbd3-2a08-4c4b-aed2-6252088d8b55",
   "metadata": {},
   "outputs": [
    {
     "data": {
      "text/plain": [
       "[6.8, 'you', 6, 'are', 'how', 3, 'four point nine', 3, 1]"
      ]
     },
     "execution_count": 108,
     "metadata": {},
     "output_type": "execute_result"
    }
   ],
   "source": [
    "L"
   ]
  },
  {
   "cell_type": "code",
   "execution_count": 109,
   "id": "30ddc2bb-aa9c-4c0d-9d34-df1dedac06e8",
   "metadata": {},
   "outputs": [
    {
     "data": {
      "text/plain": [
       "{1, 23, 3, 4.9, 56, 'name'}"
      ]
     },
     "execution_count": 109,
     "metadata": {},
     "output_type": "execute_result"
    }
   ],
   "source": [
    "S"
   ]
  },
  {
   "cell_type": "code",
   "execution_count": 110,
   "id": "ddf62b83-2bff-4037-a8a0-1105cf4ae864",
   "metadata": {},
   "outputs": [
    {
     "data": {
      "text/plain": [
       "(1, 3, 4.9, 'name', 3)"
      ]
     },
     "execution_count": 110,
     "metadata": {},
     "output_type": "execute_result"
    }
   ],
   "source": [
    "T"
   ]
  },
  {
   "cell_type": "code",
   "execution_count": 111,
   "id": "92ab90eb-2a2c-4a10-9004-ed617f55fef7",
   "metadata": {},
   "outputs": [
    {
     "data": {
      "text/plain": [
       "{23: 'twothree', 'B': 43, 'C': 'CCD', 'newKey': 'newValue', 'y': 'YY', 'z': 10}"
      ]
     },
     "execution_count": 111,
     "metadata": {},
     "output_type": "execute_result"
    }
   ],
   "source": [
    "D"
   ]
  },
  {
   "cell_type": "code",
   "execution_count": 114,
   "id": "e13cf7f0-4273-4c1d-b785-504a7849887b",
   "metadata": {},
   "outputs": [],
   "source": [
    "D2 = {'A':L,'B':T,'C':S,'D':D}# we added list,set,tupple and dict into another dist"
   ]
  },
  {
   "cell_type": "code",
   "execution_count": 115,
   "id": "fdad81d7-ce30-4e4c-a419-6a19394ea953",
   "metadata": {},
   "outputs": [
    {
     "data": {
      "text/plain": [
       "'are'"
      ]
     },
     "execution_count": 115,
     "metadata": {},
     "output_type": "execute_result"
    }
   ],
   "source": [
    "D2['A'][3]"
   ]
  },
  {
   "cell_type": "code",
   "execution_count": 116,
   "id": "b21d56b8-6fc8-43d7-a2e3-76d003f6c11f",
   "metadata": {},
   "outputs": [
    {
     "data": {
      "text/plain": [
       "[6.8, 'you', 6, 'are', 'how', 3, 'four point nine', 3, 1]"
      ]
     },
     "execution_count": 116,
     "metadata": {},
     "output_type": "execute_result"
    }
   ],
   "source": [
    "D2['A']"
   ]
  },
  {
   "cell_type": "code",
   "execution_count": 117,
   "id": "0a60b5a9-f84e-43f5-9c4a-d8786739d3b6",
   "metadata": {},
   "outputs": [],
   "source": [
    "K = D2['D']"
   ]
  },
  {
   "cell_type": "code",
   "execution_count": 118,
   "id": "a2f95477-d736-4d62-8ec8-e4adb837384b",
   "metadata": {},
   "outputs": [
    {
     "data": {
      "text/plain": [
       "{23: 'twothree', 'B': 43, 'C': 'CCD', 'newKey': 'newValue', 'y': 'YY', 'z': 10}"
      ]
     },
     "execution_count": 118,
     "metadata": {},
     "output_type": "execute_result"
    }
   ],
   "source": [
    "K"
   ]
  },
  {
   "cell_type": "code",
   "execution_count": 119,
   "id": "78fdfa77-3e82-43f9-bf31-10040d5784aa",
   "metadata": {},
   "outputs": [
    {
     "name": "stdout",
     "output_type": "stream",
     "text": [
      "23 twothree\n",
      "B 43\n",
      "C CCD\n",
      "newKey newValue\n",
      "y YY\n",
      "z 10\n"
     ]
    }
   ],
   "source": [
    "for x in K:\n",
    "    print(x,K[x])"
   ]
  },
  {
   "cell_type": "code",
   "execution_count": 120,
   "id": "764f6f82-8039-4c95-a541-13f2d4816154",
   "metadata": {},
   "outputs": [],
   "source": [
    "L3 = [L,T,D,23,\"game\"]"
   ]
  },
  {
   "cell_type": "code",
   "execution_count": 121,
   "id": "878f3c43-86ed-4672-8fee-23131d549644",
   "metadata": {},
   "outputs": [
    {
     "data": {
      "text/plain": [
       "[[6.8, 'you', 6, 'are', 'how', 3, 'four point nine', 3, 1],\n",
       " (1, 3, 4.9, 'name', 3),\n",
       " {23: 'twothree',\n",
       "  'B': 43,\n",
       "  'C': 'CCD',\n",
       "  'newKey': 'newValue',\n",
       "  'y': 'YY',\n",
       "  'z': 10},\n",
       " 23,\n",
       " 'game']"
      ]
     },
     "execution_count": 121,
     "metadata": {},
     "output_type": "execute_result"
    }
   ],
   "source": [
    "L3"
   ]
  },
  {
   "cell_type": "code",
   "execution_count": 122,
   "id": "be8f3da9-a328-4461-a933-b750a6f58e1d",
   "metadata": {},
   "outputs": [
    {
     "data": {
      "text/plain": [
       "{23: 'twothree', 'B': 43, 'C': 'CCD', 'newKey': 'newValue', 'y': 'YY', 'z': 10}"
      ]
     },
     "execution_count": 122,
     "metadata": {},
     "output_type": "execute_result"
    }
   ],
   "source": [
    "L3[2]"
   ]
  },
  {
   "cell_type": "code",
   "execution_count": 123,
   "id": "879e130f-78ff-4855-857a-bca8212b9a31",
   "metadata": {},
   "outputs": [
    {
     "data": {
      "text/plain": [
       "dict"
      ]
     },
     "execution_count": 123,
     "metadata": {},
     "output_type": "execute_result"
    }
   ],
   "source": [
    "type(L3[2])"
   ]
  },
  {
   "cell_type": "code",
   "execution_count": 124,
   "id": "8d787df1-c0d7-4800-968f-0a279a967601",
   "metadata": {},
   "outputs": [],
   "source": [
    "L3 = [x**2 for x in range(10)]"
   ]
  },
  {
   "cell_type": "code",
   "execution_count": 125,
   "id": "0853478c-b655-4ddd-8410-b3fa6ab47221",
   "metadata": {},
   "outputs": [
    {
     "data": {
      "text/plain": [
       "[0, 1, 4, 9, 16, 25, 36, 49, 64, 81]"
      ]
     },
     "execution_count": 125,
     "metadata": {},
     "output_type": "execute_result"
    }
   ],
   "source": [
    "L3"
   ]
  },
  {
   "cell_type": "code",
   "execution_count": 128,
   "id": "bf43dd16-ea56-4945-b892-24e7d6737679",
   "metadata": {},
   "outputs": [],
   "source": [
    "S3 = {x**4 for x in range(2,20,3)}"
   ]
  },
  {
   "cell_type": "code",
   "execution_count": 129,
   "id": "653db50f-0af8-4d53-b53b-1ca057870545",
   "metadata": {},
   "outputs": [
    {
     "data": {
      "text/plain": [
       "{16, 625, 4096, 14641, 38416, 83521}"
      ]
     },
     "execution_count": 129,
     "metadata": {},
     "output_type": "execute_result"
    }
   ],
   "source": [
    "S3"
   ]
  },
  {
   "cell_type": "code",
   "execution_count": 130,
   "id": "f3e750a8-30bf-48e1-a3dc-6699d71f133a",
   "metadata": {},
   "outputs": [
    {
     "data": {
      "text/plain": [
       "{23: 'twothree', 'B': 43, 'C': 'CCD', 'newKey': 'newValue', 'y': 'YY', 'z': 10}"
      ]
     },
     "execution_count": 130,
     "metadata": {},
     "output_type": "execute_result"
    }
   ],
   "source": [
    "D"
   ]
  },
  {
   "cell_type": "code",
   "execution_count": 131,
   "id": "ec2e4397-cfb0-4ffb-87c0-78213a655df3",
   "metadata": {},
   "outputs": [
    {
     "data": {
      "text/plain": [
       "True"
      ]
     },
     "execution_count": 131,
     "metadata": {},
     "output_type": "execute_result"
    }
   ],
   "source": [
    "23 in D"
   ]
  },
  {
   "cell_type": "code",
   "execution_count": 132,
   "id": "8a59ab7f-e0d2-4a21-9b0a-b80d97a857ed",
   "metadata": {},
   "outputs": [
    {
     "data": {
      "text/plain": [
       "False"
      ]
     },
     "execution_count": 132,
     "metadata": {},
     "output_type": "execute_result"
    }
   ],
   "source": [
    "54 in D"
   ]
  },
  {
   "cell_type": "code",
   "execution_count": 135,
   "id": "eb99fa72-faa2-494f-bb00-73a7e991e421",
   "metadata": {},
   "outputs": [
    {
     "data": {
      "text/plain": [
       "False"
      ]
     },
     "execution_count": 135,
     "metadata": {},
     "output_type": "execute_result"
    }
   ],
   "source": [
    "10 in D # it will check the  key not its value "
   ]
  },
  {
   "cell_type": "code",
   "execution_count": 136,
   "id": "099f19e7-ed72-41f4-9760-7e0596eeafd0",
   "metadata": {},
   "outputs": [],
   "source": [
    "\"\"\"Let say you are a teacher and you have different student\n",
    "records containing id of a student and the marks list in each subject\n",
    "where different students have taken different number of subjects. All\n",
    "these records are in hard copy. You want to enter all the data in computer\n",
    "and want to compute the average marks of each student and display\"\"\"\n",
    "\n",
    "def getDataFromUser():\n",
    "    D = {}\n",
    "    while True:\n",
    "        studentId = input(\"Enter student ID: \")\n",
    "        marksList = input(\"Enter the marks by comma separted values: \")\n",
    "        moreStudents = input('Enter \"no\" to quit insertion: ')\n",
    "        if studentId in D:\n",
    "            print(studentId, \"is already insterted\")\n",
    "        else:\n",
    "            D[studentId] = marksList.split(\",\")\n",
    "        if moreStudents.lower() == \"no\":\n",
    "            return D"
   ]
  },
  {
   "cell_type": "code",
   "execution_count": 141,
   "id": "8cbc9645-af6e-4b26-9c32-d702459a7355",
   "metadata": {},
   "outputs": [
    {
     "name": "stdin",
     "output_type": "stream",
     "text": [
      "Enter student ID:  10\n",
      "Enter the marks by comma separted values:  10,12,13,14\n",
      "Enter \"no\" to quit insertion:  q\n",
      "Enter student ID:  11\n",
      "Enter the marks by comma separted values:  1,24,56,76\n",
      "Enter \"no\" to quit insertion:  q\n",
      "Enter student ID:  13\n",
      "Enter the marks by comma separted values:  54,34,67,43\n",
      "Enter \"no\" to quit insertion:  no\n"
     ]
    }
   ],
   "source": [
    "studentData = getDataFromUser()"
   ]
  },
  {
   "cell_type": "code",
   "execution_count": 142,
   "id": "abd08980-9fba-4914-93fc-7a72d32ab748",
   "metadata": {},
   "outputs": [
    {
     "data": {
      "text/plain": [
       "{'10': ['10', '12', '13', '14'],\n",
       " '11': ['1', '24', '56', '76'],\n",
       " '13': ['54', '34', '67', '43']}"
      ]
     },
     "execution_count": 142,
     "metadata": {},
     "output_type": "execute_result"
    }
   ],
   "source": [
    "studentData"
   ]
  },
  {
   "cell_type": "code",
   "execution_count": 143,
   "id": "9973f8de-0866-4f29-99f9-e4ca043891ea",
   "metadata": {},
   "outputs": [],
   "source": [
    "def getAvgMarks(D):\n",
    "    avgMarks = {}\n",
    "    for x in D:\n",
    "        L = D[x]\n",
    "        s = 0\n",
    "        for marks in L:\n",
    "            s += int(marks)\n",
    "        avgMarks[x] = s/len(L)\n",
    "    return avgMarks"
   ]
  },
  {
   "cell_type": "code",
   "execution_count": 144,
   "id": "a05eba09-50a4-492d-a8c9-9081a7a7c4f6",
   "metadata": {},
   "outputs": [],
   "source": [
    "avgM = getAvgMarks(studentData)"
   ]
  },
  {
   "cell_type": "code",
   "execution_count": 145,
   "id": "b36bddec-fe89-4d06-9af2-97275dad1b55",
   "metadata": {},
   "outputs": [
    {
     "data": {
      "text/plain": [
       "{'10': 12.25, '11': 39.25, '13': 49.5}"
      ]
     },
     "execution_count": 145,
     "metadata": {},
     "output_type": "execute_result"
    }
   ],
   "source": [
    "avgM"
   ]
  },
  {
   "cell_type": "code",
   "execution_count": 146,
   "id": "5e9fae58-40c5-4e07-9f51-ed9dd0f592fe",
   "metadata": {},
   "outputs": [
    {
     "name": "stdout",
     "output_type": "stream",
     "text": [
      "Student : 10 got avg Marks as:  12.25\n",
      "Student : 11 got avg Marks as:  39.25\n",
      "Student : 13 got avg Marks as:  49.5\n"
     ]
    }
   ],
   "source": [
    "for x in avgM:\n",
    "    print(\"Student :\",x,\"got avg Marks as: \",avgM[x])"
   ]
  },
  {
   "cell_type": "markdown",
   "id": "a2d271df-280e-46ca-b3ac-44dbe0554282",
   "metadata": {},
   "source": [
    "# Numpy"
   ]
  },
  {
   "cell_type": "code",
   "execution_count": 147,
   "id": "d74792ea-0bc6-4c81-b8c0-32554d7e55d3",
   "metadata": {},
   "outputs": [],
   "source": [
    "# why numpy? : numpy is faster"
   ]
  },
  {
   "cell_type": "code",
   "execution_count": 148,
   "id": "957804f2-1637-419b-b60c-90e2de341aa1",
   "metadata": {},
   "outputs": [],
   "source": [
    "import numpy as np"
   ]
  },
  {
   "cell_type": "code",
   "execution_count": 149,
   "id": "7045146b-35f5-496f-9b8b-a849ddef1412",
   "metadata": {},
   "outputs": [
    {
     "name": "stdout",
     "output_type": "stream",
     "text": [
      "[1 2 3 4 5]\n",
      "[ 6  7  8  9 10 11 12]\n"
     ]
    }
   ],
   "source": [
    "a=np.array([1,2,3,4,5])\n",
    "b=np.array([6,7,8,9,10,11,12])\n",
    "print(a)\n",
    "print(b)"
   ]
  },
  {
   "cell_type": "code",
   "execution_count": 150,
   "id": "97f7c338-8cd5-4301-a150-97063b115d3f",
   "metadata": {},
   "outputs": [],
   "source": [
    "a = np.array([1,2,3,5,7])# this a list "
   ]
  },
  {
   "cell_type": "code",
   "execution_count": 151,
   "id": "dd978dfb-9096-4c50-80cf-9f2efbc63e60",
   "metadata": {},
   "outputs": [],
   "source": [
    "b=np.array((1,2,3,4,5))# thsi is a tupple"
   ]
  },
  {
   "cell_type": "code",
   "execution_count": 152,
   "id": "56a4b760-1942-496f-b17b-4a4354ed48ac",
   "metadata": {},
   "outputs": [
    {
     "data": {
      "text/plain": [
       "numpy.ndarray"
      ]
     },
     "execution_count": 152,
     "metadata": {},
     "output_type": "execute_result"
    }
   ],
   "source": [
    "type(a)"
   ]
  },
  {
   "cell_type": "code",
   "execution_count": 153,
   "id": "b9e3e12f-7b1a-4f6b-b1f9-8a7036850d16",
   "metadata": {},
   "outputs": [
    {
     "data": {
      "text/plain": [
       "numpy.ndarray"
      ]
     },
     "execution_count": 153,
     "metadata": {},
     "output_type": "execute_result"
    }
   ],
   "source": [
    "type(b)"
   ]
  },
  {
   "cell_type": "code",
   "execution_count": 154,
   "id": "1bae04bc-2b8e-49bb-bb9d-bd870649478e",
   "metadata": {},
   "outputs": [
    {
     "data": {
      "text/plain": [
       "dtype('int64')"
      ]
     },
     "execution_count": 154,
     "metadata": {},
     "output_type": "execute_result"
    }
   ],
   "source": [
    "a.dtype"
   ]
  },
  {
   "cell_type": "code",
   "execution_count": 155,
   "id": "8df16047-4747-4f86-b2ca-d3ea2486b28d",
   "metadata": {},
   "outputs": [],
   "source": [
    "#dtype i is int dtype f is float"
   ]
  },
  {
   "cell_type": "code",
   "execution_count": 156,
   "id": "3d5e4985-e92b-4e74-b4e8-965fed092bb0",
   "metadata": {},
   "outputs": [],
   "source": [
    "a = np.array([1,2,3,5,7],dtype='i')"
   ]
  },
  {
   "cell_type": "code",
   "execution_count": 157,
   "id": "e5e26edd-e9ee-4001-9115-2012a998a919",
   "metadata": {},
   "outputs": [],
   "source": [
    "b = np.array((2,3,5),dtype='f')"
   ]
  },
  {
   "cell_type": "code",
   "execution_count": 158,
   "id": "882ff7c9-37da-4771-9b14-103cd433f462",
   "metadata": {},
   "outputs": [
    {
     "data": {
      "text/plain": [
       "dtype('int32')"
      ]
     },
     "execution_count": 158,
     "metadata": {},
     "output_type": "execute_result"
    }
   ],
   "source": [
    "a.dtype"
   ]
  },
  {
   "cell_type": "code",
   "execution_count": 159,
   "id": "630c7b77-d944-4d9d-aa06-791fde2fc953",
   "metadata": {},
   "outputs": [
    {
     "data": {
      "text/plain": [
       "dtype('float32')"
      ]
     },
     "execution_count": 159,
     "metadata": {},
     "output_type": "execute_result"
    }
   ],
   "source": [
    "b.dtype"
   ]
  },
  {
   "cell_type": "code",
   "execution_count": 168,
   "id": "c920be4d-6f56-498c-8032-0bb882662397",
   "metadata": {},
   "outputs": [],
   "source": [
    "#ndim tells how many dimensiions re there like one array or 2 d arry or 3d array etc"
   ]
  },
  {
   "cell_type": "code",
   "execution_count": 161,
   "id": "6330a230-51a0-4266-8d2f-072d3fdab4ff",
   "metadata": {},
   "outputs": [],
   "source": [
    "a = np.array([[1,2,3],[4,5,6]])"
   ]
  },
  {
   "cell_type": "code",
   "execution_count": 162,
   "id": "c5d7ac63-5c26-4ce8-bf63-9db2251fc8bd",
   "metadata": {},
   "outputs": [
    {
     "data": {
      "text/plain": [
       "2"
      ]
     },
     "execution_count": 162,
     "metadata": {},
     "output_type": "execute_result"
    }
   ],
   "source": [
    "a.ndim"
   ]
  },
  {
   "cell_type": "code",
   "execution_count": 163,
   "id": "4320a637-e58a-43e7-8437-604c22d54906",
   "metadata": {},
   "outputs": [],
   "source": [
    "b=np.array([1,2,3,4])"
   ]
  },
  {
   "cell_type": "code",
   "execution_count": 164,
   "id": "65d7c30f-d3e5-4c08-af9a-66b713fbf1fb",
   "metadata": {},
   "outputs": [
    {
     "data": {
      "text/plain": [
       "1"
      ]
     },
     "execution_count": 164,
     "metadata": {},
     "output_type": "execute_result"
    }
   ],
   "source": [
    "b.ndim"
   ]
  },
  {
   "cell_type": "code",
   "execution_count": 165,
   "id": "046e24f7-bb1d-4bb2-9a9a-820ae1fc0220",
   "metadata": {},
   "outputs": [],
   "source": [
    "C = np.array([[[1,2,3],[4,5,6],[0,0,-1]],[[-1,-2,-3],[-4,-5,-6],[0,0,1]]])"
   ]
  },
  {
   "cell_type": "code",
   "execution_count": 167,
   "id": "f11a325d-70c4-4347-8eea-0e8afb8e3827",
   "metadata": {},
   "outputs": [
    {
     "data": {
      "text/plain": [
       "3"
      ]
     },
     "execution_count": 167,
     "metadata": {},
     "output_type": "execute_result"
    }
   ],
   "source": [
    "C.ndim"
   ]
  },
  {
   "cell_type": "code",
   "execution_count": 169,
   "id": "25bc4f95-79b4-4cfa-8d6c-e764f70a8d8a",
   "metadata": {},
   "outputs": [
    {
     "data": {
      "text/plain": [
       "3"
      ]
     },
     "execution_count": 169,
     "metadata": {},
     "output_type": "execute_result"
    }
   ],
   "source": [
    "a[0,2]"
   ]
  },
  {
   "cell_type": "code",
   "execution_count": 171,
   "id": "b68b0f4c-5819-4b56-b2c5-53a15fb82006",
   "metadata": {},
   "outputs": [
    {
     "ename": "IndexError",
     "evalue": "too many indices for array: array is 1-dimensional, but 2 were indexed",
     "output_type": "error",
     "traceback": [
      "\u001b[0;31m---------------------------------------------------------------------------\u001b[0m",
      "\u001b[0;31mIndexError\u001b[0m                                Traceback (most recent call last)",
      "Cell \u001b[0;32mIn[171], line 1\u001b[0m\n\u001b[0;32m----> 1\u001b[0m \u001b[43mb\u001b[49m\u001b[43m[\u001b[49m\u001b[38;5;241;43m1\u001b[39;49m\u001b[43m,\u001b[49m\u001b[38;5;241;43m2\u001b[39;49m\u001b[43m]\u001b[49m\n",
      "\u001b[0;31mIndexError\u001b[0m: too many indices for array: array is 1-dimensional, but 2 were indexed"
     ]
    }
   ],
   "source": [
    "b[1,2]"
   ]
  },
  {
   "cell_type": "code",
   "execution_count": 172,
   "id": "c69a3688-1f13-4b5b-ac59-626376da4794",
   "metadata": {},
   "outputs": [
    {
     "data": {
      "text/plain": [
       "3"
      ]
     },
     "execution_count": 172,
     "metadata": {},
     "output_type": "execute_result"
    }
   ],
   "source": [
    "C.shape[2]"
   ]
  },
  {
   "cell_type": "code",
   "execution_count": 173,
   "id": "66621c25-0fd6-4b26-96a4-44b5878e0da4",
   "metadata": {},
   "outputs": [
    {
     "data": {
      "text/plain": [
       "-3"
      ]
     },
     "execution_count": 173,
     "metadata": {},
     "output_type": "execute_result"
    }
   ],
   "source": [
    "C[1,0,2]"
   ]
  },
  {
   "cell_type": "code",
   "execution_count": 175,
   "id": "e17bb3f1-eccd-406b-b78f-518e94cc7b6f",
   "metadata": {},
   "outputs": [
    {
     "data": {
      "text/plain": [
       "(2, 3, 3)"
      ]
     },
     "execution_count": 175,
     "metadata": {},
     "output_type": "execute_result"
    }
   ],
   "source": [
    "C.shape# tells us know many array are in each arrys"
   ]
  },
  {
   "cell_type": "code",
   "execution_count": 176,
   "id": "197d04bc-4022-445c-adaf-36da6644669c",
   "metadata": {},
   "outputs": [],
   "source": [
    "A = np.array([2])"
   ]
  },
  {
   "cell_type": "code",
   "execution_count": 177,
   "id": "67a8f6e3-4265-49d2-a411-72884c0aba70",
   "metadata": {},
   "outputs": [
    {
     "data": {
      "text/plain": [
       "1"
      ]
     },
     "execution_count": 177,
     "metadata": {},
     "output_type": "execute_result"
    }
   ],
   "source": [
    "A.ndim"
   ]
  },
  {
   "cell_type": "code",
   "execution_count": 178,
   "id": "bcdc4569-589c-4518-a97c-bc98ef9d3610",
   "metadata": {},
   "outputs": [],
   "source": [
    "B = np.array(3)"
   ]
  },
  {
   "cell_type": "code",
   "execution_count": 179,
   "id": "76f9b7eb-34be-4689-8040-73fcc388bac0",
   "metadata": {},
   "outputs": [
    {
     "data": {
      "text/plain": [
       "0"
      ]
     },
     "execution_count": 179,
     "metadata": {},
     "output_type": "execute_result"
    }
   ],
   "source": [
    "B.ndim"
   ]
  },
  {
   "cell_type": "code",
   "execution_count": 180,
   "id": "98257798-42b4-47b1-8eea-2e00bc09f64b",
   "metadata": {},
   "outputs": [],
   "source": [
    "#just one number is 0d many 0d is 1d array many 1d array is 2d arraya nd so on "
   ]
  },
  {
   "cell_type": "code",
   "execution_count": 181,
   "id": "10bc135c-952d-4ab2-b094-69fb902c80e9",
   "metadata": {},
   "outputs": [
    {
     "data": {
      "text/plain": [
       "18"
      ]
     },
     "execution_count": 181,
     "metadata": {},
     "output_type": "execute_result"
    }
   ],
   "source": [
    "C.size#total number of elements "
   ]
  },
  {
   "cell_type": "code",
   "execution_count": 182,
   "id": "25660ac7-4491-4df7-a8e9-7a044128dba3",
   "metadata": {},
   "outputs": [
    {
     "data": {
      "text/plain": [
       "144"
      ]
     },
     "execution_count": 182,
     "metadata": {},
     "output_type": "execute_result"
    }
   ],
   "source": [
    "C.nbytes# how much bites it is taking "
   ]
  },
  {
   "cell_type": "code",
   "execution_count": 184,
   "id": "4bae7538-e307-44e2-95b1-682655c435b1",
   "metadata": {},
   "outputs": [],
   "source": [
    "# numpy arange , reshape and random"
   ]
  },
  {
   "cell_type": "code",
   "execution_count": 185,
   "id": "39ae31f5-e415-43b3-b9b1-cd651728eaf7",
   "metadata": {},
   "outputs": [],
   "source": [
    "a=np.arange(100)"
   ]
  },
  {
   "cell_type": "code",
   "execution_count": 186,
   "id": "1857c9c9-0793-46d7-aeba-d3d342620a16",
   "metadata": {},
   "outputs": [
    {
     "name": "stdout",
     "output_type": "stream",
     "text": [
      "[ 0  1  2  3  4  5  6  7  8  9 10 11 12 13 14 15 16 17 18 19 20 21 22 23\n",
      " 24 25 26 27 28 29 30 31 32 33 34 35 36 37 38 39 40 41 42 43 44 45 46 47\n",
      " 48 49 50 51 52 53 54 55 56 57 58 59 60 61 62 63 64 65 66 67 68 69 70 71\n",
      " 72 73 74 75 76 77 78 79 80 81 82 83 84 85 86 87 88 89 90 91 92 93 94 95\n",
      " 96 97 98 99]\n"
     ]
    }
   ],
   "source": [
    "print(a)"
   ]
  },
  {
   "cell_type": "code",
   "execution_count": 190,
   "id": "7dc07ecd-c9cb-4320-9de6-c5d55f1a0dd1",
   "metadata": {},
   "outputs": [],
   "source": [
    "b=np.arange(20,143,3)"
   ]
  },
  {
   "cell_type": "code",
   "execution_count": 191,
   "id": "5dcf9fe3-9415-49c4-ac20-625bd10a9f44",
   "metadata": {},
   "outputs": [
    {
     "name": "stdout",
     "output_type": "stream",
     "text": [
      "[ 20  23  26  29  32  35  38  41  44  47  50  53  56  59  62  65  68  71\n",
      "  74  77  80  83  86  89  92  95  98 101 104 107 110 113 116 119 122 125\n",
      " 128 131 134 137 140]\n"
     ]
    }
   ],
   "source": [
    "print(b)"
   ]
  },
  {
   "cell_type": "code",
   "execution_count": 189,
   "id": "fa91b54b-2b6d-46c2-a13c-24a8c8f412c6",
   "metadata": {},
   "outputs": [],
   "source": [
    "#similar like for in ranmge function "
   ]
  },
  {
   "cell_type": "code",
   "execution_count": 192,
   "id": "e213677d-a375-4488-8333-af8e2e4c9bc1",
   "metadata": {},
   "outputs": [
    {
     "name": "stdout",
     "output_type": "stream",
     "text": [
      "range(0, 10)\n"
     ]
    }
   ],
   "source": [
    "print(range(10))"
   ]
  },
  {
   "cell_type": "code",
   "execution_count": 194,
   "id": "42c078b9-30f9-4db9-91ff-d7060aace44f",
   "metadata": {},
   "outputs": [
    {
     "name": "stdout",
     "output_type": "stream",
     "text": [
      "[0, 1, 2, 3, 4, 5, 6, 7, 8, 9]\n"
     ]
    }
   ],
   "source": [
    "print(list(range(10)))"
   ]
  },
  {
   "cell_type": "code",
   "execution_count": 195,
   "id": "2228b34e-6553-44e0-b8f8-cbb5dea166d7",
   "metadata": {},
   "outputs": [],
   "source": [
    "a=np.random.permutation(np.arange(10))"
   ]
  },
  {
   "cell_type": "code",
   "execution_count": 196,
   "id": "400dfd65-3036-4844-afce-24d19788ec94",
   "metadata": {},
   "outputs": [
    {
     "name": "stdout",
     "output_type": "stream",
     "text": [
      "[9 5 1 2 7 0 3 6 4 8]\n"
     ]
    }
   ],
   "source": [
    "print(a)"
   ]
  },
  {
   "cell_type": "code",
   "execution_count": 197,
   "id": "079c4393-8c78-41f5-a865-b23444773d6c",
   "metadata": {},
   "outputs": [
    {
     "data": {
      "text/plain": [
       "\u001b[0;31mDocstring:\u001b[0m\n",
       "randint(low, high=None, size=None, dtype=int)\n",
       "\n",
       "Return random integers from `low` (inclusive) to `high` (exclusive).\n",
       "\n",
       "Return random integers from the \"discrete uniform\" distribution of\n",
       "the specified dtype in the \"half-open\" interval [`low`, `high`). If\n",
       "`high` is None (the default), then results are from [0, `low`).\n",
       "\n",
       ".. note::\n",
       "    New code should use the `~numpy.random.Generator.integers`\n",
       "    method of a `~numpy.random.Generator` instance instead;\n",
       "    please see the :ref:`random-quick-start`.\n",
       "\n",
       "Parameters\n",
       "----------\n",
       "low : int or array-like of ints\n",
       "    Lowest (signed) integers to be drawn from the distribution (unless\n",
       "    ``high=None``, in which case this parameter is one above the\n",
       "    *highest* such integer).\n",
       "high : int or array-like of ints, optional\n",
       "    If provided, one above the largest (signed) integer to be drawn\n",
       "    from the distribution (see above for behavior if ``high=None``).\n",
       "    If array-like, must contain integer values\n",
       "size : int or tuple of ints, optional\n",
       "    Output shape.  If the given shape is, e.g., ``(m, n, k)``, then\n",
       "    ``m * n * k`` samples are drawn.  Default is None, in which case a\n",
       "    single value is returned.\n",
       "dtype : dtype, optional\n",
       "    Desired dtype of the result. Byteorder must be native.\n",
       "    The default value is int.\n",
       "\n",
       "    .. versionadded:: 1.11.0\n",
       "\n",
       "Returns\n",
       "-------\n",
       "out : int or ndarray of ints\n",
       "    `size`-shaped array of random integers from the appropriate\n",
       "    distribution, or a single such random int if `size` not provided.\n",
       "\n",
       "See Also\n",
       "--------\n",
       "random_integers : similar to `randint`, only for the closed\n",
       "    interval [`low`, `high`], and 1 is the lowest value if `high` is\n",
       "    omitted.\n",
       "random.Generator.integers: which should be used for new code.\n",
       "\n",
       "Examples\n",
       "--------\n",
       ">>> np.random.randint(2, size=10)\n",
       "array([1, 0, 0, 0, 1, 1, 0, 0, 1, 0]) # random\n",
       ">>> np.random.randint(1, size=10)\n",
       "array([0, 0, 0, 0, 0, 0, 0, 0, 0, 0])\n",
       "\n",
       "Generate a 2 x 4 array of ints between 0 and 4, inclusive:\n",
       "\n",
       ">>> np.random.randint(5, size=(2, 4))\n",
       "array([[4, 0, 2, 1], # random\n",
       "       [3, 2, 2, 0]])\n",
       "\n",
       "Generate a 1 x 3 array with 3 different upper bounds\n",
       "\n",
       ">>> np.random.randint(1, [3, 5, 10])\n",
       "array([2, 2, 9]) # random\n",
       "\n",
       "Generate a 1 by 3 array with 3 different lower bounds\n",
       "\n",
       ">>> np.random.randint([1, 5, 7], 10)\n",
       "array([9, 8, 7]) # random\n",
       "\n",
       "Generate a 2 by 4 array using broadcasting with dtype of uint8\n",
       "\n",
       ">>> np.random.randint([1, 3, 5, 7], [[10], [20]], dtype=np.uint8)\n",
       "array([[ 8,  6,  9,  7], # random\n",
       "       [ 1, 16,  9, 12]], dtype=uint8)\n",
       "\u001b[0;31mType:\u001b[0m      builtin_function_or_method"
      ]
     },
     "metadata": {},
     "output_type": "display_data"
    }
   ],
   "source": [
    "np.random.randint?"
   ]
  },
  {
   "cell_type": "code",
   "execution_count": 201,
   "id": "46146ff4-44fe-4c95-9fce-3d19cfd6c04e",
   "metadata": {},
   "outputs": [],
   "source": [
    "v=np.random.randint(20,45)# genertae a random number between range "
   ]
  },
  {
   "cell_type": "code",
   "execution_count": 202,
   "id": "7d610e57-5bf0-4240-88bd-b76806da2182",
   "metadata": {},
   "outputs": [
    {
     "name": "stdout",
     "output_type": "stream",
     "text": [
      "<class 'int'>\n"
     ]
    }
   ],
   "source": [
    "print(type(v))"
   ]
  },
  {
   "cell_type": "code",
   "execution_count": 203,
   "id": "26ba62ea-2f17-41ce-9835-43a65137fb8d",
   "metadata": {},
   "outputs": [
    {
     "data": {
      "text/plain": [
       "31"
      ]
     },
     "execution_count": 203,
     "metadata": {},
     "output_type": "execute_result"
    }
   ],
   "source": [
    "v"
   ]
  },
  {
   "cell_type": "code",
   "execution_count": 205,
   "id": "e055e71f-c3f6-4650-bb38-510c6e171d3d",
   "metadata": {},
   "outputs": [],
   "source": [
    "c= np.random.rand(1000)"
   ]
  },
  {
   "cell_type": "code",
   "execution_count": 206,
   "id": "5e00f681-0ede-4f01-901d-a8e4ad00dad1",
   "metadata": {},
   "outputs": [
    {
     "data": {
      "text/plain": [
       "array([5.84067566e-01, 6.98684302e-01, 7.84912685e-01, 5.99158876e-01,\n",
       "       5.22572751e-01, 2.65038086e-01, 5.94558745e-01, 3.88484207e-01,\n",
       "       5.20228562e-01, 7.57136244e-01, 8.96114210e-01, 4.17890304e-02,\n",
       "       2.20935368e-01, 1.23933166e-01, 7.42282959e-01, 8.66643299e-01,\n",
       "       1.57255316e-01, 5.84674561e-01, 3.08611792e-01, 2.40369586e-01,\n",
       "       7.01233743e-01, 6.00343865e-01, 8.30244471e-01, 4.84388546e-01,\n",
       "       5.30729340e-01, 2.96073143e-01, 7.57196564e-01, 1.79222386e-01,\n",
       "       7.74058758e-01, 5.70860570e-01, 9.34218946e-01, 1.78310455e-02,\n",
       "       7.17368394e-01, 1.10842010e-01, 5.45084359e-01, 7.55092530e-01,\n",
       "       1.25801142e-01, 2.12797865e-01, 8.82455104e-01, 8.98276000e-01,\n",
       "       3.94038157e-01, 1.72245084e-01, 5.21484226e-01, 6.60449360e-01,\n",
       "       1.67586788e-01, 2.38405995e-01, 6.22926632e-01, 3.43090529e-01,\n",
       "       9.51710749e-01, 4.42199701e-01, 9.57212384e-01, 7.25484250e-01,\n",
       "       7.12454082e-01, 3.78641284e-01, 1.02942174e-01, 7.67573735e-01,\n",
       "       7.91508700e-01, 7.57200297e-01, 8.89965365e-01, 7.73559879e-01,\n",
       "       3.86323081e-01, 9.00347121e-01, 4.80602163e-02, 3.57358071e-01,\n",
       "       4.31455424e-01, 7.89064174e-01, 5.09431973e-01, 4.23445292e-01,\n",
       "       4.64195247e-02, 5.27680433e-01, 8.78231856e-01, 2.27934500e-01,\n",
       "       7.61295324e-02, 2.13928629e-01, 5.58554709e-01, 8.09742208e-01,\n",
       "       9.77162557e-01, 1.74531489e-01, 5.78067188e-01, 4.51225662e-01,\n",
       "       2.56204816e-01, 5.20530815e-01, 1.12344333e-01, 5.33479382e-02,\n",
       "       3.09629197e-01, 4.60547198e-01, 9.06096710e-01, 6.87466571e-01,\n",
       "       2.74471985e-01, 2.74855464e-01, 9.80691236e-01, 6.02937075e-01,\n",
       "       5.75715681e-01, 2.74927803e-01, 5.58662501e-01, 5.34759716e-01,\n",
       "       1.29663541e-01, 7.04902260e-01, 2.82981592e-01, 4.72949134e-01,\n",
       "       5.40029176e-01, 8.26716228e-01, 9.20056304e-01, 3.79683243e-01,\n",
       "       6.94176464e-01, 2.51979641e-01, 1.25923257e-01, 9.55080159e-01,\n",
       "       3.18042991e-01, 1.40122304e-01, 2.61241711e-01, 1.09686241e-01,\n",
       "       3.53333096e-01, 5.77094098e-01, 6.38537847e-02, 5.61826557e-01,\n",
       "       5.95327297e-01, 9.36317322e-01, 9.23970059e-01, 9.91834714e-01,\n",
       "       7.31882620e-01, 8.04471564e-01, 6.43206205e-01, 1.13211965e-01,\n",
       "       8.46262059e-01, 4.23674779e-01, 3.20590159e-01, 9.13544909e-03,\n",
       "       5.15498643e-01, 4.54191521e-02, 9.24424098e-01, 1.61368756e-01,\n",
       "       5.33751379e-01, 1.70091570e-01, 7.51038285e-01, 1.65529556e-01,\n",
       "       1.64099150e-01, 8.58473944e-01, 2.14379438e-01, 7.39509526e-01,\n",
       "       8.97094981e-01, 3.68294147e-02, 3.19742692e-01, 6.48730174e-01,\n",
       "       1.93676517e-01, 2.19593811e-01, 9.83562133e-02, 2.44543519e-01,\n",
       "       5.05862785e-01, 6.44951047e-01, 4.36429633e-01, 2.26233408e-01,\n",
       "       3.64917011e-01, 1.93809311e-01, 5.85561146e-01, 2.69235577e-01,\n",
       "       8.57351929e-01, 9.66060677e-01, 6.23437580e-01, 5.71567033e-01,\n",
       "       7.05476011e-01, 8.49369652e-01, 3.06711159e-01, 2.60563360e-01,\n",
       "       9.39983953e-01, 1.13909653e-01, 7.75886679e-01, 6.29862401e-01,\n",
       "       1.95386705e-01, 9.28022775e-01, 7.68271802e-01, 6.83770478e-01,\n",
       "       6.39627818e-01, 5.30369344e-01, 9.76894788e-01, 2.52122286e-01,\n",
       "       4.29584121e-02, 9.05271524e-01, 4.76653601e-01, 8.56103897e-01,\n",
       "       4.95434952e-01, 1.49429282e-01, 5.77682856e-02, 9.71036336e-01,\n",
       "       6.38386726e-01, 4.27378645e-01, 4.99994807e-01, 1.25601169e-01,\n",
       "       9.23586810e-01, 8.21347970e-01, 1.64104647e-01, 6.01611318e-01,\n",
       "       3.59530972e-02, 8.60693744e-01, 9.14180657e-01, 1.29470839e-01,\n",
       "       4.02828669e-02, 2.79986003e-01, 7.65374016e-01, 2.78395337e-01,\n",
       "       8.43161743e-01, 7.81602966e-02, 8.56673824e-01, 6.64930980e-01,\n",
       "       7.50155362e-01, 9.01204524e-01, 9.59162781e-02, 6.91447783e-01,\n",
       "       6.15655876e-01, 3.84495920e-02, 5.45131615e-01, 8.30810024e-01,\n",
       "       2.66613915e-02, 7.47297851e-02, 8.21549103e-01, 7.93294404e-01,\n",
       "       8.77167433e-01, 8.72635013e-01, 1.66193127e-01, 3.83979929e-01,\n",
       "       4.65758729e-01, 4.56666217e-01, 3.30836478e-01, 8.03868014e-01,\n",
       "       6.70003963e-02, 3.48054723e-01, 9.54784002e-01, 5.54302586e-01,\n",
       "       9.34248258e-01, 9.31392787e-01, 2.48082615e-01, 7.68813206e-01,\n",
       "       6.31908236e-01, 1.27512748e-01, 8.64318568e-01, 5.86507561e-01,\n",
       "       2.35861369e-01, 8.01776232e-01, 4.16905107e-01, 6.31580692e-01,\n",
       "       3.86019030e-01, 2.47409404e-02, 1.83964848e-01, 9.37967783e-01,\n",
       "       8.60685777e-01, 5.76710099e-01, 7.22386362e-01, 1.74889877e-01,\n",
       "       3.23519572e-01, 7.68977780e-01, 8.41620368e-01, 3.25498954e-01,\n",
       "       6.29153078e-01, 6.41107554e-01, 4.75144999e-01, 4.24362454e-01,\n",
       "       9.60273129e-01, 2.20936445e-01, 9.75500572e-01, 9.42972049e-01,\n",
       "       5.32600817e-01, 8.69483937e-01, 3.36584675e-01, 2.78706461e-01,\n",
       "       6.32307482e-01, 6.56460299e-01, 6.82334092e-01, 6.92024279e-01,\n",
       "       4.83103036e-01, 3.28551315e-01, 9.19712485e-01, 4.63252034e-01,\n",
       "       1.39723175e-01, 8.77430485e-01, 8.90060882e-01, 9.97919223e-01,\n",
       "       4.23381796e-01, 6.61267772e-01, 7.79237932e-01, 7.53776238e-01,\n",
       "       3.76920352e-01, 5.78810522e-02, 3.92256748e-01, 5.66482029e-01,\n",
       "       3.71312295e-01, 1.97555722e-03, 2.90197453e-01, 4.24678062e-01,\n",
       "       2.48666066e-01, 2.62600778e-01, 7.59339154e-01, 5.87479578e-01,\n",
       "       4.54457504e-01, 6.55747765e-01, 7.16234577e-01, 1.67747366e-01,\n",
       "       3.13614061e-01, 2.88713206e-01, 5.39263668e-01, 8.07841432e-01,\n",
       "       3.03214257e-01, 6.81897313e-01, 2.39564176e-01, 9.98615279e-01,\n",
       "       6.55855514e-01, 4.46276847e-01, 3.50672618e-01, 1.80072403e-01,\n",
       "       4.79887544e-02, 7.29404703e-01, 1.59261767e-01, 5.91664530e-01,\n",
       "       5.90388742e-01, 4.30995931e-01, 7.11082690e-01, 9.55252554e-01,\n",
       "       2.46706952e-01, 6.75140444e-01, 6.29211806e-01, 6.80703706e-01,\n",
       "       4.94791012e-01, 2.33432100e-01, 8.35669224e-01, 9.63126469e-01,\n",
       "       3.79400430e-01, 3.95770989e-01, 1.79157241e-01, 5.75180588e-01,\n",
       "       4.96009534e-02, 3.07173335e-01, 2.95294577e-01, 5.06942446e-01,\n",
       "       1.01596967e-01, 8.63352641e-01, 9.13818286e-03, 9.78432489e-01,\n",
       "       2.76434888e-01, 7.86868393e-01, 7.26717160e-01, 6.21864879e-01,\n",
       "       6.32674060e-01, 6.83644483e-02, 7.31324830e-01, 4.78865705e-01,\n",
       "       6.22340767e-01, 9.62528143e-01, 5.41902445e-01, 6.38961762e-01,\n",
       "       3.46697647e-01, 6.67430342e-01, 7.69581196e-01, 4.30262130e-01,\n",
       "       4.28108764e-01, 1.09792565e-01, 7.71586565e-01, 9.81369963e-01,\n",
       "       1.19528559e-01, 7.36585603e-01, 7.52976277e-02, 6.28148261e-01,\n",
       "       2.68470692e-01, 6.91336634e-01, 6.40986127e-01, 8.63123407e-01,\n",
       "       9.28383474e-01, 4.45667400e-02, 6.35432636e-01, 9.67433452e-01,\n",
       "       8.22300208e-01, 2.78792141e-01, 3.02238274e-01, 6.46846939e-01,\n",
       "       4.55969391e-01, 9.90762515e-02, 6.67360065e-01, 9.74894449e-01,\n",
       "       6.37307409e-02, 3.59363473e-01, 1.91276533e-01, 7.29614602e-01,\n",
       "       6.24549835e-01, 9.24131966e-02, 6.96698439e-01, 6.77862359e-01,\n",
       "       7.37788805e-01, 4.32046388e-01, 4.35731951e-01, 4.86444168e-01,\n",
       "       4.98693304e-01, 5.19158878e-01, 9.95169114e-02, 3.21531390e-01,\n",
       "       6.94183893e-01, 3.80185390e-01, 1.89534397e-01, 1.89614504e-01,\n",
       "       1.27336897e-01, 4.77966416e-01, 1.90794619e-01, 1.38819583e-02,\n",
       "       4.41422169e-01, 6.24575390e-01, 7.70893384e-01, 3.72798195e-01,\n",
       "       2.18056663e-02, 7.78424639e-01, 4.80163164e-01, 5.44820525e-01,\n",
       "       5.00208316e-03, 5.35795766e-01, 7.90545746e-01, 1.73023298e-01,\n",
       "       2.54988353e-01, 5.35649243e-01, 6.36340639e-01, 8.91314610e-02,\n",
       "       3.67204392e-01, 8.59301588e-01, 2.51145056e-01, 9.93598511e-01,\n",
       "       5.55344663e-01, 5.81514585e-01, 9.19992399e-01, 8.15508677e-01,\n",
       "       3.24968283e-01, 2.19426726e-01, 9.96520013e-01, 4.13396555e-01,\n",
       "       8.75968074e-01, 2.38407963e-01, 2.27894836e-01, 9.23913086e-01,\n",
       "       5.89950361e-01, 9.46473819e-01, 8.49877696e-01, 9.71680521e-01,\n",
       "       2.94131963e-01, 8.51244529e-01, 2.67097071e-01, 5.49369191e-01,\n",
       "       2.43006416e-01, 8.43744411e-01, 7.62781329e-01, 6.17126102e-01,\n",
       "       4.20124725e-01, 4.03535137e-02, 6.87196144e-01, 7.08592180e-01,\n",
       "       1.02206071e-01, 6.46880507e-01, 4.92956425e-02, 5.30375560e-01,\n",
       "       1.81088174e-02, 2.96181735e-01, 2.26010619e-01, 3.15661868e-02,\n",
       "       6.17877000e-01, 9.62848249e-01, 2.52639120e-01, 4.59610899e-01,\n",
       "       7.16899607e-01, 2.73207407e-01, 5.22383894e-01, 6.34373662e-01,\n",
       "       6.79655733e-01, 8.35691663e-01, 4.25492768e-01, 4.93875660e-01,\n",
       "       6.65315155e-02, 9.34664471e-01, 9.61738525e-02, 8.32223407e-01,\n",
       "       6.00714909e-01, 9.09323890e-01, 7.07507205e-01, 6.86783265e-01,\n",
       "       3.93693058e-01, 7.20145015e-01, 5.46930914e-01, 8.73582885e-01,\n",
       "       3.62854072e-01, 6.47188844e-01, 8.42222184e-01, 9.33879440e-01,\n",
       "       7.25857864e-01, 8.81827314e-02, 4.44117037e-01, 7.08393657e-01,\n",
       "       3.47688589e-01, 4.25847233e-02, 3.43701958e-01, 4.54592490e-02,\n",
       "       6.80727322e-01, 9.32734584e-01, 7.56665977e-01, 3.59368981e-01,\n",
       "       8.31280954e-01, 3.15158902e-01, 8.34405276e-01, 4.77235647e-01,\n",
       "       2.98014484e-01, 6.79299148e-01, 3.15364227e-01, 5.59896300e-01,\n",
       "       5.56969365e-01, 2.08993564e-02, 3.93256228e-01, 1.35599726e-03,\n",
       "       2.07598159e-01, 6.95894095e-01, 7.67546449e-01, 8.00213868e-01,\n",
       "       9.44895934e-01, 5.40692769e-01, 3.66538405e-01, 3.86827316e-01,\n",
       "       8.83233166e-01, 1.54123750e-01, 7.45124293e-01, 9.87782651e-01,\n",
       "       7.79986725e-01, 4.71784979e-01, 1.69812218e-01, 8.21956258e-01,\n",
       "       1.69169994e-01, 6.98393542e-01, 8.79284319e-01, 6.58730191e-01,\n",
       "       6.47338888e-01, 6.94259608e-01, 8.27744208e-01, 5.45252713e-01,\n",
       "       3.18019417e-01, 2.11910126e-01, 1.61598915e-01, 3.40471090e-01,\n",
       "       7.29402956e-01, 6.80625737e-01, 3.15711747e-01, 4.41709367e-01,\n",
       "       1.17818897e-01, 8.23299617e-01, 2.04568682e-02, 5.21222737e-01,\n",
       "       4.56181327e-01, 6.32642022e-01, 1.69870394e-01, 8.77111554e-01,\n",
       "       7.02684378e-01, 1.36273511e-02, 5.89610980e-01, 5.72736443e-03,\n",
       "       5.97795782e-01, 3.24241465e-01, 1.09375640e-01, 8.90552367e-01,\n",
       "       6.49027017e-01, 5.26017925e-01, 9.09188840e-02, 6.27692735e-02,\n",
       "       6.64378392e-02, 8.09697109e-01, 9.68038450e-01, 4.39866517e-02,\n",
       "       5.96152123e-01, 6.48935037e-01, 6.92991691e-01, 6.73890564e-01,\n",
       "       7.80634473e-01, 1.24225959e-01, 1.72877885e-01, 1.26020342e-01,\n",
       "       9.31279343e-02, 8.98709327e-01, 3.57415669e-01, 5.67799920e-01,\n",
       "       8.41474231e-01, 9.08500506e-01, 5.94473885e-02, 8.35513754e-02,\n",
       "       4.19827647e-01, 1.39224040e-02, 3.69748181e-01, 4.22990962e-01,\n",
       "       3.19992366e-01, 7.00995597e-01, 8.30218688e-01, 5.66642095e-01,\n",
       "       2.95070689e-01, 1.29123165e-01, 7.59771694e-01, 1.86158624e-01,\n",
       "       9.21367203e-01, 6.27738953e-01, 2.49066116e-03, 5.13329586e-01,\n",
       "       7.72306433e-01, 6.58549304e-01, 6.01920165e-01, 1.04009219e-01,\n",
       "       3.84102567e-01, 6.71873581e-01, 2.40728250e-01, 5.70048299e-02,\n",
       "       8.28026086e-02, 7.84183088e-01, 4.34096745e-01, 9.37608936e-01,\n",
       "       4.76841389e-01, 3.06114784e-01, 7.42187462e-01, 4.81305202e-01,\n",
       "       5.35602494e-01, 6.63821973e-01, 8.04212512e-01, 3.09014543e-01,\n",
       "       4.51635688e-01, 4.47688007e-02, 2.19367915e-01, 9.53790052e-01,\n",
       "       9.96870999e-01, 1.42842824e-01, 4.09262232e-01, 7.80094587e-01,\n",
       "       3.75319670e-01, 3.80183411e-01, 4.53206325e-01, 9.81235184e-01,\n",
       "       4.91713174e-01, 3.77893876e-01, 1.21387813e-01, 9.28414064e-01,\n",
       "       2.37614401e-01, 4.07124642e-01, 1.27533693e-01, 2.30007693e-01,\n",
       "       8.61867989e-01, 9.94406564e-01, 5.38634419e-01, 6.61674438e-01,\n",
       "       2.61652889e-01, 1.06751730e-01, 8.69781051e-02, 3.24944182e-01,\n",
       "       9.72464926e-01, 6.74236666e-01, 7.07943735e-01, 7.10425368e-01,\n",
       "       1.12508130e-01, 5.39260191e-01, 4.33210580e-01, 6.36192483e-01,\n",
       "       1.82372786e-01, 7.40769647e-01, 6.94032645e-01, 2.69093816e-01,\n",
       "       2.56549794e-02, 8.17257342e-02, 3.70347258e-01, 9.77177281e-01,\n",
       "       2.30672647e-01, 8.09649440e-01, 4.16464229e-01, 2.25834456e-01,\n",
       "       1.79506148e-01, 8.91157738e-01, 3.90211104e-01, 4.53000147e-01,\n",
       "       5.57409720e-04, 5.17703129e-01, 2.59401523e-01, 7.78059155e-01,\n",
       "       1.44567327e-02, 8.79058111e-01, 7.07509213e-01, 3.61240021e-01,\n",
       "       7.60918451e-01, 4.75447100e-01, 1.39369381e-01, 3.32189394e-01,\n",
       "       7.20550712e-01, 1.71893629e-01, 5.55589357e-01, 8.18964485e-01,\n",
       "       2.20673458e-01, 7.77552124e-01, 7.15908265e-01, 2.58101881e-01,\n",
       "       1.22706811e-01, 9.93326351e-01, 3.58593084e-01, 4.83647748e-01,\n",
       "       5.96979730e-01, 1.39338340e-01, 1.09677697e-01, 3.33616690e-01,\n",
       "       4.18211118e-02, 8.11343015e-01, 8.19366768e-01, 2.54609292e-01,\n",
       "       6.39236249e-01, 7.60054811e-01, 2.51438870e-01, 7.95811515e-01,\n",
       "       4.12359769e-01, 5.25364702e-01, 5.00407916e-01, 3.01417996e-01,\n",
       "       3.25966211e-01, 5.95213348e-01, 3.90559723e-01, 5.40900950e-01,\n",
       "       8.17717215e-01, 8.76670837e-01, 2.12172261e-01, 6.51824518e-01,\n",
       "       1.69955422e-01, 7.98451871e-01, 7.46213817e-01, 5.06471515e-01,\n",
       "       9.66929833e-01, 9.67087196e-01, 3.77232655e-01, 7.19059512e-01,\n",
       "       6.03324904e-01, 1.73783851e-01, 5.33115632e-01, 2.79308597e-01,\n",
       "       8.33383636e-01, 9.09137019e-01, 8.04283437e-01, 8.33652905e-01,\n",
       "       8.68608325e-01, 8.44046863e-01, 4.23458435e-01, 3.88278596e-01,\n",
       "       5.92801556e-01, 5.49343401e-01, 8.85634110e-02, 3.42286912e-01,\n",
       "       8.99132204e-01, 8.40710643e-01, 6.69655719e-01, 5.88507942e-01,\n",
       "       9.82168729e-01, 6.39261821e-01, 8.03970462e-01, 3.03614266e-03,\n",
       "       7.74954106e-01, 4.43547649e-01, 3.18366507e-01, 9.67531512e-01,\n",
       "       8.19825501e-01, 5.35965440e-01, 5.62359313e-01, 8.62994874e-01,\n",
       "       4.46019235e-01, 5.53697563e-01, 5.40663926e-01, 3.79790904e-01,\n",
       "       3.04302805e-01, 6.88420027e-01, 9.27893223e-01, 7.24661163e-01,\n",
       "       2.98160549e-03, 6.89395807e-01, 7.26069975e-01, 1.52985679e-01,\n",
       "       2.02951984e-01, 4.73279263e-01, 1.87811620e-01, 8.07463278e-01,\n",
       "       9.99289334e-01, 9.39417499e-01, 1.07952418e-01, 7.49466174e-01,\n",
       "       1.70285203e-01, 8.49841877e-01, 5.13512948e-01, 1.79231576e-01,\n",
       "       3.88428963e-01, 3.00795154e-01, 5.26129624e-01, 3.87528483e-01,\n",
       "       7.47879877e-01, 7.14579271e-01, 3.99257012e-01, 5.81815184e-01,\n",
       "       9.34318703e-01, 3.69245152e-01, 4.50803732e-01, 2.04184233e-02,\n",
       "       8.46687144e-01, 8.63123670e-01, 6.05262200e-01, 2.43530004e-01,\n",
       "       1.93704285e-01, 8.80568975e-01, 1.02970434e-01, 6.82846189e-01,\n",
       "       4.01104372e-01, 7.19406871e-01, 1.07095002e-01, 4.38737238e-01,\n",
       "       8.13444026e-02, 1.99371882e-01, 5.22749004e-02, 4.77711941e-01,\n",
       "       6.97969901e-01, 4.97969467e-01, 2.77885230e-01, 4.92191751e-01,\n",
       "       9.25320679e-01, 5.47944997e-01, 6.89090210e-01, 5.11165515e-01,\n",
       "       6.25985646e-01, 5.03186020e-01, 1.16646621e-01, 7.76413164e-01,\n",
       "       2.28673568e-01, 2.30759738e-02, 3.52363653e-01, 4.83472983e-01,\n",
       "       5.99536406e-01, 3.80098780e-01, 7.37717402e-01, 2.27127302e-01,\n",
       "       9.53417070e-01, 8.75785966e-01, 2.50898622e-01, 6.52318644e-01,\n",
       "       8.13236940e-01, 8.41696423e-01, 2.47896998e-01, 5.48656304e-03,\n",
       "       5.17267808e-01, 4.72154073e-01, 4.97902395e-01, 8.28903147e-02,\n",
       "       5.81671464e-01, 4.22234286e-01, 5.24872093e-01, 8.03145591e-01,\n",
       "       9.02806124e-01, 1.85280961e-01, 2.67729805e-01, 6.60458653e-02,\n",
       "       7.34110568e-01, 8.24877473e-01, 2.19371850e-01, 8.55467346e-01,\n",
       "       2.74606504e-01, 1.80836562e-01, 5.17808225e-01, 8.05640065e-01,\n",
       "       6.27577298e-01, 7.07165229e-01, 3.09237232e-01, 4.94337014e-01,\n",
       "       9.26685301e-01, 4.21407558e-01, 2.56089884e-01, 1.03340510e-01,\n",
       "       1.78100772e-01, 8.91246565e-01, 6.00357206e-01, 5.78490843e-01,\n",
       "       3.59327122e-01, 5.19032569e-01, 4.37144594e-01, 6.55509309e-01,\n",
       "       9.73026100e-01, 6.47275066e-01, 4.06935833e-01, 4.88149180e-01,\n",
       "       2.78835192e-01, 1.30541950e-01, 6.80508686e-01, 7.56428342e-03,\n",
       "       2.59337998e-01, 1.47754024e-01, 9.90418508e-01, 5.74982032e-01,\n",
       "       1.94528587e-01, 7.03527464e-01, 2.59561824e-01, 7.02709302e-01,\n",
       "       8.07388317e-01, 6.59710150e-01, 4.26363926e-01, 9.89353875e-01,\n",
       "       9.24728750e-01, 1.70452737e-01, 1.26971350e-01, 1.68481891e-01,\n",
       "       2.47619490e-02, 1.83154706e-01, 2.28521548e-01, 4.66400920e-01,\n",
       "       8.63867187e-02, 7.37438226e-01, 6.32408348e-01, 3.78277590e-01,\n",
       "       6.88526547e-01, 1.97163629e-01, 3.13651293e-01, 9.81385930e-01,\n",
       "       5.10738468e-01, 7.03270441e-02, 1.24598021e-01, 9.58958549e-01,\n",
       "       3.08016102e-01, 7.17392742e-01, 6.10799161e-02, 2.30230381e-01,\n",
       "       7.87515656e-01, 1.31451084e-01, 6.04540458e-01, 7.18497389e-01,\n",
       "       4.20301998e-01, 2.59672696e-02, 3.25792385e-02, 7.08712303e-01,\n",
       "       9.08073999e-02, 1.14348555e-01, 6.58418826e-01, 2.81750255e-01,\n",
       "       1.43094604e-01, 3.81225411e-01, 5.31155166e-01, 2.28927830e-01,\n",
       "       6.75747905e-01, 2.64214667e-01, 1.34216170e-01, 5.69250002e-01,\n",
       "       2.23196424e-01, 4.83849908e-01, 8.38317691e-01, 8.93707002e-01,\n",
       "       4.35086916e-01, 6.13206032e-01, 4.88048098e-01, 2.03801464e-01,\n",
       "       7.33278226e-01, 3.27635086e-02, 9.67700020e-02, 5.14426042e-01,\n",
       "       1.87288815e-02, 3.63056682e-01, 4.95917456e-01, 3.01602476e-01,\n",
       "       8.40989611e-01, 1.72274811e-01, 4.92067869e-01, 4.77719817e-01,\n",
       "       8.63121618e-01, 9.55412243e-01, 7.98449918e-01, 6.97931044e-01,\n",
       "       5.50544310e-01, 2.45631307e-02, 1.46691107e-01, 2.46114351e-01,\n",
       "       1.76000716e-01, 1.24528597e-01, 5.33258429e-01, 5.31519679e-01,\n",
       "       5.49138204e-01, 8.26118904e-01, 9.84124010e-01, 1.31832616e-01,\n",
       "       1.27830112e-01, 8.16987703e-01, 9.79506213e-01, 4.92759058e-01,\n",
       "       6.39372037e-01, 5.79770169e-02, 1.05271411e-01, 7.59422661e-01,\n",
       "       4.07739309e-01, 7.98247631e-01, 7.75595584e-01, 7.83106235e-01,\n",
       "       3.73721838e-01, 8.43388652e-01, 4.43334115e-01, 3.88900160e-01,\n",
       "       6.44042302e-01, 1.01835552e-01, 8.67527711e-01, 4.51300221e-01,\n",
       "       3.74740311e-01, 7.57967514e-01, 4.56321649e-01, 5.07057386e-01,\n",
       "       4.28921450e-01, 5.55660452e-01, 6.20754245e-01, 6.40710002e-01])"
      ]
     },
     "execution_count": 206,
     "metadata": {},
     "output_type": "execute_result"
    }
   ],
   "source": [
    "c"
   ]
  },
  {
   "cell_type": "code",
   "execution_count": 207,
   "id": "db70cf7d-3050-4232-834e-2279716023ab",
   "metadata": {},
   "outputs": [],
   "source": [
    "import matplotlib.pyplot as plt"
   ]
  },
  {
   "cell_type": "code",
   "execution_count": 209,
   "id": "934aa982-039e-48a6-9554-9ee9214747ed",
   "metadata": {},
   "outputs": [
    {
     "data": {
      "text/plain": [
       "(array([ 93., 108.,  92.,  97.,  96., 108., 112., 104., 103.,  87.]),\n",
       " array([5.57409720e-04, 1.00430602e-01, 2.00303794e-01, 3.00176987e-01,\n",
       "        4.00050179e-01, 4.99923372e-01, 5.99796564e-01, 6.99669756e-01,\n",
       "        7.99542949e-01, 8.99416141e-01, 9.99289334e-01]),\n",
       " <BarContainer object of 10 artists>)"
      ]
     },
     "execution_count": 209,
     "metadata": {},
     "output_type": "execute_result"
    },
    {
     "data": {
      "image/png": "[encoded data removed]",
      "text/plain": [
       "<Figure size 640x480 with 1 Axes>"
      ]
     },
     "metadata": {},
     "output_type": "display_data"
    }
   ],
   "source": [
    "plt.hist(c)"
   ]
  },
  {
   "cell_type": "code",
   "execution_count": 210,
   "id": "3223858f-73ad-4212-a240-26acc88b29c0",
   "metadata": {},
   "outputs": [
    {
     "data": {
      "text/plain": [
       "(array([12.,  9.,  9.,  8., 14.,  7., 10.,  4., 10., 10., 15.,  9., 18.,\n",
       "         8.,  5.,  4., 15., 16.,  9.,  9.,  3.,  9., 15.,  7., 10., 14.,\n",
       "        11., 13.,  3.,  7., 14., 10.,  9.,  4.,  7.,  9.,  8., 14., 14.,\n",
       "         8.,  5.,  5., 16., 11.,  8., 12.,  4., 13., 10., 12.,  8., 11.,\n",
       "        11., 17., 14.,  9.,  7.,  9., 10., 12.,  9.,  4., 13., 17., 14.,\n",
       "        10.,  8.,  8., 15., 14., 14., 12., 11.,  9.,  7., 11., 10., 14.,\n",
       "         9.,  7., 12., 10., 10., 11., 13.,  9., 12., 12.,  3., 11.,  8.,\n",
       "         1., 15., 10.,  5.,  9., 10., 10.,  8., 11.]),\n",
       " array([5.57409720e-04, 1.05447290e-02, 2.05320482e-02, 3.05193674e-02,\n",
       "        4.05066867e-02, 5.04940059e-02, 6.04813251e-02, 7.04686444e-02,\n",
       "        8.04559636e-02, 9.04432829e-02, 1.00430602e-01, 1.10417921e-01,\n",
       "        1.20405241e-01, 1.30392560e-01, 1.40379879e-01, 1.50367198e-01,\n",
       "        1.60354518e-01, 1.70341837e-01, 1.80329156e-01, 1.90316475e-01,\n",
       "        2.00303794e-01, 2.10291114e-01, 2.20278433e-01, 2.30265752e-01,\n",
       "        2.40253071e-01, 2.50240391e-01, 2.60227710e-01, 2.70215029e-01,\n",
       "        2.80202348e-01, 2.90189668e-01, 3.00176987e-01, 3.10164306e-01,\n",
       "        3.20151625e-01, 3.30138945e-01, 3.40126264e-01, 3.50113583e-01,\n",
       "        3.60100902e-01, 3.70088222e-01, 3.80075541e-01, 3.90062860e-01,\n",
       "        4.00050179e-01, 4.10037498e-01, 4.20024818e-01, 4.30012137e-01,\n",
       "        4.39999456e-01, 4.49986775e-01, 4.59974095e-01, 4.69961414e-01,\n",
       "        4.79948733e-01, 4.89936052e-01, 4.99923372e-01, 5.09910691e-01,\n",
       "        5.19898010e-01, 5.29885329e-01, 5.39872649e-01, 5.49859968e-01,\n",
       "        5.59847287e-01, 5.69834606e-01, 5.79821926e-01, 5.89809245e-01,\n",
       "        5.99796564e-01, 6.09783883e-01, 6.19771202e-01, 6.29758522e-01,\n",
       "        6.39745841e-01, 6.49733160e-01, 6.59720479e-01, 6.69707799e-01,\n",
       "        6.79695118e-01, 6.89682437e-01, 6.99669756e-01, 7.09657076e-01,\n",
       "        7.19644395e-01, 7.29631714e-01, 7.39619033e-01, 7.49606353e-01,\n",
       "        7.59593672e-01, 7.69580991e-01, 7.79568310e-01, 7.89555630e-01,\n",
       "        7.99542949e-01, 8.09530268e-01, 8.19517587e-01, 8.29504906e-01,\n",
       "        8.39492226e-01, 8.49479545e-01, 8.59466864e-01, 8.69454183e-01,\n",
       "        8.79441503e-01, 8.89428822e-01, 8.99416141e-01, 9.09403460e-01,\n",
       "        9.19390780e-01, 9.29378099e-01, 9.39365418e-01, 9.49352737e-01,\n",
       "        9.59340057e-01, 9.69327376e-01, 9.79314695e-01, 9.89302014e-01,\n",
       "        9.99289334e-01]),\n",
       " <BarContainer object of 100 artists>)"
      ]
     },
     "execution_count": 210,
     "metadata": {},
     "output_type": "execute_result"
    },
    {
     "data": {
      "image/png": "[encoded data removed]",
      "text/plain": [
       "<Figure size 640x480 with 1 Axes>"
      ]
     },
     "metadata": {},
     "output_type": "display_data"
    }
   ],
   "source": [
    "plt.hist(c,bins=100)"
   ]
  },
  {
   "cell_type": "code",
   "execution_count": 212,
   "id": "9545aad1-ca73-44ac-8e0a-e4ad404ca6e0",
   "metadata": {},
   "outputs": [
    {
     "data": {
      "text/plain": [
       "(array([  2.,   0.,   0.,   0.,   0.,   1.,   3.,   0.,   0.,   2.,   1.,\n",
       "          0.,   0.,   1.,   1.,   2.,   1.,   3.,   0.,   0.,   0.,   1.,\n",
       "          2.,   2.,   5.,   2.,   7.,   5.,   6.,   3.,  11.,   7.,   8.,\n",
       "         10.,  16.,  10.,  14.,  13.,  16.,  27.,  16.,  16.,  23.,  18.,\n",
       "         22.,  28.,  29.,  24.,  24.,  32.,  39.,  26.,  31.,  37.,  48.,\n",
       "         54.,  48.,  51.,  46.,  49.,  62.,  69.,  61.,  66.,  73.,  67.,\n",
       "         67.,  74.,  96.,  87.,  91., 106., 113.,  84., 104.,  99.,  90.,\n",
       "        107., 115., 118., 108., 134., 143., 124., 114., 138., 156., 128.,\n",
       "        137., 143., 153., 146., 147., 141., 181., 139., 127., 137., 147.,\n",
       "        154., 155., 145., 133., 138., 141., 142., 127., 139., 137., 129.,\n",
       "        125., 151., 133., 119., 119., 131., 120., 121., 128., 101.,  96.,\n",
       "         77.,  88.,  81.,  85.,  84.,  74.,  83.,  76.,  87.,  69.,  55.,\n",
       "         70.,  59.,  59.,  57.,  56.,  58.,  35.,  45.,  41.,  48.,  42.,\n",
       "         33.,  32.,  40.,  30.,  22.,  27.,  16.,  27.,  16.,  21.,  16.,\n",
       "         22.,   9.,  15.,  11.,  13.,   9.,   8.,  10.,  10.,   5.,   3.,\n",
       "          7.,   7.,   4.,   3.,   4.,   4.,   4.,   2.,   4.,   2.,   2.,\n",
       "          3.,   3.,   1.,   1.,   1.,   0.,   1.,   2.,   0.,   0.,   0.,\n",
       "          0.,   0.,   0.,   0.,   0.,   1.,   0.,   0.,   0.,   0.,   0.,\n",
       "          0.,   1.]),\n",
       " array([-3.61462302, -3.57746271, -3.5403024 , -3.50314209, -3.46598178,\n",
       "        -3.42882147, -3.39166117, -3.35450086, -3.31734055, -3.28018024,\n",
       "        -3.24301993, -3.20585962, -3.16869931, -3.131539  , -3.09437869,\n",
       "        -3.05721838, -3.02005807, -2.98289776, -2.94573745, -2.90857714,\n",
       "        -2.87141683, -2.83425652, -2.79709621, -2.75993591, -2.7227756 ,\n",
       "        -2.68561529, -2.64845498, -2.61129467, -2.57413436, -2.53697405,\n",
       "        -2.49981374, -2.46265343, -2.42549312, -2.38833281, -2.3511725 ,\n",
       "        -2.31401219, -2.27685188, -2.23969157, -2.20253126, -2.16537095,\n",
       "        -2.12821064, -2.09105034, -2.05389003, -2.01672972, -1.97956941,\n",
       "        -1.9424091 , -1.90524879, -1.86808848, -1.83092817, -1.79376786,\n",
       "        -1.75660755, -1.71944724, -1.68228693, -1.64512662, -1.60796631,\n",
       "        -1.570806  , -1.53364569, -1.49648538, -1.45932508, -1.42216477,\n",
       "        -1.38500446, -1.34784415, -1.31068384, -1.27352353, -1.23636322,\n",
       "        -1.19920291, -1.1620426 , -1.12488229, -1.08772198, -1.05056167,\n",
       "        -1.01340136, -0.97624105, -0.93908074, -0.90192043, -0.86476012,\n",
       "        -0.82759981, -0.79043951, -0.7532792 , -0.71611889, -0.67895858,\n",
       "        -0.64179827, -0.60463796, -0.56747765, -0.53031734, -0.49315703,\n",
       "        -0.45599672, -0.41883641, -0.3816761 , -0.34451579, -0.30735548,\n",
       "        -0.27019517, -0.23303486, -0.19587455, -0.15871425, -0.12155394,\n",
       "        -0.08439363, -0.04723332, -0.01007301,  0.0270873 ,  0.06424761,\n",
       "         0.10140792,  0.13856823,  0.17572854,  0.21288885,  0.25004916,\n",
       "         0.28720947,  0.32436978,  0.36153009,  0.3986904 ,  0.43585071,\n",
       "         0.47301102,  0.51017132,  0.54733163,  0.58449194,  0.62165225,\n",
       "         0.65881256,  0.69597287,  0.73313318,  0.77029349,  0.8074538 ,\n",
       "         0.84461411,  0.88177442,  0.91893473,  0.95609504,  0.99325535,\n",
       "         1.03041566,  1.06757597,  1.10473628,  1.14189658,  1.17905689,\n",
       "         1.2162172 ,  1.25337751,  1.29053782,  1.32769813,  1.36485844,\n",
       "         1.40201875,  1.43917906,  1.47633937,  1.51349968,  1.55065999,\n",
       "         1.5878203 ,  1.62498061,  1.66214092,  1.69930123,  1.73646154,\n",
       "         1.77362185,  1.81078215,  1.84794246,  1.88510277,  1.92226308,\n",
       "         1.95942339,  1.9965837 ,  2.03374401,  2.07090432,  2.10806463,\n",
       "         2.14522494,  2.18238525,  2.21954556,  2.25670587,  2.29386618,\n",
       "         2.33102649,  2.3681868 ,  2.40534711,  2.44250741,  2.47966772,\n",
       "         2.51682803,  2.55398834,  2.59114865,  2.62830896,  2.66546927,\n",
       "         2.70262958,  2.73978989,  2.7769502 ,  2.81411051,  2.85127082,\n",
       "         2.88843113,  2.92559144,  2.96275175,  2.99991206,  3.03707237,\n",
       "         3.07423268,  3.11139298,  3.14855329,  3.1857136 ,  3.22287391,\n",
       "         3.26003422,  3.29719453,  3.33435484,  3.37151515,  3.40867546,\n",
       "         3.44583577,  3.48299608,  3.52015639,  3.5573167 ,  3.59447701,\n",
       "         3.63163732,  3.66879763,  3.70595794,  3.74311824,  3.78027855,\n",
       "         3.81743886]),\n",
       " <BarContainer object of 200 artists>)"
      ]
     },
     "execution_count": 212,
     "metadata": {},
     "output_type": "execute_result"
    },
    {
     "data": {
      "image/png": "[encoded data removed]",
      "text/plain": [
       "<Figure size 640x480 with 1 Axes>"
      ]
     },
     "metadata": {},
     "output_type": "display_data"
    }
   ],
   "source": [
    "b=np.random.randn(10000)\n",
    "plt.hist(b,bins=200)"
   ]
  },
  {
   "cell_type": "code",
   "execution_count": 213,
   "id": "40403f52-9a5e-4d8a-9a25-fec13718a991",
   "metadata": {},
   "outputs": [],
   "source": [
    "c=np.random.rand(2,3)"
   ]
  },
  {
   "cell_type": "code",
   "execution_count": 214,
   "id": "3305fe5d-b649-43a4-9c2c-82b2ef754530",
   "metadata": {},
   "outputs": [
    {
     "data": {
      "text/plain": [
       "array([[0.95373222, 0.08860392, 0.41011554],\n",
       "       [0.53544143, 0.76248929, 0.51244814]])"
      ]
     },
     "execution_count": 214,
     "metadata": {},
     "output_type": "execute_result"
    }
   ],
   "source": [
    "c"
   ]
  },
  {
   "cell_type": "code",
   "execution_count": 215,
   "id": "58654822-b5b4-4bd5-b80d-32cbad7d1169",
   "metadata": {},
   "outputs": [
    {
     "data": {
      "text/plain": [
       "2"
      ]
     },
     "execution_count": 215,
     "metadata": {},
     "output_type": "execute_result"
    }
   ],
   "source": [
    "c.ndim"
   ]
  },
  {
   "cell_type": "code",
   "execution_count": 216,
   "id": "5b7b595a-2e7f-412d-986a-0bab641485b5",
   "metadata": {},
   "outputs": [],
   "source": [
    "c=np.random.rand(2,3,4,2)"
   ]
  },
  {
   "cell_type": "code",
   "execution_count": 217,
   "id": "8f9a5ecd-2152-43de-a20e-46b7af698824",
   "metadata": {},
   "outputs": [
    {
     "data": {
      "text/plain": [
       "4"
      ]
     },
     "execution_count": 217,
     "metadata": {},
     "output_type": "execute_result"
    }
   ],
   "source": [
    "c.ndim"
   ]
  },
  {
   "cell_type": "code",
   "execution_count": 218,
   "id": "266f70cd-562b-4e3e-b720-225bf1b8a3ff",
   "metadata": {},
   "outputs": [
    {
     "data": {
      "text/plain": [
       "array([[[[0.94389494, 0.77643064],\n",
       "         [0.91452013, 0.68247988],\n",
       "         [0.56589227, 0.06249674],\n",
       "         [0.58938242, 0.59216104]],\n",
       "\n",
       "        [[0.96026473, 0.22971763],\n",
       "         [0.83654223, 0.28776731],\n",
       "         [0.08906349, 0.72948861],\n",
       "         [0.17530672, 0.60808258]],\n",
       "\n",
       "        [[0.57287813, 0.92100525],\n",
       "         [0.85891405, 0.31097627],\n",
       "         [0.23871598, 0.05046612],\n",
       "         [0.90855953, 0.88994103]]],\n",
       "\n",
       "\n",
       "       [[[0.12371269, 0.87409581],\n",
       "         [0.30248141, 0.15422367],\n",
       "         [0.62498905, 0.15368193],\n",
       "         [0.62732519, 0.90350187]],\n",
       "\n",
       "        [[0.98680804, 0.8045166 ],\n",
       "         [0.14935995, 0.87897305],\n",
       "         [0.57647154, 0.33049731],\n",
       "         [0.89202284, 0.56194393]],\n",
       "\n",
       "        [[0.41939574, 0.03830041],\n",
       "         [0.79703378, 0.1051427 ],\n",
       "         [0.78939145, 0.4506638 ],\n",
       "         [0.82595483, 0.67729497]]]])"
      ]
     },
     "execution_count": 218,
     "metadata": {},
     "output_type": "execute_result"
    }
   ],
   "source": [
    "c"
   ]
  },
  {
   "cell_type": "code",
   "execution_count": 222,
   "id": "1153decc-e841-43f8-a63d-32c68b84fc8d",
   "metadata": {},
   "outputs": [],
   "source": [
    "d=np.arange(100).reshape(4,25)"
   ]
  },
  {
   "cell_type": "code",
   "execution_count": 224,
   "id": "c72c39ab-464f-4727-8718-9d88301989b9",
   "metadata": {},
   "outputs": [
    {
     "data": {
      "text/plain": [
       "2"
      ]
     },
     "execution_count": 224,
     "metadata": {},
     "output_type": "execute_result"
    }
   ],
   "source": [
    "d.ndim"
   ]
  },
  {
   "cell_type": "code",
   "execution_count": 225,
   "id": "91ac467d-0902-42c4-b7e7-8ba092c2a8ca",
   "metadata": {},
   "outputs": [
    {
     "data": {
      "text/plain": [
       "(4, 25)"
      ]
     },
     "execution_count": 225,
     "metadata": {},
     "output_type": "execute_result"
    }
   ],
   "source": [
    "d.shape"
   ]
  },
  {
   "cell_type": "code",
   "execution_count": 226,
   "id": "478154ec-eeac-495e-befc-a4acaeb9818b",
   "metadata": {},
   "outputs": [
    {
     "data": {
      "text/plain": [
       "array([[ 0,  1,  2,  3,  4,  5,  6,  7,  8,  9, 10, 11, 12, 13, 14, 15,\n",
       "        16, 17, 18, 19, 20, 21, 22, 23, 24],\n",
       "       [25, 26, 27, 28, 29, 30, 31, 32, 33, 34, 35, 36, 37, 38, 39, 40,\n",
       "        41, 42, 43, 44, 45, 46, 47, 48, 49],\n",
       "       [50, 51, 52, 53, 54, 55, 56, 57, 58, 59, 60, 61, 62, 63, 64, 65,\n",
       "        66, 67, 68, 69, 70, 71, 72, 73, 74],\n",
       "       [75, 76, 77, 78, 79, 80, 81, 82, 83, 84, 85, 86, 87, 88, 89, 90,\n",
       "        91, 92, 93, 94, 95, 96, 97, 98, 99]])"
      ]
     },
     "execution_count": 226,
     "metadata": {},
     "output_type": "execute_result"
    }
   ],
   "source": [
    "d"
   ]
  },
  {
   "cell_type": "code",
   "execution_count": 227,
   "id": "336cb622-6399-4853-a618-f03a4c6f56a4",
   "metadata": {},
   "outputs": [],
   "source": [
    "d=np.arange(100).reshape(4,5,5)"
   ]
  },
  {
   "cell_type": "code",
   "execution_count": 228,
   "id": "a7804bc3-e352-496e-ad6d-9bf588916d00",
   "metadata": {},
   "outputs": [
    {
     "data": {
      "text/plain": [
       "(4, 5, 5)"
      ]
     },
     "execution_count": 228,
     "metadata": {},
     "output_type": "execute_result"
    }
   ],
   "source": [
    "d.shape"
   ]
  },
  {
   "cell_type": "code",
   "execution_count": 229,
   "id": "3279acbc-87c8-4d78-9f9d-2749f7c5dd08",
   "metadata": {},
   "outputs": [
    {
     "data": {
      "text/plain": [
       "\u001b[0;31mDocstring:\u001b[0m\n",
       "zeros(shape, dtype=float, order='C', *, like=None)\n",
       "\n",
       "Return a new array of given shape and type, filled with zeros.\n",
       "\n",
       "Parameters\n",
       "----------\n",
       "shape : int or tuple of ints\n",
       "    Shape of the new array, e.g., ``(2, 3)`` or ``2``.\n",
       "dtype : data-type, optional\n",
       "    The desired data-type for the array, e.g., `numpy.int8`.  Default is\n",
       "    `numpy.float64`.\n",
       "order : {'C', 'F'}, optional, default: 'C'\n",
       "    Whether to store multi-dimensional data in row-major\n",
       "    (C-style) or column-major (Fortran-style) order in\n",
       "    memory.\n",
       "like : array_like, optional\n",
       "    Reference object to allow the creation of arrays which are not\n",
       "    NumPy arrays. If an array-like passed in as ``like`` supports\n",
       "    the ``__array_function__`` protocol, the result will be defined\n",
       "    by it. In this case, it ensures the creation of an array object\n",
       "    compatible with that passed in via this argument.\n",
       "\n",
       "    .. versionadded:: 1.20.0\n",
       "\n",
       "Returns\n",
       "-------\n",
       "out : ndarray\n",
       "    Array of zeros with the given shape, dtype, and order.\n",
       "\n",
       "See Also\n",
       "--------\n",
       "zeros_like : Return an array of zeros with shape and type of input.\n",
       "empty : Return a new uninitialized array.\n",
       "ones : Return a new array setting values to one.\n",
       "full : Return a new array of given shape filled with value.\n",
       "\n",
       "Examples\n",
       "--------\n",
       ">>> np.zeros(5)\n",
       "array([ 0.,  0.,  0.,  0.,  0.])\n",
       "\n",
       ">>> np.zeros((5,), dtype=int)\n",
       "array([0, 0, 0, 0, 0])\n",
       "\n",
       ">>> np.zeros((2, 1))\n",
       "array([[ 0.],\n",
       "       [ 0.]])\n",
       "\n",
       ">>> s = (2,2)\n",
       ">>> np.zeros(s)\n",
       "array([[ 0.,  0.],\n",
       "       [ 0.,  0.]])\n",
       "\n",
       ">>> np.zeros((2,), dtype=[('x', 'i4'), ('y', 'i4')]) # custom dtype\n",
       "array([(0, 0), (0, 0)],\n",
       "      dtype=[('x', '<i4'), ('y', '<i4')])\n",
       "\u001b[0;31mType:\u001b[0m      builtin_function_or_method"
      ]
     },
     "metadata": {},
     "output_type": "display_data"
    }
   ],
   "source": [
    "np.zeros?"
   ]
  },
  {
   "cell_type": "code",
   "execution_count": 230,
   "id": "50f0c67d-96bf-4abb-944a-781ec14948cd",
   "metadata": {},
   "outputs": [
    {
     "data": {
      "text/plain": [
       "\u001b[0;31mSignature:\u001b[0m \u001b[0mnp\u001b[0m\u001b[0;34m.\u001b[0m\u001b[0mones\u001b[0m\u001b[0;34m(\u001b[0m\u001b[0mshape\u001b[0m\u001b[0;34m,\u001b[0m \u001b[0mdtype\u001b[0m\u001b[0;34m=\u001b[0m\u001b[0;32mNone\u001b[0m\u001b[0;34m,\u001b[0m \u001b[0morder\u001b[0m\u001b[0;34m=\u001b[0m\u001b[0;34m'C'\u001b[0m\u001b[0;34m,\u001b[0m \u001b[0;34m*\u001b[0m\u001b[0;34m,\u001b[0m \u001b[0mlike\u001b[0m\u001b[0;34m=\u001b[0m\u001b[0;32mNone\u001b[0m\u001b[0;34m)\u001b[0m\u001b[0;34m\u001b[0m\u001b[0;34m\u001b[0m\u001b[0m\n",
       "\u001b[0;31mDocstring:\u001b[0m\n",
       "Return a new array of given shape and type, filled with ones.\n",
       "\n",
       "Parameters\n",
       "----------\n",
       "shape : int or sequence of ints\n",
       "    Shape of the new array, e.g., ``(2, 3)`` or ``2``.\n",
       "dtype : data-type, optional\n",
       "    The desired data-type for the array, e.g., `numpy.int8`.  Default is\n",
       "    `numpy.float64`.\n",
       "order : {'C', 'F'}, optional, default: C\n",
       "    Whether to store multi-dimensional data in row-major\n",
       "    (C-style) or column-major (Fortran-style) order in\n",
       "    memory.\n",
       "like : array_like, optional\n",
       "    Reference object to allow the creation of arrays which are not\n",
       "    NumPy arrays. If an array-like passed in as ``like`` supports\n",
       "    the ``__array_function__`` protocol, the result will be defined\n",
       "    by it. In this case, it ensures the creation of an array object\n",
       "    compatible with that passed in via this argument.\n",
       "\n",
       "    .. versionadded:: 1.20.0\n",
       "\n",
       "Returns\n",
       "-------\n",
       "out : ndarray\n",
       "    Array of ones with the given shape, dtype, and order.\n",
       "\n",
       "See Also\n",
       "--------\n",
       "ones_like : Return an array of ones with shape and type of input.\n",
       "empty : Return a new uninitialized array.\n",
       "zeros : Return a new array setting values to zero.\n",
       "full : Return a new array of given shape filled with value.\n",
       "\n",
       "\n",
       "Examples\n",
       "--------\n",
       ">>> np.ones(5)\n",
       "array([1., 1., 1., 1., 1.])\n",
       "\n",
       ">>> np.ones((5,), dtype=int)\n",
       "array([1, 1, 1, 1, 1])\n",
       "\n",
       ">>> np.ones((2, 1))\n",
       "array([[1.],\n",
       "       [1.]])\n",
       "\n",
       ">>> s = (2,2)\n",
       ">>> np.ones(s)\n",
       "array([[1.,  1.],\n",
       "       [1.,  1.]])\n",
       "\u001b[0;31mFile:\u001b[0m      ~/.local/lib/python3.10/site-packages/numpy/core/numeric.py\n",
       "\u001b[0;31mType:\u001b[0m      function"
      ]
     },
     "metadata": {},
     "output_type": "display_data"
    }
   ],
   "source": [
    "np.ones?"
   ]
  },
  {
   "cell_type": "code",
   "execution_count": 231,
   "id": "ef16def7-a682-4f49-9304-d1c31487e50e",
   "metadata": {},
   "outputs": [],
   "source": [
    "# numpy slicing"
   ]
  },
  {
   "cell_type": "code",
   "execution_count": 232,
   "id": "599a916a-e705-4b75-9464-cdff89a601af",
   "metadata": {},
   "outputs": [],
   "source": [
    "a=np.arange(100)"
   ]
  },
  {
   "cell_type": "code",
   "execution_count": 233,
   "id": "512f9fdb-caab-41da-9f5f-c7aca91e3b6c",
   "metadata": {},
   "outputs": [],
   "source": [
    "b=a[3:10]"
   ]
  },
  {
   "cell_type": "code",
   "execution_count": 234,
   "id": "e5232268-a221-4309-9d41-5ac2c3e5ab78",
   "metadata": {},
   "outputs": [
    {
     "data": {
      "text/plain": [
       "array([3, 4, 5, 6, 7, 8, 9])"
      ]
     },
     "execution_count": 234,
     "metadata": {},
     "output_type": "execute_result"
    }
   ],
   "source": [
    "b"
   ]
  },
  {
   "cell_type": "code",
   "execution_count": 235,
   "id": "8dfbf90a-392a-4e27-92d5-be74cb9a1546",
   "metadata": {},
   "outputs": [],
   "source": [
    "b[0]=-1200"
   ]
  },
  {
   "cell_type": "code",
   "execution_count": 236,
   "id": "7d77a606-1a56-425c-91d1-2a745e9731b4",
   "metadata": {},
   "outputs": [
    {
     "data": {
      "text/plain": [
       "array([-1200,     4,     5,     6,     7,     8,     9])"
      ]
     },
     "execution_count": 236,
     "metadata": {},
     "output_type": "execute_result"
    }
   ],
   "source": [
    "b"
   ]
  },
  {
   "cell_type": "code",
   "execution_count": 237,
   "id": "5056d558-3f9b-44d9-a41e-e45650d7a43b",
   "metadata": {},
   "outputs": [
    {
     "data": {
      "text/plain": [
       "array([    0,     1,     2, -1200,     4,     5,     6,     7,     8,\n",
       "           9,    10,    11,    12,    13,    14,    15,    16,    17,\n",
       "          18,    19,    20,    21,    22,    23,    24,    25,    26,\n",
       "          27,    28,    29,    30,    31,    32,    33,    34,    35,\n",
       "          36,    37,    38,    39,    40,    41,    42,    43,    44,\n",
       "          45,    46,    47,    48,    49,    50,    51,    52,    53,\n",
       "          54,    55,    56,    57,    58,    59,    60,    61,    62,\n",
       "          63,    64,    65,    66,    67,    68,    69,    70,    71,\n",
       "          72,    73,    74,    75,    76,    77,    78,    79,    80,\n",
       "          81,    82,    83,    84,    85,    86,    87,    88,    89,\n",
       "          90,    91,    92,    93,    94,    95,    96,    97,    98,\n",
       "          99])"
      ]
     },
     "execution_count": 237,
     "metadata": {},
     "output_type": "execute_result"
    }
   ],
   "source": [
    "a"
   ]
  },
  {
   "cell_type": "code",
   "execution_count": 238,
   "id": "0a30a40d-5916-40c4-a9d4-ffb0aaca8c76",
   "metadata": {},
   "outputs": [],
   "source": [
    "b=a[3:10].copy()"
   ]
  },
  {
   "cell_type": "code",
   "execution_count": 239,
   "id": "e2cfd28d-7edb-44c4-b3e4-570c3a52d7f0",
   "metadata": {},
   "outputs": [
    {
     "data": {
      "text/plain": [
       "array([-1200,     4,     5,     6,     7,     8,     9])"
      ]
     },
     "execution_count": 239,
     "metadata": {},
     "output_type": "execute_result"
    }
   ],
   "source": [
    "b"
   ]
  },
  {
   "cell_type": "code",
   "execution_count": 240,
   "id": "92c99d6f-5fef-496b-9900-8c3db8ffac5d",
   "metadata": {},
   "outputs": [],
   "source": [
    "b[1]=1234"
   ]
  },
  {
   "cell_type": "code",
   "execution_count": 241,
   "id": "f5622609-24aa-4450-b59c-1ccb3ce3b221",
   "metadata": {},
   "outputs": [
    {
     "data": {
      "text/plain": [
       "array([    0,     1,     2, -1200,     4,     5,     6,     7,     8,\n",
       "           9,    10,    11,    12,    13,    14,    15,    16,    17,\n",
       "          18,    19,    20,    21,    22,    23,    24,    25,    26,\n",
       "          27,    28,    29,    30,    31,    32,    33,    34,    35,\n",
       "          36,    37,    38,    39,    40,    41,    42,    43,    44,\n",
       "          45,    46,    47,    48,    49,    50,    51,    52,    53,\n",
       "          54,    55,    56,    57,    58,    59,    60,    61,    62,\n",
       "          63,    64,    65,    66,    67,    68,    69,    70,    71,\n",
       "          72,    73,    74,    75,    76,    77,    78,    79,    80,\n",
       "          81,    82,    83,    84,    85,    86,    87,    88,    89,\n",
       "          90,    91,    92,    93,    94,    95,    96,    97,    98,\n",
       "          99])"
      ]
     },
     "execution_count": 241,
     "metadata": {},
     "output_type": "execute_result"
    }
   ],
   "source": [
    "a"
   ]
  },
  {
   "cell_type": "code",
   "execution_count": 242,
   "id": "ebecbb78-11f5-4d71-aa6a-e92b3188dde8",
   "metadata": {},
   "outputs": [
    {
     "data": {
      "text/plain": [
       "array([ 0,  5, 10, 15, 20, 25, 30, 35, 40, 45, 50, 55, 60, 65, 70, 75, 80,\n",
       "       85, 90, 95])"
      ]
     },
     "execution_count": 242,
     "metadata": {},
     "output_type": "execute_result"
    }
   ],
   "source": [
    "a[::5]"
   ]
  },
  {
   "cell_type": "code",
   "execution_count": 243,
   "id": "f3cc0faa-6203-46d4-a982-01efd0d47a3c",
   "metadata": {},
   "outputs": [
    {
     "data": {
      "text/plain": [
       "array([99, 94, 89, 84, 79, 74, 69, 64, 59, 54, 49, 44, 39, 34, 29, 24, 19,\n",
       "       14,  9,  4])"
      ]
     },
     "execution_count": 243,
     "metadata": {},
     "output_type": "execute_result"
    }
   ],
   "source": [
    "a[::-5]"
   ]
  },
  {
   "cell_type": "code",
   "execution_count": 244,
   "id": "75b81d4c-7645-43d0-9236-2243c0848905",
   "metadata": {},
   "outputs": [
    {
     "data": {
      "text/plain": [
       "array([    0,     1,     2, -1200,     4])"
      ]
     },
     "execution_count": 244,
     "metadata": {},
     "output_type": "execute_result"
    }
   ],
   "source": [
    "a[:5:]"
   ]
  },
  {
   "cell_type": "code",
   "execution_count": 245,
   "id": "f8317a4e-091f-4bd6-afb6-760e9d561e68",
   "metadata": {},
   "outputs": [
    {
     "data": {
      "text/plain": [
       "array([ 5,  6,  7,  8,  9, 10, 11, 12, 13, 14, 15, 16, 17, 18, 19, 20, 21,\n",
       "       22, 23, 24, 25, 26, 27, 28, 29, 30, 31, 32, 33, 34, 35, 36, 37, 38,\n",
       "       39, 40, 41, 42, 43, 44, 45, 46, 47, 48, 49, 50, 51, 52, 53, 54, 55,\n",
       "       56, 57, 58, 59, 60, 61, 62, 63, 64, 65, 66, 67, 68, 69, 70, 71, 72,\n",
       "       73, 74, 75, 76, 77, 78, 79, 80, 81, 82, 83, 84, 85, 86, 87, 88, 89,\n",
       "       90, 91, 92, 93, 94, 95, 96, 97, 98, 99])"
      ]
     },
     "execution_count": 245,
     "metadata": {},
     "output_type": "execute_result"
    }
   ],
   "source": [
    "a[5::]"
   ]
  },
  {
   "cell_type": "code",
   "execution_count": 246,
   "id": "0ed4125d-19b1-4d31-bc48-d4000ec9bb4f",
   "metadata": {},
   "outputs": [
    {
     "data": {
      "text/plain": [
       "\u001b[0;31mSignature:\u001b[0m \u001b[0mnp\u001b[0m\u001b[0;34m.\u001b[0m\u001b[0mindices\u001b[0m\u001b[0;34m(\u001b[0m\u001b[0mdimensions\u001b[0m\u001b[0;34m,\u001b[0m \u001b[0mdtype\u001b[0m\u001b[0;34m=\u001b[0m\u001b[0;34m<\u001b[0m\u001b[0;32mclass\u001b[0m \u001b[0;34m'int'\u001b[0m\u001b[0;34m>\u001b[0m\u001b[0;34m,\u001b[0m \u001b[0msparse\u001b[0m\u001b[0;34m=\u001b[0m\u001b[0;32mFalse\u001b[0m\u001b[0;34m)\u001b[0m\u001b[0;34m\u001b[0m\u001b[0;34m\u001b[0m\u001b[0m\n",
       "\u001b[0;31mDocstring:\u001b[0m\n",
       "Return an array representing the indices of a grid.\n",
       "\n",
       "Compute an array where the subarrays contain index values 0, 1, ...\n",
       "varying only along the corresponding axis.\n",
       "\n",
       "Parameters\n",
       "----------\n",
       "dimensions : sequence of ints\n",
       "    The shape of the grid.\n",
       "dtype : dtype, optional\n",
       "    Data type of the result.\n",
       "sparse : boolean, optional\n",
       "    Return a sparse representation of the grid instead of a dense\n",
       "    representation. Default is False.\n",
       "\n",
       "    .. versionadded:: 1.17\n",
       "\n",
       "Returns\n",
       "-------\n",
       "grid : one ndarray or tuple of ndarrays\n",
       "    If sparse is False:\n",
       "        Returns one array of grid indices,\n",
       "        ``grid.shape = (len(dimensions),) + tuple(dimensions)``.\n",
       "    If sparse is True:\n",
       "        Returns a tuple of arrays, with\n",
       "        ``grid[i].shape = (1, ..., 1, dimensions[i], 1, ..., 1)`` with\n",
       "        dimensions[i] in the ith place\n",
       "\n",
       "See Also\n",
       "--------\n",
       "mgrid, ogrid, meshgrid\n",
       "\n",
       "Notes\n",
       "-----\n",
       "The output shape in the dense case is obtained by prepending the number\n",
       "of dimensions in front of the tuple of dimensions, i.e. if `dimensions`\n",
       "is a tuple ``(r0, ..., rN-1)`` of length ``N``, the output shape is\n",
       "``(N, r0, ..., rN-1)``.\n",
       "\n",
       "The subarrays ``grid[k]`` contains the N-D array of indices along the\n",
       "``k-th`` axis. Explicitly::\n",
       "\n",
       "    grid[k, i0, i1, ..., iN-1] = ik\n",
       "\n",
       "Examples\n",
       "--------\n",
       ">>> grid = np.indices((2, 3))\n",
       ">>> grid.shape\n",
       "(2, 2, 3)\n",
       ">>> grid[0]        # row indices\n",
       "array([[0, 0, 0],\n",
       "       [1, 1, 1]])\n",
       ">>> grid[1]        # column indices\n",
       "array([[0, 1, 2],\n",
       "       [0, 1, 2]])\n",
       "\n",
       "The indices can be used as an index into an array.\n",
       "\n",
       ">>> x = np.arange(20).reshape(5, 4)\n",
       ">>> row, col = np.indices((2, 3))\n",
       ">>> x[row, col]\n",
       "array([[0, 1, 2],\n",
       "       [4, 5, 6]])\n",
       "\n",
       "Note that it would be more straightforward in the above example to\n",
       "extract the required elements directly with ``x[:2, :3]``.\n",
       "\n",
       "If sparse is set to true, the grid will be returned in a sparse\n",
       "representation.\n",
       "\n",
       ">>> i, j = np.indices((2, 3), sparse=True)\n",
       ">>> i.shape\n",
       "(2, 1)\n",
       ">>> j.shape\n",
       "(1, 3)\n",
       ">>> i        # row indices\n",
       "array([[0],\n",
       "       [1]])\n",
       ">>> j        # column indices\n",
       "array([[0, 1, 2]])\n",
       "\u001b[0;31mFile:\u001b[0m      ~/.local/lib/python3.10/site-packages/numpy/core/numeric.py\n",
       "\u001b[0;31mType:\u001b[0m      function"
      ]
     },
     "metadata": {},
     "output_type": "display_data"
    }
   ],
   "source": [
    "np.indices?"
   ]
  },
  {
   "cell_type": "code",
   "execution_count": 247,
   "id": "9a3cdc73-878f-427e-bb3b-b87732c3b5e2",
   "metadata": {},
   "outputs": [],
   "source": [
    "idx=np.argwhere(a==-1200)"
   ]
  },
  {
   "cell_type": "code",
   "execution_count": 248,
   "id": "ac15f343-6238-4000-914b-67038f4a8e8d",
   "metadata": {},
   "outputs": [
    {
     "data": {
      "text/plain": [
       "array([[3]])"
      ]
     },
     "execution_count": 248,
     "metadata": {},
     "output_type": "execute_result"
    }
   ],
   "source": [
    "idx"
   ]
  },
  {
   "cell_type": "code",
   "execution_count": 249,
   "id": "9eb7d076-c19c-4444-a56c-bea02398ec86",
   "metadata": {},
   "outputs": [],
   "source": [
    "a[idx]=3"
   ]
  },
  {
   "cell_type": "code",
   "execution_count": 250,
   "id": "dbc361cc-c6a0-4186-a673-99387157e9e6",
   "metadata": {},
   "outputs": [
    {
     "data": {
      "text/plain": [
       "array([ 0,  1,  2,  3,  4,  5,  6,  7,  8,  9, 10, 11, 12, 13, 14, 15, 16,\n",
       "       17, 18, 19, 20, 21, 22, 23, 24, 25, 26, 27, 28, 29, 30, 31, 32, 33,\n",
       "       34, 35, 36, 37, 38, 39, 40, 41, 42, 43, 44, 45, 46, 47, 48, 49, 50,\n",
       "       51, 52, 53, 54, 55, 56, 57, 58, 59, 60, 61, 62, 63, 64, 65, 66, 67,\n",
       "       68, 69, 70, 71, 72, 73, 74, 75, 76, 77, 78, 79, 80, 81, 82, 83, 84,\n",
       "       85, 86, 87, 88, 89, 90, 91, 92, 93, 94, 95, 96, 97, 98, 99])"
      ]
     },
     "execution_count": 250,
     "metadata": {},
     "output_type": "execute_result"
    }
   ],
   "source": [
    "a"
   ]
  },
  {
   "cell_type": "code",
   "execution_count": 252,
   "id": "216b7694-134e-414a-849e-fe007eea72c6",
   "metadata": {},
   "outputs": [],
   "source": [
    "a=np.round(10*np.random.rand(5,4))"
   ]
  },
  {
   "cell_type": "code",
   "execution_count": 253,
   "id": "f0e64e6c-53db-4781-afb0-9ad120e753de",
   "metadata": {},
   "outputs": [
    {
     "data": {
      "text/plain": [
       "array([[7., 5., 6., 7.],\n",
       "       [4., 2., 1., 1.],\n",
       "       [1., 5., 7., 7.],\n",
       "       [8., 1., 8., 2.],\n",
       "       [1., 4., 8., 2.]])"
      ]
     },
     "execution_count": 253,
     "metadata": {},
     "output_type": "execute_result"
    }
   ],
   "source": [
    "a"
   ]
  },
  {
   "cell_type": "code",
   "execution_count": 254,
   "id": "ee8f8700-03c5-49a0-9a1a-40c000a3d03a",
   "metadata": {},
   "outputs": [
    {
     "data": {
      "text/plain": [
       "7.0"
      ]
     },
     "execution_count": 254,
     "metadata": {},
     "output_type": "execute_result"
    }
   ],
   "source": [
    "a[2][3]"
   ]
  },
  {
   "cell_type": "code",
   "execution_count": 255,
   "id": "7271abdb-e148-4f77-be4e-a07fd666785c",
   "metadata": {},
   "outputs": [
    {
     "data": {
      "text/plain": [
       "1.0"
      ]
     },
     "execution_count": 255,
     "metadata": {},
     "output_type": "execute_result"
    }
   ],
   "source": [
    "a[1,2]"
   ]
  },
  {
   "cell_type": "code",
   "execution_count": 256,
   "id": "f0c09f22-1163-4156-be74-f0c0726f1a54",
   "metadata": {},
   "outputs": [
    {
     "data": {
      "text/plain": [
       "array([[1., 5., 7., 7.],\n",
       "       [8., 1., 8., 2.],\n",
       "       [1., 4., 8., 2.]])"
      ]
     },
     "execution_count": 256,
     "metadata": {},
     "output_type": "execute_result"
    }
   ],
   "source": [
    "a[2:]"
   ]
  },
  {
   "cell_type": "code",
   "execution_count": 257,
   "id": "080d5230-17a9-4be8-9577-f3b281737d1d",
   "metadata": {},
   "outputs": [
    {
     "data": {
      "text/plain": [
       "array([1., 5., 7., 7.])"
      ]
     },
     "execution_count": 257,
     "metadata": {},
     "output_type": "execute_result"
    }
   ],
   "source": [
    "a[2,:]"
   ]
  },
  {
   "cell_type": "code",
   "execution_count": 259,
   "id": "0e550e90-90fb-4562-9539-b4be59b002c5",
   "metadata": {},
   "outputs": [
    {
     "data": {
      "text/plain": [
       "array([7., 1., 7., 2., 2.])"
      ]
     },
     "execution_count": 259,
     "metadata": {},
     "output_type": "execute_result"
    }
   ],
   "source": [
    "a[:,3]"
   ]
  },
  {
   "cell_type": "code",
   "execution_count": 262,
   "id": "ab4d51e0-761b-4e5a-96e6-b7b59454ee14",
   "metadata": {},
   "outputs": [
    {
     "data": {
      "text/plain": [
       "array([[1., 1.],\n",
       "       [7., 7.]])"
      ]
     },
     "execution_count": 262,
     "metadata": {},
     "output_type": "execute_result"
    }
   ],
   "source": [
    "a[1:3,2:4]"
   ]
  },
  {
   "cell_type": "code",
   "execution_count": 264,
   "id": "661f8f2e-c70d-450a-a9b3-8adb3151041d",
   "metadata": {},
   "outputs": [
    {
     "data": {
      "text/plain": [
       "array([[7., 4., 1., 8., 1.],\n",
       "       [5., 2., 5., 1., 4.],\n",
       "       [6., 1., 7., 8., 8.],\n",
       "       [7., 1., 7., 2., 2.]])"
      ]
     },
     "execution_count": 264,
     "metadata": {},
     "output_type": "execute_result"
    }
   ],
   "source": [
    "a.T#transpose"
   ]
  },
  {
   "cell_type": "code",
   "execution_count": 265,
   "id": "8d85e701-dbdf-483f-a895-02adbde56376",
   "metadata": {},
   "outputs": [],
   "source": [
    "import numpy.linalg as la"
   ]
  },
  {
   "cell_type": "code",
   "execution_count": 266,
   "id": "aa9e2c0c-0da7-4bea-b60e-07d5fec961ec",
   "metadata": {},
   "outputs": [
    {
     "data": {
      "text/plain": [
       "array([[ 1.1802848 , -1.43384255,  0.93399632],\n",
       "       [ 2.07640157,  0.5134017 , -1.80420267],\n",
       "       [-2.57934743,  1.43533519,  1.50274539]])"
      ]
     },
     "execution_count": 266,
     "metadata": {},
     "output_type": "execute_result"
    }
   ],
   "source": [
    "la.inv(np.random.rand(3,3))"
   ]
  },
  {
   "cell_type": "code",
   "execution_count": 267,
   "id": "877a5f78-433e-4f3f-b155-1eda36ad9da7",
   "metadata": {},
   "outputs": [
    {
     "data": {
      "text/plain": [
       "array([[7., 5., 6., 7.],\n",
       "       [4., 2., 1., 1.],\n",
       "       [1., 5., 7., 7.],\n",
       "       [8., 1., 8., 2.],\n",
       "       [1., 4., 8., 2.]])"
      ]
     },
     "execution_count": 267,
     "metadata": {},
     "output_type": "execute_result"
    }
   ],
   "source": [
    "a"
   ]
  },
  {
   "cell_type": "code",
   "execution_count": 268,
   "id": "61b0828f-76eb-48c5-8c49-13e134258301",
   "metadata": {},
   "outputs": [],
   "source": [
    "a.sort(axis=0)"
   ]
  },
  {
   "cell_type": "code",
   "execution_count": 269,
   "id": "ca526285-3228-4f9a-a553-05977b9baff8",
   "metadata": {},
   "outputs": [
    {
     "data": {
      "text/plain": [
       "array([[1., 1., 1., 1.],\n",
       "       [1., 2., 6., 2.],\n",
       "       [4., 4., 7., 2.],\n",
       "       [7., 5., 8., 7.],\n",
       "       [8., 5., 8., 7.]])"
      ]
     },
     "execution_count": 269,
     "metadata": {},
     "output_type": "execute_result"
    }
   ],
   "source": [
    "a"
   ]
  },
  {
   "cell_type": "code",
   "execution_count": 270,
   "id": "f65f0ebf-31fa-45fa-9178-1cfe3586f1cb",
   "metadata": {},
   "outputs": [],
   "source": [
    "a.sort(axis=1)"
   ]
  },
  {
   "cell_type": "code",
   "execution_count": 271,
   "id": "d097ece5-5668-4c2a-a876-803022cb0059",
   "metadata": {},
   "outputs": [
    {
     "data": {
      "text/plain": [
       "array([[1., 1., 1., 1.],\n",
       "       [1., 2., 2., 6.],\n",
       "       [2., 4., 4., 7.],\n",
       "       [5., 7., 7., 8.],\n",
       "       [5., 7., 8., 8.]])"
      ]
     },
     "execution_count": 271,
     "metadata": {},
     "output_type": "execute_result"
    }
   ],
   "source": [
    "a"
   ]
  },
  {
   "cell_type": "code",
   "execution_count": 272,
   "id": "b8b3cb2f-ab13-4591-9b0b-85c85fe6dfb7",
   "metadata": {},
   "outputs": [],
   "source": [
    "# numpy more indexing "
   ]
  },
  {
   "cell_type": "code",
   "execution_count": 273,
   "id": "d0f496ef-3141-4778-9ec4-8422beebc450",
   "metadata": {},
   "outputs": [],
   "source": [
    "#a[1,4,6]"
   ]
  },
  {
   "cell_type": "code",
   "execution_count": 274,
   "id": "b72292a7-0657-4ba6-9fad-0f7bf9ab0473",
   "metadata": {},
   "outputs": [],
   "source": [
    "#a[True,False,True,False]"
   ]
  },
  {
   "cell_type": "code",
   "execution_count": 275,
   "id": "1a8f9948-1121-44b7-86a1-1dc4013f8c31",
   "metadata": {},
   "outputs": [],
   "source": [
    "#a[a<8]"
   ]
  },
  {
   "cell_type": "code",
   "execution_count": 276,
   "id": "d2e9c677-ec77-49a9-861c-854dbc6dc7b7",
   "metadata": {},
   "outputs": [],
   "source": [
    "#a[a<8 and a>4]"
   ]
  },
  {
   "cell_type": "code",
   "execution_count": 278,
   "id": "67950f45-7ca1-415a-981b-ba958ae376c2",
   "metadata": {},
   "outputs": [],
   "source": [
    "a=np.arange(100)"
   ]
  },
  {
   "cell_type": "code",
   "execution_count": 280,
   "id": "1a87dd69-f45c-4de0-aa85-8a8bbfe4a121",
   "metadata": {},
   "outputs": [],
   "source": [
    "b=a[[3,5,9]]"
   ]
  },
  {
   "cell_type": "code",
   "execution_count": 281,
   "id": "7c8b7388-2e01-4a1a-9ab2-fa5d9abab49b",
   "metadata": {},
   "outputs": [
    {
     "data": {
      "text/plain": [
       "array([3, 5, 9])"
      ]
     },
     "execution_count": 281,
     "metadata": {},
     "output_type": "execute_result"
    }
   ],
   "source": [
    "b"
   ]
  },
  {
   "cell_type": "code",
   "execution_count": 282,
   "id": "36b6fd55-2b3d-4507-853c-4150002cb23b",
   "metadata": {},
   "outputs": [],
   "source": [
    "b[0]=-23"
   ]
  },
  {
   "cell_type": "code",
   "execution_count": 283,
   "id": "f222c897-0c5a-4bab-b4c4-26eb6103efe6",
   "metadata": {},
   "outputs": [
    {
     "data": {
      "text/plain": [
       "array([-23,   5,   9])"
      ]
     },
     "execution_count": 283,
     "metadata": {},
     "output_type": "execute_result"
    }
   ],
   "source": [
    "b"
   ]
  },
  {
   "cell_type": "code",
   "execution_count": 284,
   "id": "8ea3fb21-641b-4d8a-8b54-a18802e4a3aa",
   "metadata": {},
   "outputs": [
    {
     "data": {
      "text/plain": [
       "array([ 0,  1,  2,  3,  4,  5,  6,  7,  8,  9, 10, 11, 12, 13, 14, 15, 16,\n",
       "       17, 18, 19, 20, 21, 22, 23, 24, 25, 26, 27, 28, 29, 30, 31, 32, 33,\n",
       "       34, 35, 36, 37, 38, 39, 40, 41, 42, 43, 44, 45, 46, 47, 48, 49, 50,\n",
       "       51, 52, 53, 54, 55, 56, 57, 58, 59, 60, 61, 62, 63, 64, 65, 66, 67,\n",
       "       68, 69, 70, 71, 72, 73, 74, 75, 76, 77, 78, 79, 80, 81, 82, 83, 84,\n",
       "       85, 86, 87, 88, 89, 90, 91, 92, 93, 94, 95, 96, 97, 98, 99])"
      ]
     },
     "execution_count": 284,
     "metadata": {},
     "output_type": "execute_result"
    }
   ],
   "source": [
    "a"
   ]
  },
  {
   "cell_type": "code",
   "execution_count": 285,
   "id": "2b5f6019-95c2-44fa-8935-6d68494dfb65",
   "metadata": {},
   "outputs": [],
   "source": [
    "b=a[a<45]"
   ]
  },
  {
   "cell_type": "code",
   "execution_count": 286,
   "id": "11b21b40-3c41-4b66-98c4-022ed2254eee",
   "metadata": {},
   "outputs": [
    {
     "data": {
      "text/plain": [
       "array([ 0,  1,  2,  3,  4,  5,  6,  7,  8,  9, 10, 11, 12, 13, 14, 15, 16,\n",
       "       17, 18, 19, 20, 21, 22, 23, 24, 25, 26, 27, 28, 29, 30, 31, 32, 33,\n",
       "       34, 35, 36, 37, 38, 39, 40, 41, 42, 43, 44])"
      ]
     },
     "execution_count": 286,
     "metadata": {},
     "output_type": "execute_result"
    }
   ],
   "source": [
    "b"
   ]
  },
  {
   "cell_type": "code",
   "execution_count": 289,
   "id": "f09042fa-ca74-4c88-ab12-3c345f1c4686",
   "metadata": {},
   "outputs": [],
   "source": [
    "b=a[(a<40) & (a>10)]"
   ]
  },
  {
   "cell_type": "code",
   "execution_count": 290,
   "id": "9c78fb37-2b48-407a-b775-e2ace884c108",
   "metadata": {},
   "outputs": [
    {
     "data": {
      "text/plain": [
       "array([11, 12, 13, 14, 15, 16, 17, 18, 19, 20, 21, 22, 23, 24, 25, 26, 27,\n",
       "       28, 29, 30, 31, 32, 33, 34, 35, 36, 37, 38, 39])"
      ]
     },
     "execution_count": 290,
     "metadata": {},
     "output_type": "execute_result"
    }
   ],
   "source": [
    "b"
   ]
  },
  {
   "cell_type": "code",
   "execution_count": 291,
   "id": "9fe1c8cc-5842-4fa8-99c6-356f10571315",
   "metadata": {},
   "outputs": [],
   "source": [
    "#& , and : & is used in arras and and used in single objects "
   ]
  },
  {
   "cell_type": "code",
   "execution_count": 292,
   "id": "31e0baa0-9e04-4f94-a327-e351ab3581db",
   "metadata": {},
   "outputs": [],
   "source": [
    "# &,and\n",
    "#| , or\n",
    "# ~ or not"
   ]
  },
  {
   "cell_type": "code",
   "execution_count": 293,
   "id": "3f4d2096-6b7f-49c0-b5f1-30c6faa66e1f",
   "metadata": {},
   "outputs": [],
   "source": [
    "# numpy broadcasting"
   ]
  },
  {
   "cell_type": "code",
   "execution_count": 294,
   "id": "d07fb103-9fa0-4133-b399-5afcff9bc813",
   "metadata": {},
   "outputs": [],
   "source": [
    "#a=a+5"
   ]
  },
  {
   "cell_type": "code",
   "execution_count": 295,
   "id": "54064683-2f08-4f47-a8c1-711be2348ad2",
   "metadata": {},
   "outputs": [],
   "source": [
    "#numpy hstack,vstack,sort(axis=0)"
   ]
  },
  {
   "cell_type": "code",
   "execution_count": 296,
   "id": "4ba4f27e-ed66-48db-9666-dba61eed50c5",
   "metadata": {},
   "outputs": [],
   "source": [
    "a=np.round(10*np.random.rand(2,3))"
   ]
  },
  {
   "cell_type": "code",
   "execution_count": 297,
   "id": "cde7fed5-a4f5-4155-973c-752d7ce1acb2",
   "metadata": {},
   "outputs": [
    {
     "data": {
      "text/plain": [
       "array([[3., 7., 5.],\n",
       "       [4., 3., 5.]])"
      ]
     },
     "execution_count": 297,
     "metadata": {},
     "output_type": "execute_result"
    }
   ],
   "source": [
    "a"
   ]
  },
  {
   "cell_type": "code",
   "execution_count": 298,
   "id": "914be26c-b467-47aa-a208-c115436ad36d",
   "metadata": {},
   "outputs": [
    {
     "data": {
      "text/plain": [
       "array([[ 6., 10.,  8.],\n",
       "       [ 7.,  6.,  8.]])"
      ]
     },
     "execution_count": 298,
     "metadata": {},
     "output_type": "execute_result"
    }
   ],
   "source": [
    "a+3"
   ]
  },
  {
   "cell_type": "code",
   "execution_count": 299,
   "id": "7df7805c-635f-4e48-a2bb-906996e32a0f",
   "metadata": {},
   "outputs": [
    {
     "data": {
      "text/plain": [
       "array([[3., 7., 5.],\n",
       "       [5., 4., 6.]])"
      ]
     },
     "execution_count": 299,
     "metadata": {},
     "output_type": "execute_result"
    }
   ],
   "source": [
    "a+(np.arange(2).reshape(2,1))"
   ]
  },
  {
   "cell_type": "code",
   "execution_count": 300,
   "id": "4dfd4363-325b-4051-a3ed-94da59d47d05",
   "metadata": {},
   "outputs": [],
   "source": [
    "b=np.round(10*np.random.rand(2,2))"
   ]
  },
  {
   "cell_type": "code",
   "execution_count": 304,
   "id": "48960422-94a3-4439-94bd-c3042cb621e6",
   "metadata": {},
   "outputs": [
    {
     "data": {
      "text/plain": [
       "array([[3., 7., 5.],\n",
       "       [4., 3., 5.]])"
      ]
     },
     "execution_count": 304,
     "metadata": {},
     "output_type": "execute_result"
    }
   ],
   "source": [
    "a"
   ]
  },
  {
   "cell_type": "code",
   "execution_count": 301,
   "id": "908413be-0701-4bb3-be9f-b713aeb8f590",
   "metadata": {},
   "outputs": [
    {
     "data": {
      "text/plain": [
       "array([[4., 9.],\n",
       "       [7., 6.]])"
      ]
     },
     "execution_count": 301,
     "metadata": {},
     "output_type": "execute_result"
    }
   ],
   "source": [
    "b"
   ]
  },
  {
   "cell_type": "code",
   "execution_count": 302,
   "id": "24bc64f1-9d2d-452c-b5d4-22d9ffb4c644",
   "metadata": {},
   "outputs": [],
   "source": [
    "c=np.hstack((a,b))"
   ]
  },
  {
   "cell_type": "code",
   "execution_count": 303,
   "id": "8bbce349-6db8-42b5-b56f-9cce7a1e52af",
   "metadata": {},
   "outputs": [
    {
     "data": {
      "text/plain": [
       "array([[3., 7., 5., 4., 9.],\n",
       "       [4., 3., 5., 7., 6.]])"
      ]
     },
     "execution_count": 303,
     "metadata": {},
     "output_type": "execute_result"
    }
   ],
   "source": [
    "c"
   ]
  },
  {
   "cell_type": "code",
   "execution_count": 307,
   "id": "69e292f4-2dba-453b-8544-91d370395d94",
   "metadata": {},
   "outputs": [
    {
     "ename": "ValueError",
     "evalue": "all the input array dimensions except for the concatenation axis must match exactly, but along dimension 1, the array at index 0 has size 3 and the array at index 1 has size 2",
     "output_type": "error",
     "traceback": [
      "\u001b[0;31m---------------------------------------------------------------------------\u001b[0m",
      "\u001b[0;31mValueError\u001b[0m                                Traceback (most recent call last)",
      "Cell \u001b[0;32mIn[307], line 1\u001b[0m\n\u001b[0;32m----> 1\u001b[0m d\u001b[38;5;241m=\u001b[39m\u001b[43mnp\u001b[49m\u001b[38;5;241;43m.\u001b[39;49m\u001b[43mvstack\u001b[49m\u001b[43m(\u001b[49m\u001b[43m(\u001b[49m\u001b[43ma\u001b[49m\u001b[43m,\u001b[49m\u001b[43mb\u001b[49m\u001b[43m)\u001b[49m\u001b[43m)\u001b[49m\n",
      "File \u001b[0;32m~/.local/lib/python3.10/site-packages/numpy/core/shape_base.py:289\u001b[0m, in \u001b[0;36mvstack\u001b[0;34m(tup, dtype, casting)\u001b[0m\n\u001b[1;32m    287\u001b[0m \u001b[38;5;28;01mif\u001b[39;00m \u001b[38;5;129;01mnot\u001b[39;00m \u001b[38;5;28misinstance\u001b[39m(arrs, \u001b[38;5;28mlist\u001b[39m):\n\u001b[1;32m    288\u001b[0m     arrs \u001b[38;5;241m=\u001b[39m [arrs]\n\u001b[0;32m--> 289\u001b[0m \u001b[38;5;28;01mreturn\u001b[39;00m \u001b[43m_nx\u001b[49m\u001b[38;5;241;43m.\u001b[39;49m\u001b[43mconcatenate\u001b[49m\u001b[43m(\u001b[49m\u001b[43marrs\u001b[49m\u001b[43m,\u001b[49m\u001b[43m \u001b[49m\u001b[38;5;241;43m0\u001b[39;49m\u001b[43m,\u001b[49m\u001b[43m \u001b[49m\u001b[43mdtype\u001b[49m\u001b[38;5;241;43m=\u001b[39;49m\u001b[43mdtype\u001b[49m\u001b[43m,\u001b[49m\u001b[43m \u001b[49m\u001b[43mcasting\u001b[49m\u001b[38;5;241;43m=\u001b[39;49m\u001b[43mcasting\u001b[49m\u001b[43m)\u001b[49m\n",
      "\u001b[0;31mValueError\u001b[0m: all the input array dimensions except for the concatenation axis must match exactly, but along dimension 1, the array at index 0 has size 3 and the array at index 1 has size 2"
     ]
    }
   ],
   "source": [
    "d=np.vstack((a,b))"
   ]
  },
  {
   "cell_type": "code",
   "execution_count": 308,
   "id": "aa44e96a-5af7-4fd0-9fcb-565d684f4631",
   "metadata": {},
   "outputs": [],
   "source": [
    "a=np.random.permutation(np.arange(10))"
   ]
  },
  {
   "cell_type": "code",
   "execution_count": 309,
   "id": "88ff7bb3-f475-4295-b531-33d7e65e60e3",
   "metadata": {},
   "outputs": [
    {
     "data": {
      "text/plain": [
       "array([0, 5, 4, 1, 2, 6, 7, 8, 9, 3])"
      ]
     },
     "execution_count": 309,
     "metadata": {},
     "output_type": "execute_result"
    }
   ],
   "source": [
    "a"
   ]
  },
  {
   "cell_type": "code",
   "execution_count": 310,
   "id": "f0723859-114e-4450-ac82-80df5d21bcea",
   "metadata": {},
   "outputs": [],
   "source": [
    "a.sort()"
   ]
  },
  {
   "cell_type": "code",
   "execution_count": 311,
   "id": "03baacd4-2c82-4cb7-a965-bde0a6872b5e",
   "metadata": {},
   "outputs": [
    {
     "data": {
      "text/plain": [
       "array([0, 1, 2, 3, 4, 5, 6, 7, 8, 9])"
      ]
     },
     "execution_count": 311,
     "metadata": {},
     "output_type": "execute_result"
    }
   ],
   "source": [
    "a"
   ]
  },
  {
   "cell_type": "code",
   "execution_count": 312,
   "id": "5b64407c-2e54-499b-987f-c73a2811de6b",
   "metadata": {},
   "outputs": [
    {
     "data": {
      "text/plain": [
       "array([0, 1, 2, 3, 4, 5, 6, 7, 8, 9])"
      ]
     },
     "execution_count": 312,
     "metadata": {},
     "output_type": "execute_result"
    }
   ],
   "source": [
    "np.sort(a)"
   ]
  },
  {
   "cell_type": "code",
   "execution_count": 313,
   "id": "6e8a115a-c5d2-430b-b079-0c7442dc02b6",
   "metadata": {},
   "outputs": [],
   "source": [
    "a.sort()"
   ]
  },
  {
   "cell_type": "code",
   "execution_count": 314,
   "id": "e7205838-22c8-4580-b684-4a3a83f5ca38",
   "metadata": {},
   "outputs": [
    {
     "data": {
      "text/plain": [
       "array([9, 8, 7, 6, 5, 4, 3, 2, 1, 0])"
      ]
     },
     "execution_count": 314,
     "metadata": {},
     "output_type": "execute_result"
    }
   ],
   "source": [
    "a[::-1]"
   ]
  },
  {
   "cell_type": "code",
   "execution_count": 315,
   "id": "c458c7be-0e26-4484-8c98-d646aa9173bb",
   "metadata": {},
   "outputs": [],
   "source": [
    "a=np.array([\"abc\",\"howare u\",\"8ygx62\", \"qshxb\"])"
   ]
  },
  {
   "cell_type": "code",
   "execution_count": 316,
   "id": "3af6daca-1129-47e5-be2a-eb4ec24fb046",
   "metadata": {},
   "outputs": [
    {
     "data": {
      "text/plain": [
       "array(['8ygx62', 'abc', 'howare u', 'qshxb'], dtype='<U8')"
      ]
     },
     "execution_count": 316,
     "metadata": {},
     "output_type": "execute_result"
    }
   ],
   "source": [
    "np.sort(a)"
   ]
  },
  {
   "cell_type": "code",
   "execution_count": 317,
   "id": "309b1414-2ead-4e89-8db2-3d2f38c724fb",
   "metadata": {},
   "outputs": [],
   "source": [
    "# numpy speed:ufuncs"
   ]
  },
  {
   "cell_type": "code",
   "execution_count": 318,
   "id": "ba0d6514-fe1b-4556-bfb7-3b33f7237608",
   "metadata": {},
   "outputs": [],
   "source": [
    "b=np.random.rand(1000000)"
   ]
  },
  {
   "cell_type": "code",
   "execution_count": 319,
   "id": "d2142e91-1399-4298-a87b-cf81e59389bf",
   "metadata": {},
   "outputs": [
    {
     "name": "stdout",
     "output_type": "stream",
     "text": [
      "125 ms ± 27.8 ms per loop (mean ± std. dev. of 7 runs, 1 loop each)\n",
      "671 µs ± 75.5 µs per loop (mean ± std. dev. of 7 runs, 1,000 loops each)\n"
     ]
    }
   ],
   "source": [
    "%timeit sum(b)\n",
    "%timeit np.sum(b)"
   ]
  },
  {
   "cell_type": "code",
   "execution_count": 320,
   "id": "79a0a232-fbb9-4712-b240-a6d6677f2f87",
   "metadata": {},
   "outputs": [],
   "source": [
    "def mySum(G):\n",
    "    s = 0\n",
    "    for x in G:\n",
    "        s+=x\n",
    "    return s"
   ]
  },
  {
   "cell_type": "code",
   "execution_count": 321,
   "id": "397668ba-6405-43ca-9219-cf696b6710ad",
   "metadata": {},
   "outputs": [
    {
     "name": "stdout",
     "output_type": "stream",
     "text": [
      "203 ms ± 30.5 ms per loop (mean ± std. dev. of 7 runs, 1 loop each)\n"
     ]
    }
   ],
   "source": [
    "%timeit mySum(b)"
   ]
  },
  {
   "cell_type": "markdown",
   "id": "bd2105c8-0951-4f63-b382-e280bc8e49e0",
   "metadata": {},
   "source": [
    "# Pandas"
   ]
  },
  {
   "cell_type": "code",
   "execution_count": 322,
   "id": "09245512-619a-48b8-899a-b014d1b2cb62",
   "metadata": {},
   "outputs": [],
   "source": [
    "import pandas as pd"
   ]
  },
  {
   "cell_type": "code",
   "execution_count": 324,
   "id": "705b11cd-4bdb-40b7-a1b8-1b0e471efff4",
   "metadata": {},
   "outputs": [
    {
     "name": "stdout",
     "output_type": "stream",
     "text": [
      "2.0.3\n"
     ]
    }
   ],
   "source": [
    "print(pd.__version__)"
   ]
  },
  {
   "cell_type": "code",
   "execution_count": 327,
   "id": "ad8af598-2c08-4230-8a68-d8fb8a4f2567",
   "metadata": {},
   "outputs": [],
   "source": [
    "a=pd.Series([2,3,4,5],index=['a','b','c','d',])"
   ]
  },
  {
   "cell_type": "code",
   "execution_count": 328,
   "id": "2650a5c8-6cfe-4da3-aff7-69c4dba974d5",
   "metadata": {},
   "outputs": [
    {
     "data": {
      "text/plain": [
       "array([2, 3, 4, 5])"
      ]
     },
     "execution_count": 328,
     "metadata": {},
     "output_type": "execute_result"
    }
   ],
   "source": [
    "a.values"
   ]
  },
  {
   "cell_type": "code",
   "execution_count": 329,
   "id": "dd819987-d40a-4158-93c1-97dd2aff1089",
   "metadata": {},
   "outputs": [
    {
     "data": {
      "text/plain": [
       "a    2\n",
       "b    3\n",
       "c    4\n",
       "d    5\n",
       "dtype: int64"
      ]
     },
     "execution_count": 329,
     "metadata": {},
     "output_type": "execute_result"
    }
   ],
   "source": [
    "a"
   ]
  },
  {
   "cell_type": "code",
   "execution_count": 330,
   "id": "37a94a10-6aa6-4273-8e84-94281607ebf4",
   "metadata": {},
   "outputs": [
    {
     "data": {
      "text/plain": [
       "pandas.core.series.Series"
      ]
     },
     "execution_count": 330,
     "metadata": {},
     "output_type": "execute_result"
    }
   ],
   "source": [
    "type(a)"
   ]
  },
  {
   "cell_type": "code",
   "execution_count": 332,
   "id": "9a569ef3-cffe-4608-9f90-3017b40d6846",
   "metadata": {},
   "outputs": [
    {
     "data": {
      "text/plain": [
       "numpy.ndarray"
      ]
     },
     "execution_count": 332,
     "metadata": {},
     "output_type": "execute_result"
    }
   ],
   "source": [
    "type(a.values)"
   ]
  },
  {
   "cell_type": "code",
   "execution_count": 333,
   "id": "ceaa867b-cea1-4fa9-81ca-ee0c87f89c4b",
   "metadata": {},
   "outputs": [
    {
     "data": {
      "text/plain": [
       "Index(['a', 'b', 'c', 'd'], dtype='object')"
      ]
     },
     "execution_count": 333,
     "metadata": {},
     "output_type": "execute_result"
    }
   ],
   "source": [
    "a.index"
   ]
  },
  {
   "cell_type": "code",
   "execution_count": 334,
   "id": "e1f9cf2a-b40a-45fb-aabe-f721e4ea5302",
   "metadata": {},
   "outputs": [
    {
     "data": {
      "text/plain": [
       "2"
      ]
     },
     "execution_count": 334,
     "metadata": {},
     "output_type": "execute_result"
    }
   ],
   "source": [
    "a['a']"
   ]
  },
  {
   "cell_type": "code",
   "execution_count": 335,
   "id": "878b1b56-aee5-4b5c-b516-53cb1939dc50",
   "metadata": {},
   "outputs": [
    {
     "data": {
      "text/plain": [
       "a    2\n",
       "b    3\n",
       "c    4\n",
       "dtype: int64"
      ]
     },
     "execution_count": 335,
     "metadata": {},
     "output_type": "execute_result"
    }
   ],
   "source": [
    "a['a':'c']"
   ]
  },
  {
   "cell_type": "code",
   "execution_count": 339,
   "id": "cb24034f-c2b9-4ea7-b322-5116a6ff7c02",
   "metadata": {},
   "outputs": [],
   "source": [
    "# Pandas series"
   ]
  },
  {
   "cell_type": "code",
   "execution_count": 336,
   "id": "8e9e5384-297e-4f7d-8b3d-e5f2ae23e570",
   "metadata": {},
   "outputs": [],
   "source": [
    "grads_dict = {'A':4,'B':3.5,'C':3,'D':2.5}"
   ]
  },
  {
   "cell_type": "code",
   "execution_count": 337,
   "id": "d8788fce-57e6-4b18-91e0-742853de7f12",
   "metadata": {},
   "outputs": [],
   "source": [
    "grads = pd.Series(grads_dict)"
   ]
  },
  {
   "cell_type": "code",
   "execution_count": 338,
   "id": "446c4024-0ff5-4052-8778-3747f9545010",
   "metadata": {},
   "outputs": [
    {
     "data": {
      "text/plain": [
       "A    4.0\n",
       "B    3.5\n",
       "C    3.0\n",
       "D    2.5\n",
       "dtype: float64"
      ]
     },
     "execution_count": 338,
     "metadata": {},
     "output_type": "execute_result"
    }
   ],
   "source": [
    "grads"
   ]
  },
  {
   "cell_type": "code",
   "execution_count": 340,
   "id": "1cc176af-2466-4aec-9521-93f38213b5fd",
   "metadata": {},
   "outputs": [
    {
     "data": {
      "text/plain": [
       "Index(['A', 'B', 'C', 'D'], dtype='object')"
      ]
     },
     "execution_count": 340,
     "metadata": {},
     "output_type": "execute_result"
    }
   ],
   "source": [
    "grads.index"
   ]
  },
  {
   "cell_type": "code",
   "execution_count": 341,
   "id": "f1a1ff60-6fee-4d00-a1d7-3865ba984573",
   "metadata": {},
   "outputs": [
    {
     "data": {
      "text/plain": [
       "array([4. , 3.5, 3. , 2.5])"
      ]
     },
     "execution_count": 341,
     "metadata": {},
     "output_type": "execute_result"
    }
   ],
   "source": [
    "grads.values"
   ]
  },
  {
   "cell_type": "code",
   "execution_count": 342,
   "id": "e1eb8ad7-c257-4e79-b48e-4d34e8b5b2ab",
   "metadata": {},
   "outputs": [],
   "source": [
    "marks_dict = {'A':85,'B':75,'C':65,'D':55}\n",
    "marks = pd.Series(marks_dict)"
   ]
  },
  {
   "cell_type": "code",
   "execution_count": 343,
   "id": "c521f7fc-a412-4206-b42c-b6a28c8b6342",
   "metadata": {},
   "outputs": [
    {
     "data": {
      "text/plain": [
       "A    85\n",
       "B    75\n",
       "C    65\n",
       "D    55\n",
       "dtype: int64"
      ]
     },
     "execution_count": 343,
     "metadata": {},
     "output_type": "execute_result"
    }
   ],
   "source": [
    "marks"
   ]
  },
  {
   "cell_type": "code",
   "execution_count": 344,
   "id": "bcb88c9c-c5a7-42b9-8655-9955152cbfbc",
   "metadata": {},
   "outputs": [
    {
     "data": {
      "text/plain": [
       "85"
      ]
     },
     "execution_count": 344,
     "metadata": {},
     "output_type": "execute_result"
    }
   ],
   "source": [
    "marks[\"A\"]"
   ]
  },
  {
   "cell_type": "code",
   "execution_count": 345,
   "id": "293322cf-bb94-4004-9071-99b9c8a62986",
   "metadata": {},
   "outputs": [
    {
     "data": {
      "text/plain": [
       "A    85\n",
       "B    75\n",
       "dtype: int64"
      ]
     },
     "execution_count": 345,
     "metadata": {},
     "output_type": "execute_result"
    }
   ],
   "source": [
    "marks[0:2]"
   ]
  },
  {
   "cell_type": "code",
   "execution_count": 346,
   "id": "b2dfd422-9601-4eb9-8f72-7e7b86c5967c",
   "metadata": {},
   "outputs": [],
   "source": [
    "# Pands data frame"
   ]
  },
  {
   "cell_type": "code",
   "execution_count": 347,
   "id": "4df70766-2eb6-48dc-a3ba-77ae4348e874",
   "metadata": {},
   "outputs": [
    {
     "data": {
      "text/plain": [
       "A    85\n",
       "B    75\n",
       "C    65\n",
       "D    55\n",
       "dtype: int64"
      ]
     },
     "execution_count": 347,
     "metadata": {},
     "output_type": "execute_result"
    }
   ],
   "source": [
    "marks"
   ]
  },
  {
   "cell_type": "code",
   "execution_count": 350,
   "id": "404318ab-0f9e-4bfc-8206-ef5a4f0ac0ee",
   "metadata": {},
   "outputs": [
    {
     "data": {
      "text/plain": [
       "A    4.0\n",
       "B    3.5\n",
       "C    3.0\n",
       "D    2.5\n",
       "dtype: float64"
      ]
     },
     "execution_count": 350,
     "metadata": {},
     "output_type": "execute_result"
    }
   ],
   "source": [
    "grads"
   ]
  },
  {
   "cell_type": "code",
   "execution_count": 352,
   "id": "1411a6ff-ff72-459d-88b5-1b24723c6807",
   "metadata": {},
   "outputs": [],
   "source": [
    "d=pd.DataFrame({'Marks':marks,'Grades':grads})"
   ]
  },
  {
   "cell_type": "code",
   "execution_count": 353,
   "id": "bd9e8f10-e37e-41f9-b4cc-2f6176362d56",
   "metadata": {},
   "outputs": [
    {
     "data": {
      "text/html": [
       "<div>\n",
       "<style scoped>\n",
       "    .dataframe tbody tr th:only-of-type {\n",
       "        vertical-align: middle;\n",
       "    }\n",
       "\n",
       "    .dataframe tbody tr th {\n",
       "        vertical-align: top;\n",
       "    }\n",
       "\n",
       "    .dataframe thead th {\n",
       "        text-align: right;\n",
       "    }\n",
       "</style>\n",
       "<table border=\"1\" class=\"dataframe\">\n",
       "  <thead>\n",
       "    <tr style=\"text-align: right;\">\n",
       "      <th></th>\n",
       "      <th>Marks</th>\n",
       "      <th>Grades</th>\n",
       "    </tr>\n",
       "  </thead>\n",
       "  <tbody>\n",
       "    <tr>\n",
       "      <th>A</th>\n",
       "      <td>85</td>\n",
       "      <td>4.0</td>\n",
       "    </tr>\n",
       "    <tr>\n",
       "      <th>B</th>\n",
       "      <td>75</td>\n",
       "      <td>3.5</td>\n",
       "    </tr>\n",
       "    <tr>\n",
       "      <th>C</th>\n",
       "      <td>65</td>\n",
       "      <td>3.0</td>\n",
       "    </tr>\n",
       "    <tr>\n",
       "      <th>D</th>\n",
       "      <td>55</td>\n",
       "      <td>2.5</td>\n",
       "    </tr>\n",
       "  </tbody>\n",
       "</table>\n",
       "</div>"
      ],
      "text/plain": [
       "   Marks  Grades\n",
       "A     85     4.0\n",
       "B     75     3.5\n",
       "C     65     3.0\n",
       "D     55     2.5"
      ]
     },
     "execution_count": 353,
     "metadata": {},
     "output_type": "execute_result"
    }
   ],
   "source": [
    "d"
   ]
  },
  {
   "cell_type": "code",
   "execution_count": 354,
   "id": "6ec5d6ae-3940-43ae-8269-2258772bb8cf",
   "metadata": {},
   "outputs": [
    {
     "data": {
      "text/html": [
       "<div>\n",
       "<style scoped>\n",
       "    .dataframe tbody tr th:only-of-type {\n",
       "        vertical-align: middle;\n",
       "    }\n",
       "\n",
       "    .dataframe tbody tr th {\n",
       "        vertical-align: top;\n",
       "    }\n",
       "\n",
       "    .dataframe thead th {\n",
       "        text-align: right;\n",
       "    }\n",
       "</style>\n",
       "<table border=\"1\" class=\"dataframe\">\n",
       "  <thead>\n",
       "    <tr style=\"text-align: right;\">\n",
       "      <th></th>\n",
       "      <th>A</th>\n",
       "      <th>B</th>\n",
       "      <th>C</th>\n",
       "      <th>D</th>\n",
       "    </tr>\n",
       "  </thead>\n",
       "  <tbody>\n",
       "    <tr>\n",
       "      <th>Marks</th>\n",
       "      <td>85.0</td>\n",
       "      <td>75.0</td>\n",
       "      <td>65.0</td>\n",
       "      <td>55.0</td>\n",
       "    </tr>\n",
       "    <tr>\n",
       "      <th>Grades</th>\n",
       "      <td>4.0</td>\n",
       "      <td>3.5</td>\n",
       "      <td>3.0</td>\n",
       "      <td>2.5</td>\n",
       "    </tr>\n",
       "  </tbody>\n",
       "</table>\n",
       "</div>"
      ],
      "text/plain": [
       "           A     B     C     D\n",
       "Marks   85.0  75.0  65.0  55.0\n",
       "Grades   4.0   3.5   3.0   2.5"
      ]
     },
     "execution_count": 354,
     "metadata": {},
     "output_type": "execute_result"
    }
   ],
   "source": [
    "d.T"
   ]
  },
  {
   "cell_type": "code",
   "execution_count": 355,
   "id": "45b7f886-fa60-4de2-9014-f272ff52c94a",
   "metadata": {},
   "outputs": [
    {
     "data": {
      "text/plain": [
       "array([[85. ,  4. ],\n",
       "       [75. ,  3.5],\n",
       "       [65. ,  3. ],\n",
       "       [55. ,  2.5]])"
      ]
     },
     "execution_count": 355,
     "metadata": {},
     "output_type": "execute_result"
    }
   ],
   "source": [
    "d.values"
   ]
  },
  {
   "cell_type": "code",
   "execution_count": 356,
   "id": "873db054-fbae-4af5-b821-c44869c95991",
   "metadata": {},
   "outputs": [
    {
     "data": {
      "text/plain": [
       "65.0"
      ]
     },
     "execution_count": 356,
     "metadata": {},
     "output_type": "execute_result"
    }
   ],
   "source": [
    "d.values[2,0]"
   ]
  },
  {
   "cell_type": "code",
   "execution_count": 357,
   "id": "33e6de53-b447-4934-a4c4-539e572e90b6",
   "metadata": {},
   "outputs": [
    {
     "data": {
      "text/plain": [
       "Index(['Marks', 'Grades'], dtype='object')"
      ]
     },
     "execution_count": 357,
     "metadata": {},
     "output_type": "execute_result"
    }
   ],
   "source": [
    "d.columns"
   ]
  },
  {
   "cell_type": "code",
   "execution_count": 358,
   "id": "06e4b619-d379-41d1-b192-c363d9ddecd1",
   "metadata": {},
   "outputs": [
    {
     "data": {
      "text/html": [
       "<div>\n",
       "<style scoped>\n",
       "    .dataframe tbody tr th:only-of-type {\n",
       "        vertical-align: middle;\n",
       "    }\n",
       "\n",
       "    .dataframe tbody tr th {\n",
       "        vertical-align: top;\n",
       "    }\n",
       "\n",
       "    .dataframe thead th {\n",
       "        text-align: right;\n",
       "    }\n",
       "</style>\n",
       "<table border=\"1\" class=\"dataframe\">\n",
       "  <thead>\n",
       "    <tr style=\"text-align: right;\">\n",
       "      <th></th>\n",
       "      <th>Marks</th>\n",
       "      <th>Grades</th>\n",
       "    </tr>\n",
       "  </thead>\n",
       "  <tbody>\n",
       "    <tr>\n",
       "      <th>A</th>\n",
       "      <td>85</td>\n",
       "      <td>4.0</td>\n",
       "    </tr>\n",
       "    <tr>\n",
       "      <th>B</th>\n",
       "      <td>75</td>\n",
       "      <td>3.5</td>\n",
       "    </tr>\n",
       "    <tr>\n",
       "      <th>C</th>\n",
       "      <td>65</td>\n",
       "      <td>3.0</td>\n",
       "    </tr>\n",
       "    <tr>\n",
       "      <th>D</th>\n",
       "      <td>55</td>\n",
       "      <td>2.5</td>\n",
       "    </tr>\n",
       "  </tbody>\n",
       "</table>\n",
       "</div>"
      ],
      "text/plain": [
       "   Marks  Grades\n",
       "A     85     4.0\n",
       "B     75     3.5\n",
       "C     65     3.0\n",
       "D     55     2.5"
      ]
     },
     "execution_count": 358,
     "metadata": {},
     "output_type": "execute_result"
    }
   ],
   "source": [
    "d"
   ]
  },
  {
   "cell_type": "code",
   "execution_count": 359,
   "id": "0d2722f4-d3c8-4f02-b29c-254aaf995dc5",
   "metadata": {},
   "outputs": [],
   "source": [
    "d['ScaledMarks'] = 90*d['Marks']/100"
   ]
  },
  {
   "cell_type": "code",
   "execution_count": 360,
   "id": "8f48d98b-b639-4145-bccf-1a06fee953a3",
   "metadata": {},
   "outputs": [
    {
     "data": {
      "text/html": [
       "<div>\n",
       "<style scoped>\n",
       "    .dataframe tbody tr th:only-of-type {\n",
       "        vertical-align: middle;\n",
       "    }\n",
       "\n",
       "    .dataframe tbody tr th {\n",
       "        vertical-align: top;\n",
       "    }\n",
       "\n",
       "    .dataframe thead th {\n",
       "        text-align: right;\n",
       "    }\n",
       "</style>\n",
       "<table border=\"1\" class=\"dataframe\">\n",
       "  <thead>\n",
       "    <tr style=\"text-align: right;\">\n",
       "      <th></th>\n",
       "      <th>Marks</th>\n",
       "      <th>Grades</th>\n",
       "      <th>ScaledMarks</th>\n",
       "    </tr>\n",
       "  </thead>\n",
       "  <tbody>\n",
       "    <tr>\n",
       "      <th>A</th>\n",
       "      <td>85</td>\n",
       "      <td>4.0</td>\n",
       "      <td>76.5</td>\n",
       "    </tr>\n",
       "    <tr>\n",
       "      <th>B</th>\n",
       "      <td>75</td>\n",
       "      <td>3.5</td>\n",
       "      <td>67.5</td>\n",
       "    </tr>\n",
       "    <tr>\n",
       "      <th>C</th>\n",
       "      <td>65</td>\n",
       "      <td>3.0</td>\n",
       "      <td>58.5</td>\n",
       "    </tr>\n",
       "    <tr>\n",
       "      <th>D</th>\n",
       "      <td>55</td>\n",
       "      <td>2.5</td>\n",
       "      <td>49.5</td>\n",
       "    </tr>\n",
       "  </tbody>\n",
       "</table>\n",
       "</div>"
      ],
      "text/plain": [
       "   Marks  Grades  ScaledMarks\n",
       "A     85     4.0         76.5\n",
       "B     75     3.5         67.5\n",
       "C     65     3.0         58.5\n",
       "D     55     2.5         49.5"
      ]
     },
     "execution_count": 360,
     "metadata": {},
     "output_type": "execute_result"
    }
   ],
   "source": [
    "d"
   ]
  },
  {
   "cell_type": "code",
   "execution_count": 363,
   "id": "b39f6ebc-ed2d-41b8-a619-385bb7c9edb7",
   "metadata": {},
   "outputs": [],
   "source": [
    "del d['ScaledMarks']"
   ]
  },
  {
   "cell_type": "code",
   "execution_count": 364,
   "id": "cd51815c-f17e-4856-afa0-9caf75de75a3",
   "metadata": {},
   "outputs": [
    {
     "data": {
      "text/html": [
       "<div>\n",
       "<style scoped>\n",
       "    .dataframe tbody tr th:only-of-type {\n",
       "        vertical-align: middle;\n",
       "    }\n",
       "\n",
       "    .dataframe tbody tr th {\n",
       "        vertical-align: top;\n",
       "    }\n",
       "\n",
       "    .dataframe thead th {\n",
       "        text-align: right;\n",
       "    }\n",
       "</style>\n",
       "<table border=\"1\" class=\"dataframe\">\n",
       "  <thead>\n",
       "    <tr style=\"text-align: right;\">\n",
       "      <th></th>\n",
       "      <th>Marks</th>\n",
       "      <th>Grades</th>\n",
       "    </tr>\n",
       "  </thead>\n",
       "  <tbody>\n",
       "    <tr>\n",
       "      <th>A</th>\n",
       "      <td>85</td>\n",
       "      <td>4.0</td>\n",
       "    </tr>\n",
       "    <tr>\n",
       "      <th>B</th>\n",
       "      <td>75</td>\n",
       "      <td>3.5</td>\n",
       "    </tr>\n",
       "    <tr>\n",
       "      <th>C</th>\n",
       "      <td>65</td>\n",
       "      <td>3.0</td>\n",
       "    </tr>\n",
       "    <tr>\n",
       "      <th>D</th>\n",
       "      <td>55</td>\n",
       "      <td>2.5</td>\n",
       "    </tr>\n",
       "  </tbody>\n",
       "</table>\n",
       "</div>"
      ],
      "text/plain": [
       "   Marks  Grades\n",
       "A     85     4.0\n",
       "B     75     3.5\n",
       "C     65     3.0\n",
       "D     55     2.5"
      ]
     },
     "execution_count": 364,
     "metadata": {},
     "output_type": "execute_result"
    }
   ],
   "source": [
    "d"
   ]
  },
  {
   "cell_type": "code",
   "execution_count": 365,
   "id": "dc0735e5-6e13-4b73-b296-913992419148",
   "metadata": {},
   "outputs": [],
   "source": [
    "g=d[d['Marks']>70]"
   ]
  },
  {
   "cell_type": "code",
   "execution_count": 366,
   "id": "05406ac9-40c4-40c9-be97-23bec35785d5",
   "metadata": {},
   "outputs": [
    {
     "data": {
      "text/html": [
       "<div>\n",
       "<style scoped>\n",
       "    .dataframe tbody tr th:only-of-type {\n",
       "        vertical-align: middle;\n",
       "    }\n",
       "\n",
       "    .dataframe tbody tr th {\n",
       "        vertical-align: top;\n",
       "    }\n",
       "\n",
       "    .dataframe thead th {\n",
       "        text-align: right;\n",
       "    }\n",
       "</style>\n",
       "<table border=\"1\" class=\"dataframe\">\n",
       "  <thead>\n",
       "    <tr style=\"text-align: right;\">\n",
       "      <th></th>\n",
       "      <th>Marks</th>\n",
       "      <th>Grades</th>\n",
       "    </tr>\n",
       "  </thead>\n",
       "  <tbody>\n",
       "    <tr>\n",
       "      <th>A</th>\n",
       "      <td>85</td>\n",
       "      <td>4.0</td>\n",
       "    </tr>\n",
       "    <tr>\n",
       "      <th>B</th>\n",
       "      <td>75</td>\n",
       "      <td>3.5</td>\n",
       "    </tr>\n",
       "  </tbody>\n",
       "</table>\n",
       "</div>"
      ],
      "text/plain": [
       "   Marks  Grades\n",
       "A     85     4.0\n",
       "B     75     3.5"
      ]
     },
     "execution_count": 366,
     "metadata": {},
     "output_type": "execute_result"
    }
   ],
   "source": [
    "g"
   ]
  },
  {
   "cell_type": "code",
   "execution_count": 367,
   "id": "b9de4425-3f4e-49fd-9ea3-854e9d16a102",
   "metadata": {},
   "outputs": [],
   "source": [
    "#pandas Nan or missing values "
   ]
  },
  {
   "cell_type": "code",
   "execution_count": 370,
   "id": "7b239b45-d6ff-4cbb-8e0c-cf03431237a6",
   "metadata": {},
   "outputs": [],
   "source": [
    "f= pd.DataFrame([{'a':1,'b':2},{'b':3,'c':4}])"
   ]
  },
  {
   "cell_type": "code",
   "execution_count": 371,
   "id": "a5ded416-7825-4eaf-9c79-ddc34bb44d36",
   "metadata": {},
   "outputs": [
    {
     "data": {
      "text/html": [
       "<div>\n",
       "<style scoped>\n",
       "    .dataframe tbody tr th:only-of-type {\n",
       "        vertical-align: middle;\n",
       "    }\n",
       "\n",
       "    .dataframe tbody tr th {\n",
       "        vertical-align: top;\n",
       "    }\n",
       "\n",
       "    .dataframe thead th {\n",
       "        text-align: right;\n",
       "    }\n",
       "</style>\n",
       "<table border=\"1\" class=\"dataframe\">\n",
       "  <thead>\n",
       "    <tr style=\"text-align: right;\">\n",
       "      <th></th>\n",
       "      <th>a</th>\n",
       "      <th>b</th>\n",
       "      <th>c</th>\n",
       "    </tr>\n",
       "  </thead>\n",
       "  <tbody>\n",
       "    <tr>\n",
       "      <th>0</th>\n",
       "      <td>1.0</td>\n",
       "      <td>2</td>\n",
       "      <td>NaN</td>\n",
       "    </tr>\n",
       "    <tr>\n",
       "      <th>1</th>\n",
       "      <td>NaN</td>\n",
       "      <td>3</td>\n",
       "      <td>4.0</td>\n",
       "    </tr>\n",
       "  </tbody>\n",
       "</table>\n",
       "</div>"
      ],
      "text/plain": [
       "     a  b    c\n",
       "0  1.0  2  NaN\n",
       "1  NaN  3  4.0"
      ]
     },
     "execution_count": 371,
     "metadata": {},
     "output_type": "execute_result"
    }
   ],
   "source": [
    "f"
   ]
  },
  {
   "cell_type": "code",
   "execution_count": 372,
   "id": "d4c950b7-6cfe-4f30-81fd-2a740c148930",
   "metadata": {},
   "outputs": [
    {
     "data": {
      "text/html": [
       "<div>\n",
       "<style scoped>\n",
       "    .dataframe tbody tr th:only-of-type {\n",
       "        vertical-align: middle;\n",
       "    }\n",
       "\n",
       "    .dataframe tbody tr th {\n",
       "        vertical-align: top;\n",
       "    }\n",
       "\n",
       "    .dataframe thead th {\n",
       "        text-align: right;\n",
       "    }\n",
       "</style>\n",
       "<table border=\"1\" class=\"dataframe\">\n",
       "  <thead>\n",
       "    <tr style=\"text-align: right;\">\n",
       "      <th></th>\n",
       "      <th>0</th>\n",
       "      <th>1</th>\n",
       "    </tr>\n",
       "  </thead>\n",
       "  <tbody>\n",
       "    <tr>\n",
       "      <th>a</th>\n",
       "      <td>1.0</td>\n",
       "      <td>NaN</td>\n",
       "    </tr>\n",
       "    <tr>\n",
       "      <th>b</th>\n",
       "      <td>2.0</td>\n",
       "      <td>3.0</td>\n",
       "    </tr>\n",
       "    <tr>\n",
       "      <th>c</th>\n",
       "      <td>NaN</td>\n",
       "      <td>4.0</td>\n",
       "    </tr>\n",
       "  </tbody>\n",
       "</table>\n",
       "</div>"
      ],
      "text/plain": [
       "     0    1\n",
       "a  1.0  NaN\n",
       "b  2.0  3.0\n",
       "c  NaN  4.0"
      ]
     },
     "execution_count": 372,
     "metadata": {},
     "output_type": "execute_result"
    }
   ],
   "source": [
    "f.T"
   ]
  },
  {
   "cell_type": "code",
   "execution_count": 373,
   "id": "59e64ab6-aadf-4534-a81d-b3c449d06c5c",
   "metadata": {},
   "outputs": [
    {
     "data": {
      "text/html": [
       "<div>\n",
       "<style scoped>\n",
       "    .dataframe tbody tr th:only-of-type {\n",
       "        vertical-align: middle;\n",
       "    }\n",
       "\n",
       "    .dataframe tbody tr th {\n",
       "        vertical-align: top;\n",
       "    }\n",
       "\n",
       "    .dataframe thead th {\n",
       "        text-align: right;\n",
       "    }\n",
       "</style>\n",
       "<table border=\"1\" class=\"dataframe\">\n",
       "  <thead>\n",
       "    <tr style=\"text-align: right;\">\n",
       "      <th></th>\n",
       "      <th>a</th>\n",
       "      <th>b</th>\n",
       "      <th>c</th>\n",
       "    </tr>\n",
       "  </thead>\n",
       "  <tbody>\n",
       "    <tr>\n",
       "      <th>0</th>\n",
       "      <td>1.0</td>\n",
       "      <td>2</td>\n",
       "      <td>0.0</td>\n",
       "    </tr>\n",
       "    <tr>\n",
       "      <th>1</th>\n",
       "      <td>0.0</td>\n",
       "      <td>3</td>\n",
       "      <td>4.0</td>\n",
       "    </tr>\n",
       "  </tbody>\n",
       "</table>\n",
       "</div>"
      ],
      "text/plain": [
       "     a  b    c\n",
       "0  1.0  2  0.0\n",
       "1  0.0  3  4.0"
      ]
     },
     "execution_count": 373,
     "metadata": {},
     "output_type": "execute_result"
    }
   ],
   "source": [
    "f.fillna(0)"
   ]
  },
  {
   "cell_type": "code",
   "execution_count": 375,
   "id": "2d5b5635-b841-4b42-9398-5bf91f661ddf",
   "metadata": {},
   "outputs": [
    {
     "data": {
      "text/plain": [
       "\u001b[0;31mSignature:\u001b[0m\n",
       "\u001b[0mf\u001b[0m\u001b[0;34m.\u001b[0m\u001b[0mdropna\u001b[0m\u001b[0;34m(\u001b[0m\u001b[0;34m\u001b[0m\n",
       "\u001b[0;34m\u001b[0m    \u001b[0;34m*\u001b[0m\u001b[0;34m,\u001b[0m\u001b[0;34m\u001b[0m\n",
       "\u001b[0;34m\u001b[0m    \u001b[0maxis\u001b[0m\u001b[0;34m:\u001b[0m \u001b[0;34m'Axis'\u001b[0m \u001b[0;34m=\u001b[0m \u001b[0;36m0\u001b[0m\u001b[0;34m,\u001b[0m\u001b[0;34m\u001b[0m\n",
       "\u001b[0;34m\u001b[0m    \u001b[0mhow\u001b[0m\u001b[0;34m:\u001b[0m \u001b[0;34m'AnyAll | NoDefault'\u001b[0m \u001b[0;34m=\u001b[0m \u001b[0;34m<\u001b[0m\u001b[0mno_default\u001b[0m\u001b[0;34m>\u001b[0m\u001b[0;34m,\u001b[0m\u001b[0;34m\u001b[0m\n",
       "\u001b[0;34m\u001b[0m    \u001b[0mthresh\u001b[0m\u001b[0;34m:\u001b[0m \u001b[0;34m'int | NoDefault'\u001b[0m \u001b[0;34m=\u001b[0m \u001b[0;34m<\u001b[0m\u001b[0mno_default\u001b[0m\u001b[0;34m>\u001b[0m\u001b[0;34m,\u001b[0m\u001b[0;34m\u001b[0m\n",
       "\u001b[0;34m\u001b[0m    \u001b[0msubset\u001b[0m\u001b[0;34m:\u001b[0m \u001b[0;34m'IndexLabel'\u001b[0m \u001b[0;34m=\u001b[0m \u001b[0;32mNone\u001b[0m\u001b[0;34m,\u001b[0m\u001b[0;34m\u001b[0m\n",
       "\u001b[0;34m\u001b[0m    \u001b[0minplace\u001b[0m\u001b[0;34m:\u001b[0m \u001b[0;34m'bool'\u001b[0m \u001b[0;34m=\u001b[0m \u001b[0;32mFalse\u001b[0m\u001b[0;34m,\u001b[0m\u001b[0;34m\u001b[0m\n",
       "\u001b[0;34m\u001b[0m    \u001b[0mignore_index\u001b[0m\u001b[0;34m:\u001b[0m \u001b[0;34m'bool'\u001b[0m \u001b[0;34m=\u001b[0m \u001b[0;32mFalse\u001b[0m\u001b[0;34m,\u001b[0m\u001b[0;34m\u001b[0m\n",
       "\u001b[0;34m\u001b[0m\u001b[0;34m)\u001b[0m \u001b[0;34m->\u001b[0m \u001b[0;34m'DataFrame | None'\u001b[0m\u001b[0;34m\u001b[0m\u001b[0;34m\u001b[0m\u001b[0m\n",
       "\u001b[0;31mDocstring:\u001b[0m\n",
       "Remove missing values.\n",
       "\n",
       "See the :ref:`User Guide <missing_data>` for more on which values are\n",
       "considered missing, and how to work with missing data.\n",
       "\n",
       "Parameters\n",
       "----------\n",
       "axis : {0 or 'index', 1 or 'columns'}, default 0\n",
       "    Determine if rows or columns which contain missing values are\n",
       "    removed.\n",
       "\n",
       "    * 0, or 'index' : Drop rows which contain missing values.\n",
       "    * 1, or 'columns' : Drop columns which contain missing value.\n",
       "\n",
       "    Pass tuple or list to drop on multiple axes.\n",
       "    Only a single axis is allowed.\n",
       "\n",
       "how : {'any', 'all'}, default 'any'\n",
       "    Determine if row or column is removed from DataFrame, when we have\n",
       "    at least one NA or all NA.\n",
       "\n",
       "    * 'any' : If any NA values are present, drop that row or column.\n",
       "    * 'all' : If all values are NA, drop that row or column.\n",
       "\n",
       "thresh : int, optional\n",
       "    Require that many non-NA values. Cannot be combined with how.\n",
       "subset : column label or sequence of labels, optional\n",
       "    Labels along other axis to consider, e.g. if you are dropping rows\n",
       "    these would be a list of columns to include.\n",
       "inplace : bool, default False\n",
       "    Whether to modify the DataFrame rather than creating a new one.\n",
       "ignore_index : bool, default ``False``\n",
       "    If ``True``, the resulting axis will be labeled 0, 1, …, n - 1.\n",
       "\n",
       "    .. versionadded:: 2.0.0\n",
       "\n",
       "Returns\n",
       "-------\n",
       "DataFrame or None\n",
       "    DataFrame with NA entries dropped from it or None if ``inplace=True``.\n",
       "\n",
       "See Also\n",
       "--------\n",
       "DataFrame.isna: Indicate missing values.\n",
       "DataFrame.notna : Indicate existing (non-missing) values.\n",
       "DataFrame.fillna : Replace missing values.\n",
       "Series.dropna : Drop missing values.\n",
       "Index.dropna : Drop missing indices.\n",
       "\n",
       "Examples\n",
       "--------\n",
       ">>> df = pd.DataFrame({\"name\": ['Alfred', 'Batman', 'Catwoman'],\n",
       "...                    \"toy\": [np.nan, 'Batmobile', 'Bullwhip'],\n",
       "...                    \"born\": [pd.NaT, pd.Timestamp(\"1940-04-25\"),\n",
       "...                             pd.NaT]})\n",
       ">>> df\n",
       "       name        toy       born\n",
       "0    Alfred        NaN        NaT\n",
       "1    Batman  Batmobile 1940-04-25\n",
       "2  Catwoman   Bullwhip        NaT\n",
       "\n",
       "Drop the rows where at least one element is missing.\n",
       "\n",
       ">>> df.dropna()\n",
       "     name        toy       born\n",
       "1  Batman  Batmobile 1940-04-25\n",
       "\n",
       "Drop the columns where at least one element is missing.\n",
       "\n",
       ">>> df.dropna(axis='columns')\n",
       "       name\n",
       "0    Alfred\n",
       "1    Batman\n",
       "2  Catwoman\n",
       "\n",
       "Drop the rows where all elements are missing.\n",
       "\n",
       ">>> df.dropna(how='all')\n",
       "       name        toy       born\n",
       "0    Alfred        NaN        NaT\n",
       "1    Batman  Batmobile 1940-04-25\n",
       "2  Catwoman   Bullwhip        NaT\n",
       "\n",
       "Keep only the rows with at least 2 non-NA values.\n",
       "\n",
       ">>> df.dropna(thresh=2)\n",
       "       name        toy       born\n",
       "1    Batman  Batmobile 1940-04-25\n",
       "2  Catwoman   Bullwhip        NaT\n",
       "\n",
       "Define in which columns to look for missing values.\n",
       "\n",
       ">>> df.dropna(subset=['name', 'toy'])\n",
       "       name        toy       born\n",
       "1    Batman  Batmobile 1940-04-25\n",
       "2  Catwoman   Bullwhip        NaT\n",
       "\u001b[0;31mFile:\u001b[0m      ~/.local/lib/python3.10/site-packages/pandas/core/frame.py\n",
       "\u001b[0;31mType:\u001b[0m      method"
      ]
     },
     "metadata": {},
     "output_type": "display_data"
    }
   ],
   "source": [
    "f.dropna?"
   ]
  },
  {
   "cell_type": "code",
   "execution_count": 378,
   "id": "43231b03-437c-44d1-a746-f6133b2be2b9",
   "metadata": {},
   "outputs": [],
   "source": [
    "# pandas explicit and implicit"
   ]
  },
  {
   "cell_type": "code",
   "execution_count": 379,
   "id": "a1cf37de-5318-47e3-bc94-8367dcb8be30",
   "metadata": {},
   "outputs": [],
   "source": [
    "A = pd.Series(['a','b','c'],index=[1,3,5])"
   ]
  },
  {
   "cell_type": "code",
   "execution_count": 380,
   "id": "aceb2358-58c7-46e1-849d-09e578f07684",
   "metadata": {},
   "outputs": [
    {
     "data": {
      "text/plain": [
       "'a'"
      ]
     },
     "execution_count": 380,
     "metadata": {},
     "output_type": "execute_result"
    }
   ],
   "source": [
    "A[1]"
   ]
  },
  {
   "cell_type": "code",
   "execution_count": 381,
   "id": "b1393883-e5c4-49b4-bab5-6a49f6b2f6ca",
   "metadata": {},
   "outputs": [
    {
     "data": {
      "text/plain": [
       "3    b\n",
       "5    c\n",
       "dtype: object"
      ]
     },
     "execution_count": 381,
     "metadata": {},
     "output_type": "execute_result"
    }
   ],
   "source": [
    "A[1:3]"
   ]
  },
  {
   "cell_type": "code",
   "execution_count": 382,
   "id": "da56bfd8-4404-4ed5-8849-747172dfbc42",
   "metadata": {},
   "outputs": [
    {
     "data": {
      "text/plain": [
       "1    a\n",
       "3    b\n",
       "dtype: object"
      ]
     },
     "execution_count": 382,
     "metadata": {},
     "output_type": "execute_result"
    }
   ],
   "source": [
    "A.loc[1:3]"
   ]
  },
  {
   "cell_type": "code",
   "execution_count": 383,
   "id": "b6cf5ab6-8212-42ae-8aee-7449e6916a3c",
   "metadata": {},
   "outputs": [
    {
     "data": {
      "text/plain": [
       "3    b\n",
       "5    c\n",
       "dtype: object"
      ]
     },
     "execution_count": 383,
     "metadata": {},
     "output_type": "execute_result"
    }
   ],
   "source": [
    "A.iloc[1:3]"
   ]
  },
  {
   "cell_type": "code",
   "execution_count": 384,
   "id": "4028497e-0c21-490d-a388-c8c672de07f8",
   "metadata": {},
   "outputs": [
    {
     "data": {
      "text/html": [
       "<div>\n",
       "<style scoped>\n",
       "    .dataframe tbody tr th:only-of-type {\n",
       "        vertical-align: middle;\n",
       "    }\n",
       "\n",
       "    .dataframe tbody tr th {\n",
       "        vertical-align: top;\n",
       "    }\n",
       "\n",
       "    .dataframe thead th {\n",
       "        text-align: right;\n",
       "    }\n",
       "</style>\n",
       "<table border=\"1\" class=\"dataframe\">\n",
       "  <thead>\n",
       "    <tr style=\"text-align: right;\">\n",
       "      <th></th>\n",
       "      <th>Marks</th>\n",
       "      <th>Grades</th>\n",
       "    </tr>\n",
       "  </thead>\n",
       "  <tbody>\n",
       "    <tr>\n",
       "      <th>A</th>\n",
       "      <td>85</td>\n",
       "      <td>4.0</td>\n",
       "    </tr>\n",
       "    <tr>\n",
       "      <th>B</th>\n",
       "      <td>75</td>\n",
       "      <td>3.5</td>\n",
       "    </tr>\n",
       "    <tr>\n",
       "      <th>C</th>\n",
       "      <td>65</td>\n",
       "      <td>3.0</td>\n",
       "    </tr>\n",
       "    <tr>\n",
       "      <th>D</th>\n",
       "      <td>55</td>\n",
       "      <td>2.5</td>\n",
       "    </tr>\n",
       "  </tbody>\n",
       "</table>\n",
       "</div>"
      ],
      "text/plain": [
       "   Marks  Grades\n",
       "A     85     4.0\n",
       "B     75     3.5\n",
       "C     65     3.0\n",
       "D     55     2.5"
      ]
     },
     "execution_count": 384,
     "metadata": {},
     "output_type": "execute_result"
    }
   ],
   "source": [
    "d"
   ]
  },
  {
   "cell_type": "code",
   "execution_count": 385,
   "id": "67bf2cb4-0248-4bc4-a390-f2065806ad44",
   "metadata": {},
   "outputs": [
    {
     "data": {
      "text/plain": [
       "Marks     65.0\n",
       "Grades     3.0\n",
       "Name: C, dtype: float64"
      ]
     },
     "execution_count": 385,
     "metadata": {},
     "output_type": "execute_result"
    }
   ],
   "source": [
    "d.iloc[2,:]"
   ]
  },
  {
   "cell_type": "code",
   "execution_count": 388,
   "id": "b6021c4c-9707-48eb-8b9f-6fedd94b32c7",
   "metadata": {},
   "outputs": [
    {
     "data": {
      "text/html": [
       "<div>\n",
       "<style scoped>\n",
       "    .dataframe tbody tr th:only-of-type {\n",
       "        vertical-align: middle;\n",
       "    }\n",
       "\n",
       "    .dataframe tbody tr th {\n",
       "        vertical-align: top;\n",
       "    }\n",
       "\n",
       "    .dataframe thead th {\n",
       "        text-align: right;\n",
       "    }\n",
       "</style>\n",
       "<table border=\"1\" class=\"dataframe\">\n",
       "  <thead>\n",
       "    <tr style=\"text-align: right;\">\n",
       "      <th></th>\n",
       "      <th>Marks</th>\n",
       "      <th>Grades</th>\n",
       "    </tr>\n",
       "  </thead>\n",
       "  <tbody>\n",
       "    <tr>\n",
       "      <th>D</th>\n",
       "      <td>55</td>\n",
       "      <td>2.5</td>\n",
       "    </tr>\n",
       "    <tr>\n",
       "      <th>C</th>\n",
       "      <td>65</td>\n",
       "      <td>3.0</td>\n",
       "    </tr>\n",
       "    <tr>\n",
       "      <th>B</th>\n",
       "      <td>75</td>\n",
       "      <td>3.5</td>\n",
       "    </tr>\n",
       "    <tr>\n",
       "      <th>A</th>\n",
       "      <td>85</td>\n",
       "      <td>4.0</td>\n",
       "    </tr>\n",
       "  </tbody>\n",
       "</table>\n",
       "</div>"
      ],
      "text/plain": [
       "   Marks  Grades\n",
       "D     55     2.5\n",
       "C     65     3.0\n",
       "B     75     3.5\n",
       "A     85     4.0"
      ]
     },
     "execution_count": 388,
     "metadata": {},
     "output_type": "execute_result"
    }
   ],
   "source": [
    "d.iloc[::-1,:]"
   ]
  },
  {
   "cell_type": "code",
   "execution_count": 389,
   "id": "9f40e18e-c0cd-4fb8-88fc-fa27502d1d8c",
   "metadata": {},
   "outputs": [],
   "source": [
    "# pandas csv files"
   ]
  },
  {
   "cell_type": "code",
   "execution_count": null,
   "id": "f8a6682c-2bb6-4b86-a3c4-20fe70785b1d",
   "metadata": {},
   "outputs": [],
   "source": []
  }
 ],
 "metadata": {
  "kernelspec": {
   "display_name": "Python 3 (ipykernel)",
   "language": "python",
   "name": "python3"
  },
  "language_info": {
   "codemirror_mode": {
    "name": "ipython",
    "version": 3
   },
   "file_extension": ".py",
   "mimetype": "text/x-python",
   "name": "python",
   "nbconvert_exporter": "python",
   "pygments_lexer": "ipython3",
   "version": "3.10.12"
  }
 },
 "nbformat": 4,
 "nbformat_minor": 5
}

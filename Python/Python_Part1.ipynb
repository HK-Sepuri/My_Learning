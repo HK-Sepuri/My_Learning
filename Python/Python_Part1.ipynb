{
 "cells": [
  {
   "cell_type": "markdown",
   "id": "0a572b75-e0d8-48eb-a37a-c6a382c5214c",
   "metadata": {},
   "source": [
    "# This is Python Tutorial!"
   ]
  },
  {
   "cell_type": "markdown",
   "id": "df9e6f5b-4083-4cde-a898-28b2c840372d",
   "metadata": {},
   "source": [
    "First Code"
   ]
  },
  {
   "cell_type": "code",
   "execution_count": 72,
   "id": "f25b9d35-ba84-455d-9fef-876bcec260bc",
   "metadata": {},
   "outputs": [
    {
     "name": "stdout",
     "output_type": "stream",
     "text": [
      "Hello World!\n"
     ]
    }
   ],
   "source": [
    "print(\"Hello World!\")"
   ]
  },
  {
   "cell_type": "code",
   "execution_count": 73,
   "id": "81a88863-2eae-45ae-a7aa-cdaea7b07b88",
   "metadata": {},
   "outputs": [
    {
     "name": "stdout",
     "output_type": "stream",
     "text": [
      "4+6\n"
     ]
    }
   ],
   "source": [
    "print(\"4+6\")"
   ]
  },
  {
   "cell_type": "code",
   "execution_count": 74,
   "id": "d51e0c7c-2126-4cd9-92d5-1ec571eb0c2b",
   "metadata": {},
   "outputs": [
    {
     "name": "stdout",
     "output_type": "stream",
     "text": [
      "10\n"
     ]
    }
   ],
   "source": [
    "print(4+6)"
   ]
  },
  {
   "cell_type": "markdown",
   "id": "19f8ec3b-bc8a-4173-a2fc-5871b281aacc",
   "metadata": {},
   "source": [
    "Add # start of line to make markdown huge"
   ]
  },
  {
   "cell_type": "markdown",
   "id": "8ef31c14-2809-461b-8d31-183b5f330754",
   "metadata": {},
   "source": [
    "start $ and end by it, in markdown to make it look good mostly used for maths"
   ]
  },
  {
   "cell_type": "code",
   "execution_count": 75,
   "id": "63e6cbff-6553-4df4-96c6-aa0a2e54ef12",
   "metadata": {},
   "outputs": [
    {
     "data": {
      "text/plain": [
       "14"
      ]
     },
     "execution_count": 75,
     "metadata": {},
     "output_type": "execute_result"
    }
   ],
   "source": [
    "5+9"
   ]
  },
  {
   "cell_type": "code",
   "execution_count": 76,
   "id": "9653cd9d-2eb2-4f33-88be-740bfc8ae126",
   "metadata": {},
   "outputs": [
    {
     "data": {
      "text/plain": [
       "72"
      ]
     },
     "execution_count": 76,
     "metadata": {},
     "output_type": "execute_result"
    }
   ],
   "source": [
    "9*8"
   ]
  },
  {
   "cell_type": "markdown",
   "id": "e9a0c4fe-94d1-4817-8cad-58b3ea73e512",
   "metadata": {},
   "source": [
    "# Variables"
   ]
  },
  {
   "cell_type": "code",
   "execution_count": 77,
   "id": "a5988447-596e-43b4-bb7f-309fb2ab5cf0",
   "metadata": {},
   "outputs": [],
   "source": [
    "a=5"
   ]
  },
  {
   "cell_type": "markdown",
   "id": "94ca5afc-ec5d-4701-a009-41709ef7695c",
   "metadata": {},
   "source": [
    "%whos tells us all the variables saved currently"
   ]
  },
  {
   "cell_type": "code",
   "execution_count": 78,
   "id": "e4bfed5a-e204-4f1e-bc11-f52c14425649",
   "metadata": {
    "scrolled": true
   },
   "outputs": [
    {
     "name": "stdout",
     "output_type": "stream",
     "text": [
      "Variable   Type     Data/Info\n",
      "-----------------------------\n",
      "a          int      5\n",
      "b          float    2.3\n",
      "c          float    4.0\n",
      "d          int      2\n",
      "e          int      -3\n"
     ]
    }
   ],
   "source": [
    "%whos "
   ]
  },
  {
   "cell_type": "code",
   "execution_count": 79,
   "id": "96188680-77f9-4fc7-b0b7-63b845a565f9",
   "metadata": {},
   "outputs": [
    {
     "name": "stdout",
     "output_type": "stream",
     "text": [
      "<class 'int'>\n"
     ]
    }
   ],
   "source": [
    "print(type(a))"
   ]
  },
  {
   "cell_type": "code",
   "execution_count": 80,
   "id": "48bc2c05-988c-4dac-8d85-560a09b9a407",
   "metadata": {},
   "outputs": [],
   "source": [
    "a=4.6"
   ]
  },
  {
   "cell_type": "code",
   "execution_count": 81,
   "id": "93cd7963-ac73-44c0-a0a7-6fdc1dc3302b",
   "metadata": {},
   "outputs": [
    {
     "name": "stdout",
     "output_type": "stream",
     "text": [
      "<class 'float'>\n"
     ]
    }
   ],
   "source": [
    "print(type(a))"
   ]
  },
  {
   "cell_type": "code",
   "execution_count": 82,
   "id": "76417bf6-a885-4bd4-8b58-a6e41c551f29",
   "metadata": {},
   "outputs": [],
   "source": [
    "abc= 555.32"
   ]
  },
  {
   "cell_type": "code",
   "execution_count": 83,
   "id": "c8096b70-473d-4008-939a-c0af75400e8d",
   "metadata": {},
   "outputs": [
    {
     "name": "stdout",
     "output_type": "stream",
     "text": [
      "Variable   Type     Data/Info\n",
      "-----------------------------\n",
      "a          float    4.6\n",
      "abc        float    555.32\n",
      "b          float    2.3\n",
      "c          float    4.0\n",
      "d          int      2\n",
      "e          int      -3\n"
     ]
    }
   ],
   "source": [
    "%whos"
   ]
  },
  {
   "cell_type": "code",
   "execution_count": 84,
   "id": "7efe162c-2e50-426a-9f0c-42e633a76889",
   "metadata": {},
   "outputs": [],
   "source": [
    "a,b,c,d,e=2,2.3,4.0,2,-3"
   ]
  },
  {
   "cell_type": "code",
   "execution_count": 85,
   "id": "7770c604-db24-4a86-9249-8ad3cc7b4913",
   "metadata": {},
   "outputs": [
    {
     "name": "stdout",
     "output_type": "stream",
     "text": [
      "Variable   Type     Data/Info\n",
      "-----------------------------\n",
      "a          int      2\n",
      "abc        float    555.32\n",
      "b          float    2.3\n",
      "c          float    4.0\n",
      "d          int      2\n",
      "e          int      -3\n"
     ]
    }
   ],
   "source": [
    "%whos"
   ]
  },
  {
   "cell_type": "code",
   "execution_count": 86,
   "id": "d2c66c8c-668e-4bf6-bef1-78098453652d",
   "metadata": {},
   "outputs": [],
   "source": [
    "del abc"
   ]
  },
  {
   "cell_type": "code",
   "execution_count": 87,
   "id": "f80d23b4-8b7a-4196-9b71-09d76cf614ee",
   "metadata": {},
   "outputs": [
    {
     "name": "stdout",
     "output_type": "stream",
     "text": [
      "Variable   Type     Data/Info\n",
      "-----------------------------\n",
      "a          int      2\n",
      "b          float    2.3\n",
      "c          float    4.0\n",
      "d          int      2\n",
      "e          int      -3\n"
     ]
    }
   ],
   "source": [
    "%whos"
   ]
  },
  {
   "cell_type": "code",
   "execution_count": 88,
   "id": "f5815744-d79b-4a26-ba33-039d15e6048e",
   "metadata": {},
   "outputs": [
    {
     "ename": "NameError",
     "evalue": "name 'abc' is not defined",
     "output_type": "error",
     "traceback": [
      "\u001b[0;31m---------------------------------------------------------------------------\u001b[0m",
      "\u001b[0;31mNameError\u001b[0m                                 Traceback (most recent call last)",
      "Cell \u001b[0;32mIn[88], line 1\u001b[0m\n\u001b[0;32m----> 1\u001b[0m \u001b[38;5;28mprint\u001b[39m(\u001b[43mabc\u001b[49m)\n",
      "\u001b[0;31mNameError\u001b[0m: name 'abc' is not defined"
     ]
    }
   ],
   "source": [
    "print(abc)"
   ]
  },
  {
   "cell_type": "code",
   "execution_count": 89,
   "id": "83abff43-e53f-4b3e-88b8-5bc655cdbccf",
   "metadata": {},
   "outputs": [],
   "source": [
    "c=2+5j"
   ]
  },
  {
   "cell_type": "code",
   "execution_count": 90,
   "id": "7ebe1ef2-3d68-4918-b412-2df97c9c310c",
   "metadata": {},
   "outputs": [
    {
     "name": "stdout",
     "output_type": "stream",
     "text": [
      "<class 'complex'>\n"
     ]
    }
   ],
   "source": [
    "print(type(c))"
   ]
  },
  {
   "cell_type": "code",
   "execution_count": 91,
   "id": "243af999-1529-437c-8e10-978c806672d3",
   "metadata": {},
   "outputs": [],
   "source": [
    "x=\"hello\""
   ]
  },
  {
   "cell_type": "code",
   "execution_count": 92,
   "id": "3e6ebf87-6338-4d4e-aea4-fe4ac2847755",
   "metadata": {},
   "outputs": [
    {
     "name": "stdout",
     "output_type": "stream",
     "text": [
      "<class 'str'>\n"
     ]
    }
   ],
   "source": [
    "print(type(x))"
   ]
  },
  {
   "cell_type": "markdown",
   "id": "4f246c6f-7944-42f7-9f7e-8fcd3a791486",
   "metadata": {},
   "source": [
    "# Operators"
   ]
  },
  {
   "cell_type": "code",
   "execution_count": 93,
   "id": "8ab61644-7436-465f-8e4c-b8cb8edcbfeb",
   "metadata": {},
   "outputs": [],
   "source": [
    "x,y= 4,3.0"
   ]
  },
  {
   "cell_type": "code",
   "execution_count": 94,
   "id": "90d5758f-e18c-42d3-9746-c3115a337e6a",
   "metadata": {},
   "outputs": [
    {
     "name": "stdout",
     "output_type": "stream",
     "text": [
      "7.0\n"
     ]
    }
   ],
   "source": [
    "sum= x+y\n",
    "print(sum)"
   ]
  },
  {
   "cell_type": "code",
   "execution_count": 95,
   "id": "9b731103-2373-4a3d-b237-4264d77fc924",
   "metadata": {},
   "outputs": [
    {
     "name": "stdout",
     "output_type": "stream",
     "text": [
      "1.0\n"
     ]
    }
   ],
   "source": [
    "minus=x-y\n",
    "print(minus)"
   ]
  },
  {
   "cell_type": "code",
   "execution_count": 96,
   "id": "59473866-5e36-47bf-bde8-f196476be10c",
   "metadata": {},
   "outputs": [
    {
     "name": "stdout",
     "output_type": "stream",
     "text": [
      "12.0\n"
     ]
    }
   ],
   "source": [
    "mul=x*y\n",
    "print(mul)"
   ]
  },
  {
   "cell_type": "code",
   "execution_count": 97,
   "id": "138d341d-2372-46d1-ac1d-cd80eeeacc48",
   "metadata": {},
   "outputs": [
    {
     "name": "stdout",
     "output_type": "stream",
     "text": [
      "1.3333333333333333\n"
     ]
    }
   ],
   "source": [
    "div=x/y\n",
    "print(div)"
   ]
  },
  {
   "cell_type": "markdown",
   "id": "b6789c7d-99b0-41bf-bfb8-dbcd998ebd8e",
   "metadata": {},
   "source": [
    "% means before decimale point and // means after point"
   ]
  },
  {
   "cell_type": "code",
   "execution_count": 98,
   "id": "bb583519-5afc-40b3-8cdc-318e5b1a1a5c",
   "metadata": {},
   "outputs": [
    {
     "name": "stdout",
     "output_type": "stream",
     "text": [
      "1\n",
      "2\n"
     ]
    }
   ],
   "source": [
    "a= 4//3\n",
    "b= 2%3\n",
    "print(a)\n",
    "print(b)"
   ]
  },
  {
   "cell_type": "code",
   "execution_count": 99,
   "id": "d7544710-16f0-4a48-ad46-bb12ff4adb14",
   "metadata": {},
   "outputs": [
    {
     "name": "stdout",
     "output_type": "stream",
     "text": [
      "helloworld\n"
     ]
    }
   ],
   "source": [
    "s1= \"hello\"\n",
    "s2= \"world\"\n",
    "print(s1+s2)"
   ]
  },
  {
   "cell_type": "code",
   "execution_count": 100,
   "id": "44d86817-3739-4eb9-a9d8-4c11e1954e66",
   "metadata": {},
   "outputs": [
    {
     "name": "stdout",
     "output_type": "stream",
     "text": [
      "hello world\n"
     ]
    }
   ],
   "source": [
    "print(s1+\" \"+s2)"
   ]
  },
  {
   "cell_type": "code",
   "execution_count": 101,
   "id": "5b2dd116-37f5-4c41-8e4c-a07666cf79de",
   "metadata": {},
   "outputs": [
    {
     "data": {
      "text/plain": [
       "15"
      ]
     },
     "execution_count": 101,
     "metadata": {},
     "output_type": "execute_result"
    }
   ],
   "source": [
    "7+8"
   ]
  },
  {
   "cell_type": "markdown",
   "id": "18cf2df8-d584-465c-b6d8-abec46748a3b",
   "metadata": {},
   "source": [
    "so when nothings is assigen to any automatli its assigjedn to _"
   ]
  },
  {
   "cell_type": "code",
   "execution_count": 102,
   "id": "36378a71-e72a-4179-ac8c-bb9b1dc84497",
   "metadata": {},
   "outputs": [
    {
     "data": {
      "text/plain": [
       "15"
      ]
     },
     "execution_count": 102,
     "metadata": {},
     "output_type": "execute_result"
    }
   ],
   "source": [
    "_"
   ]
  },
  {
   "cell_type": "code",
   "execution_count": 103,
   "id": "1543f8e3-d4f0-45ca-843b-ec2e3abf7988",
   "metadata": {},
   "outputs": [
    {
     "name": "stdout",
     "output_type": "stream",
     "text": [
      "8\n"
     ]
    }
   ],
   "source": [
    "power = 2**3\n",
    "print(power)"
   ]
  },
  {
   "cell_type": "code",
   "execution_count": 104,
   "id": "45704f90-8c05-40c4-b52e-4b6ac7c4d3ec",
   "metadata": {},
   "outputs": [
    {
     "ename": "SyntaxError",
     "evalue": "invalid decimal literal (1814108539.py, line 1)",
     "output_type": "error",
     "traceback": [
      "\u001b[0;36m  Cell \u001b[0;32mIn[104], line 1\u001b[0;36m\u001b[0m\n\u001b[0;31m    3x=5\u001b[0m\n\u001b[0m    ^\u001b[0m\n\u001b[0;31mSyntaxError\u001b[0m\u001b[0;31m:\u001b[0m invalid decimal literal\n"
     ]
    }
   ],
   "source": [
    "3x=5\n",
    "@y=10\n",
    "!we=11\n",
    "print(3x)"
   ]
  },
  {
   "cell_type": "code",
   "execution_count": 105,
   "id": "b18464f7-1239-4e77-a8c3-b576d12627b4",
   "metadata": {},
   "outputs": [
    {
     "ename": "SyntaxError",
     "evalue": "invalid syntax (1545226707.py, line 1)",
     "output_type": "error",
     "traceback": [
      "\u001b[0;36m  Cell \u001b[0;32mIn[105], line 1\u001b[0;36m\u001b[0m\n\u001b[0;31m    print(@y)\u001b[0m\n\u001b[0m          ^\u001b[0m\n\u001b[0;31mSyntaxError\u001b[0m\u001b[0;31m:\u001b[0m invalid syntax\n"
     ]
    }
   ],
   "source": [
    "print(@y)"
   ]
  },
  {
   "cell_type": "code",
   "execution_count": 106,
   "id": "e3b9e2a2-4e54-4f7c-afa0-89e5f37dada2",
   "metadata": {},
   "outputs": [
    {
     "ename": "SyntaxError",
     "evalue": "invalid syntax (2571534004.py, line 1)",
     "output_type": "error",
     "traceback": [
      "\u001b[0;36m  Cell \u001b[0;32mIn[106], line 1\u001b[0;36m\u001b[0m\n\u001b[0;31m    print(!we)\u001b[0m\n\u001b[0m          ^\u001b[0m\n\u001b[0;31mSyntaxError\u001b[0m\u001b[0;31m:\u001b[0m invalid syntax\n"
     ]
    }
   ],
   "source": [
    "print(!we)"
   ]
  },
  {
   "cell_type": "code",
   "execution_count": 107,
   "id": "effa1b01-e0f8-4c24-8974-a940cb41a9fb",
   "metadata": {},
   "outputs": [],
   "source": [
    "_e=6\n",
    "# _variable is allowed only"
   ]
  },
  {
   "cell_type": "markdown",
   "id": "7db8a75b-f4b7-4076-aeea-ddaf684785bd",
   "metadata": {},
   "source": [
    "# Bool"
   ]
  },
  {
   "cell_type": "code",
   "execution_count": 108,
   "id": "08cbc08c-9d8b-4b30-aa79-5ff68d19b0ff",
   "metadata": {},
   "outputs": [],
   "source": [
    "a=True\n",
    "b=True\n",
    "c=False"
   ]
  },
  {
   "cell_type": "code",
   "execution_count": 109,
   "id": "9238d6ce-0eaf-4663-8a73-8e0813a3707f",
   "metadata": {},
   "outputs": [
    {
     "name": "stdout",
     "output_type": "stream",
     "text": [
      "Variable   Type     Data/Info\n",
      "-----------------------------\n",
      "a          bool     True\n",
      "b          bool     True\n",
      "c          bool     False\n",
      "d          int      2\n",
      "div        float    1.3333333333333333\n",
      "e          int      -3\n",
      "minus      float    1.0\n",
      "mul        float    12.0\n",
      "power      int      8\n",
      "s1         str      hello\n",
      "s2         str      world\n",
      "sum        float    7.0\n",
      "x          int      4\n",
      "y          float    3.0\n"
     ]
    }
   ],
   "source": [
    "%whos"
   ]
  },
  {
   "cell_type": "code",
   "execution_count": 110,
   "id": "8ec9ad61-a97a-4ec4-ac88-4c940b4f94f0",
   "metadata": {},
   "outputs": [
    {
     "name": "stdout",
     "output_type": "stream",
     "text": [
      "True\n"
     ]
    }
   ],
   "source": [
    "print(a and b)"
   ]
  },
  {
   "cell_type": "code",
   "execution_count": 111,
   "id": "78e6c32f-d3c6-420e-b98a-df881bd2e9d3",
   "metadata": {},
   "outputs": [
    {
     "name": "stdout",
     "output_type": "stream",
     "text": [
      "False\n"
     ]
    }
   ],
   "source": [
    "print(a and c)"
   ]
  },
  {
   "cell_type": "code",
   "execution_count": 112,
   "id": "11b1040b-4503-4438-b883-19feda554620",
   "metadata": {},
   "outputs": [
    {
     "name": "stdout",
     "output_type": "stream",
     "text": [
      "True\n"
     ]
    }
   ],
   "source": [
    "print( a or b)"
   ]
  },
  {
   "cell_type": "code",
   "execution_count": 113,
   "id": "62530aae-04c8-4bfe-bc67-21085796b436",
   "metadata": {},
   "outputs": [
    {
     "name": "stdout",
     "output_type": "stream",
     "text": [
      "True\n"
     ]
    }
   ],
   "source": [
    "print( a or c)"
   ]
  },
  {
   "cell_type": "code",
   "execution_count": 114,
   "id": "04a72971-7738-43b2-8dd0-05d906a02353",
   "metadata": {},
   "outputs": [
    {
     "name": "stdout",
     "output_type": "stream",
     "text": [
      "False\n"
     ]
    }
   ],
   "source": [
    "print( not a)"
   ]
  },
  {
   "cell_type": "code",
   "execution_count": 115,
   "id": "c23d1498-cfd9-4138-bd99-be867b258200",
   "metadata": {},
   "outputs": [
    {
     "name": "stdout",
     "output_type": "stream",
     "text": [
      "True\n"
     ]
    }
   ],
   "source": [
    "print(not c)"
   ]
  },
  {
   "cell_type": "code",
   "execution_count": 116,
   "id": "4078542a-0f1d-4890-903a-3520040c5d32",
   "metadata": {},
   "outputs": [
    {
     "name": "stdout",
     "output_type": "stream",
     "text": [
      "False\n"
     ]
    }
   ],
   "source": [
    "print (not ((a and b) or (a and c)))"
   ]
  },
  {
   "cell_type": "markdown",
   "id": "39570c3e-8011-44e9-ae00-55d79c0197c7",
   "metadata": {},
   "source": [
    "# Compare"
   ]
  },
  {
   "cell_type": "code",
   "execution_count": 117,
   "id": "056ccb08-b9c4-4642-9a12-127cb59b2a4c",
   "metadata": {},
   "outputs": [
    {
     "name": "stdout",
     "output_type": "stream",
     "text": [
      "Variable   Type     Data/Info\n",
      "-----------------------------\n",
      "a          bool     True\n",
      "b          bool     True\n",
      "c          bool     False\n",
      "d          int      2\n",
      "div        float    1.3333333333333333\n",
      "e          int      -3\n",
      "minus      float    1.0\n",
      "mul        float    12.0\n",
      "power      int      8\n",
      "s1         str      hello\n",
      "s2         str      world\n",
      "sum        float    7.0\n",
      "x          int      4\n",
      "y          float    3.0\n"
     ]
    }
   ],
   "source": [
    "%whos"
   ]
  },
  {
   "cell_type": "code",
   "execution_count": 118,
   "id": "ad16967b-692d-4afc-9977-23f26f8ea87c",
   "metadata": {},
   "outputs": [
    {
     "name": "stdout",
     "output_type": "stream",
     "text": [
      "True\n"
     ]
    }
   ],
   "source": [
    "print(2<3)"
   ]
  },
  {
   "cell_type": "code",
   "execution_count": 119,
   "id": "c373e279-acaf-4617-b325-23ef93ab6e32",
   "metadata": {},
   "outputs": [
    {
     "name": "stdout",
     "output_type": "stream",
     "text": [
      "False\n"
     ]
    }
   ],
   "source": [
    "print(2>3)"
   ]
  },
  {
   "cell_type": "code",
   "execution_count": 120,
   "id": "60a08969-25c2-4005-b01a-2abf845ca391",
   "metadata": {},
   "outputs": [
    {
     "name": "stdout",
     "output_type": "stream",
     "text": [
      "True\n"
     ]
    }
   ],
   "source": [
    "print(2==2.0)"
   ]
  },
  {
   "cell_type": "code",
   "execution_count": 121,
   "id": "f17d3da9-a5c8-471e-9c28-c0c14fb228f3",
   "metadata": {},
   "outputs": [
    {
     "name": "stdout",
     "output_type": "stream",
     "text": [
      "True\n",
      "<class 'bool'>\n"
     ]
    }
   ],
   "source": [
    "q= 2<3\n",
    "print(q)\n",
    "print(type(q))"
   ]
  },
  {
   "cell_type": "code",
   "execution_count": 122,
   "id": "5d6886c3-fbbb-4e03-baa5-edb62ac5ea67",
   "metadata": {},
   "outputs": [
    {
     "name": "stdout",
     "output_type": "stream",
     "text": [
      "True\n"
     ]
    }
   ],
   "source": [
    "print(2!=3)"
   ]
  },
  {
   "cell_type": "code",
   "execution_count": 123,
   "id": "b3ff01d7-44f6-42f9-9339-693122d0f3d4",
   "metadata": {},
   "outputs": [],
   "source": [
    "z=8\n",
    "x=12\n",
    "c=2.4\n",
    "v=-8"
   ]
  },
  {
   "cell_type": "code",
   "execution_count": 124,
   "id": "2ecc113f-5755-4389-9c27-6e5bc329e3c9",
   "metadata": {},
   "outputs": [
    {
     "data": {
      "text/plain": [
       "False"
      ]
     },
     "execution_count": 124,
     "metadata": {},
     "output_type": "execute_result"
    }
   ],
   "source": [
    "(z>x) and (c<v) or (x<c)"
   ]
  },
  {
   "cell_type": "code",
   "execution_count": 125,
   "id": "9fd98087-f755-4ab1-8035-1f6d3562afaa",
   "metadata": {},
   "outputs": [
    {
     "data": {
      "text/plain": [
       "True"
      ]
     },
     "execution_count": 125,
     "metadata": {},
     "output_type": "execute_result"
    }
   ],
   "source": [
    "(False and True) or True"
   ]
  },
  {
   "cell_type": "code",
   "execution_count": 126,
   "id": "e980ccb6-4953-4224-b691-185a6549c2a4",
   "metadata": {},
   "outputs": [
    {
     "data": {
      "text/plain": [
       "False"
      ]
     },
     "execution_count": 126,
     "metadata": {},
     "output_type": "execute_result"
    }
   ],
   "source": [
    "False and (True or True)"
   ]
  },
  {
   "cell_type": "code",
   "execution_count": 127,
   "id": "496be565-8485-4450-8255-8acac33946b9",
   "metadata": {},
   "outputs": [
    {
     "data": {
      "text/plain": [
       "True"
      ]
     },
     "execution_count": 127,
     "metadata": {},
     "output_type": "execute_result"
    }
   ],
   "source": [
    "False and True or True"
   ]
  },
  {
   "cell_type": "markdown",
   "id": "8c911aa3-9518-4d3d-bbbf-5de82a8aeb00",
   "metadata": {},
   "source": [
    "# Some other usefull functions"
   ]
  },
  {
   "cell_type": "code",
   "execution_count": 128,
   "id": "807795d7-2ed1-4d2e-8e11-991fece7f840",
   "metadata": {},
   "outputs": [
    {
     "data": {
      "text/plain": [
       "4"
      ]
     },
     "execution_count": 128,
     "metadata": {},
     "output_type": "execute_result"
    }
   ],
   "source": [
    "round(4.5)"
   ]
  },
  {
   "cell_type": "code",
   "execution_count": 129,
   "id": "6e227357-4c40-44f0-84b0-5aed329c906b",
   "metadata": {},
   "outputs": [
    {
     "data": {
      "text/plain": [
       "4.73"
      ]
     },
     "execution_count": 129,
     "metadata": {},
     "output_type": "execute_result"
    }
   ],
   "source": [
    "round(4.734664, 2)"
   ]
  },
  {
   "cell_type": "code",
   "execution_count": 130,
   "id": "4a9ff747-44b8-4d05-8693-0ed9956acdfe",
   "metadata": {},
   "outputs": [
    {
     "data": {
      "text/plain": [
       "4.36364"
      ]
     },
     "execution_count": 130,
     "metadata": {},
     "output_type": "execute_result"
    }
   ],
   "source": [
    "round(4.3636363,5)"
   ]
  },
  {
   "cell_type": "code",
   "execution_count": 131,
   "id": "1e704090-937b-410c-8a0b-f440fc8677ca",
   "metadata": {},
   "outputs": [
    {
     "data": {
      "text/plain": [
       "25200.0"
      ]
     },
     "execution_count": 131,
     "metadata": {},
     "output_type": "execute_result"
    }
   ],
   "source": [
    "round(25242.2726, -2)"
   ]
  },
  {
   "cell_type": "code",
   "execution_count": 132,
   "id": "0d5bf88b-a9a7-4f7b-ba0c-44129fd03866",
   "metadata": {},
   "outputs": [
    {
     "data": {
      "text/plain": [
       "(5, 2)"
      ]
     },
     "execution_count": 132,
     "metadata": {},
     "output_type": "execute_result"
    }
   ],
   "source": [
    "divmod(27,5) # gives quotient and reminder in tuple"
   ]
  },
  {
   "cell_type": "code",
   "execution_count": 133,
   "id": "cc66fbc9-9bd4-4fc0-94cc-aea5c0a56bb3",
   "metadata": {},
   "outputs": [],
   "source": [
    "G= divmod(87,7)"
   ]
  },
  {
   "cell_type": "code",
   "execution_count": 134,
   "id": "89bfa452-505e-47aa-93a5-c028a6c8186d",
   "metadata": {},
   "outputs": [
    {
     "name": "stdout",
     "output_type": "stream",
     "text": [
      "(12, 3)\n",
      "<class 'tuple'>\n",
      "12\n",
      "3\n"
     ]
    }
   ],
   "source": [
    "print(G)\n",
    "print(type(G))\n",
    "print(G[0])\n",
    "print(G[1])"
   ]
  },
  {
   "cell_type": "markdown",
   "id": "40e167ae-22b5-44df-85af-961e5f7f253a",
   "metadata": {},
   "source": [
    "#isinstance() returs true when first value is same class"
   ]
  },
  {
   "cell_type": "code",
   "execution_count": 135,
   "id": "30b2d016-fd8b-46ae-8d76-1444b01c08f5",
   "metadata": {},
   "outputs": [
    {
     "data": {
      "text/plain": [
       "True"
      ]
     },
     "execution_count": 135,
     "metadata": {},
     "output_type": "execute_result"
    }
   ],
   "source": [
    "isinstance(1,int)"
   ]
  },
  {
   "cell_type": "code",
   "execution_count": 136,
   "id": "96712da8-5961-478b-a718-e1cd2b65cd8d",
   "metadata": {},
   "outputs": [
    {
     "data": {
      "text/plain": [
       "False"
      ]
     },
     "execution_count": 136,
     "metadata": {},
     "output_type": "execute_result"
    }
   ],
   "source": [
    "isinstance(1,float)"
   ]
  },
  {
   "cell_type": "code",
   "execution_count": 137,
   "id": "57060cd6-e30b-4d39-a70f-779dc637e893",
   "metadata": {},
   "outputs": [
    {
     "data": {
      "text/plain": [
       "True"
      ]
     },
     "execution_count": 137,
     "metadata": {},
     "output_type": "execute_result"
    }
   ],
   "source": [
    "isinstance(1,(int,float))"
   ]
  },
  {
   "cell_type": "code",
   "execution_count": 138,
   "id": "b1359718-02f9-43bc-a9ee-338e5858395f",
   "metadata": {},
   "outputs": [
    {
     "data": {
      "text/plain": [
       "False"
      ]
     },
     "execution_count": 138,
     "metadata": {},
     "output_type": "execute_result"
    }
   ],
   "source": [
    "isinstance(2+3j,(int,float,str))"
   ]
  },
  {
   "cell_type": "markdown",
   "id": "e247a987-0b75-4bf6-84aa-aab05c9e2c84",
   "metadata": {},
   "source": [
    "#pow(x,y,z) x raises power y and reminder by z"
   ]
  },
  {
   "cell_type": "code",
   "execution_count": 139,
   "id": "5fda8101-5fb4-46c9-8497-67627abe7f08",
   "metadata": {},
   "outputs": [
    {
     "data": {
      "text/plain": [
       "16"
      ]
     },
     "execution_count": 139,
     "metadata": {},
     "output_type": "execute_result"
    }
   ],
   "source": [
    "pow(2,4)"
   ]
  },
  {
   "cell_type": "code",
   "execution_count": 140,
   "id": "a64e5314-eb2b-4bad-8c4b-79deeb18b20f",
   "metadata": {},
   "outputs": [
    {
     "data": {
      "text/plain": [
       "16"
      ]
     },
     "execution_count": 140,
     "metadata": {},
     "output_type": "execute_result"
    }
   ],
   "source": [
    "2**4"
   ]
  },
  {
   "cell_type": "code",
   "execution_count": 141,
   "id": "16f0e2b5-d3ec-4aa4-aba6-32ace17cb4ee",
   "metadata": {},
   "outputs": [
    {
     "data": {
      "text/plain": [
       "2"
      ]
     },
     "execution_count": 141,
     "metadata": {},
     "output_type": "execute_result"
    }
   ],
   "source": [
    "pow(2,4,7)"
   ]
  },
  {
   "cell_type": "code",
   "execution_count": 142,
   "id": "50129b95-505f-4c72-bdeb-e09e77ae9461",
   "metadata": {},
   "outputs": [
    {
     "data": {
      "text/plain": [
       "2"
      ]
     },
     "execution_count": 142,
     "metadata": {},
     "output_type": "execute_result"
    }
   ],
   "source": [
    "16%7"
   ]
  },
  {
   "cell_type": "markdown",
   "id": "1c9cd2a9-7668-4963-9bbd-20d91c9e4789",
   "metadata": {},
   "source": [
    "#input() to input something"
   ]
  },
  {
   "cell_type": "code",
   "execution_count": 144,
   "id": "b03a183e-bbd8-4e6d-83ae-d48f07848764",
   "metadata": {},
   "outputs": [
    {
     "name": "stdin",
     "output_type": "stream",
     "text": [
      "Enter a number only: 78\n"
     ]
    }
   ],
   "source": [
    "d= input(\"Enter a number only:\")"
   ]
  },
  {
   "cell_type": "code",
   "execution_count": 145,
   "id": "f39efb09-a0cf-4a5d-b15e-d9f0f167fe90",
   "metadata": {},
   "outputs": [
    {
     "name": "stdout",
     "output_type": "stream",
     "text": [
      "78\n"
     ]
    }
   ],
   "source": [
    "print(d)"
   ]
  },
  {
   "cell_type": "code",
   "execution_count": 146,
   "id": "9ca9514e-2278-4472-8597-468836283c17",
   "metadata": {},
   "outputs": [
    {
     "data": {
      "text/plain": [
       "str"
      ]
     },
     "execution_count": 146,
     "metadata": {},
     "output_type": "execute_result"
    }
   ],
   "source": [
    "type(d)"
   ]
  },
  {
   "cell_type": "code",
   "execution_count": 147,
   "id": "a8255547-c393-492e-a371-e3f08c172312",
   "metadata": {},
   "outputs": [],
   "source": [
    "d=int(d)"
   ]
  },
  {
   "cell_type": "code",
   "execution_count": 148,
   "id": "d186e079-acda-4b02-ad2e-039998f696ac",
   "metadata": {},
   "outputs": [
    {
     "name": "stdout",
     "output_type": "stream",
     "text": [
      "<class 'int'>\n"
     ]
    }
   ],
   "source": [
    "print(type(d))"
   ]
  },
  {
   "cell_type": "code",
   "execution_count": 149,
   "id": "4dc888ad-0758-44e8-b90f-a9a58329a788",
   "metadata": {},
   "outputs": [
    {
     "name": "stdin",
     "output_type": "stream",
     "text": [
      "Enter a real number: 78\n"
     ]
    }
   ],
   "source": [
    "f=float(input(\"Enter a real number:\"))"
   ]
  },
  {
   "cell_type": "code",
   "execution_count": 150,
   "id": "05d82253-c379-4450-8b23-74c2e1fce33e",
   "metadata": {},
   "outputs": [
    {
     "name": "stdout",
     "output_type": "stream",
     "text": [
      "78.0\n",
      "<class 'float'>\n"
     ]
    }
   ],
   "source": [
    "print(f)\n",
    "print(type(f))"
   ]
  },
  {
   "cell_type": "code",
   "execution_count": 151,
   "id": "6267bae6-6b2c-4893-90f9-a2233d7eb301",
   "metadata": {},
   "outputs": [
    {
     "name": "stdin",
     "output_type": "stream",
     "text": [
      "Enter a number: abc\n"
     ]
    },
    {
     "ename": "ValueError",
     "evalue": "could not convert string to float: 'abc'",
     "output_type": "error",
     "traceback": [
      "\u001b[0;31m---------------------------------------------------------------------------\u001b[0m",
      "\u001b[0;31mValueError\u001b[0m                                Traceback (most recent call last)",
      "Cell \u001b[0;32mIn[151], line 1\u001b[0m\n\u001b[0;32m----> 1\u001b[0m g\u001b[38;5;241m=\u001b[39m\u001b[38;5;28;43mfloat\u001b[39;49m\u001b[43m(\u001b[49m\u001b[38;5;28;43minput\u001b[39;49m\u001b[43m(\u001b[49m\u001b[38;5;124;43m\"\u001b[39;49m\u001b[38;5;124;43mEnter a number:\u001b[39;49m\u001b[38;5;124;43m\"\u001b[39;49m\u001b[43m)\u001b[49m\u001b[43m)\u001b[49m\n",
      "\u001b[0;31mValueError\u001b[0m: could not convert string to float: 'abc'"
     ]
    }
   ],
   "source": [
    "g=float(input(\"Enter a number:\"))"
   ]
  },
  {
   "cell_type": "markdown",
   "id": "7bf52ae6-f642-434b-9a22-f3b02a56c094",
   "metadata": {},
   "source": [
    "#when you forget what a funtion does just write it down and add ? or ask help"
   ]
  },
  {
   "cell_type": "code",
   "execution_count": 152,
   "id": "51d1f8b5-c4fc-4d7d-9768-d91aae85a7a6",
   "metadata": {},
   "outputs": [
    {
     "data": {
      "text/plain": [
       "\u001b[0;31mSignature:\u001b[0m \u001b[0mpow\u001b[0m\u001b[0;34m(\u001b[0m\u001b[0mbase\u001b[0m\u001b[0;34m,\u001b[0m \u001b[0mexp\u001b[0m\u001b[0;34m,\u001b[0m \u001b[0mmod\u001b[0m\u001b[0;34m=\u001b[0m\u001b[0;32mNone\u001b[0m\u001b[0;34m)\u001b[0m\u001b[0;34m\u001b[0m\u001b[0;34m\u001b[0m\u001b[0m\n",
       "\u001b[0;31mDocstring:\u001b[0m\n",
       "Equivalent to base**exp with 2 arguments or base**exp % mod with 3 arguments\n",
       "\n",
       "Some types, such as ints, are able to use a more efficient algorithm when\n",
       "invoked using the three argument form.\n",
       "\u001b[0;31mType:\u001b[0m      builtin_function_or_method"
      ]
     },
     "metadata": {},
     "output_type": "display_data"
    }
   ],
   "source": [
    "pow?"
   ]
  },
  {
   "cell_type": "code",
   "execution_count": 153,
   "id": "128cd95f-b707-4653-89df-3fa1df2f8129",
   "metadata": {},
   "outputs": [
    {
     "name": "stdout",
     "output_type": "stream",
     "text": [
      "Help on method raw_input in module ipykernel.kernelbase:\n",
      "\n",
      "raw_input(prompt='') method of ipykernel.ipkernel.IPythonKernel instance\n",
      "    Forward raw_input to frontends\n",
      "    \n",
      "    Raises\n",
      "    ------\n",
      "    StdinNotImplementedError if active frontend doesn't support stdin.\n",
      "\n"
     ]
    }
   ],
   "source": [
    "help(input)"
   ]
  },
  {
   "cell_type": "markdown",
   "id": "655f0a46-7b9b-4c22-9949-8255abb86a8c",
   "metadata": {},
   "source": [
    "# Control Flow "
   ]
  },
  {
   "cell_type": "markdown",
   "id": "24b8d15d-9b14-4981-8c82-b892fe80ab12",
   "metadata": {},
   "source": [
    "# if , if else , if elif else loop"
   ]
  },
  {
   "cell_type": "code",
   "execution_count": 154,
   "id": "42bc0bd4-0444-456e-8860-36153a45edd2",
   "metadata": {},
   "outputs": [],
   "source": [
    "n=4\n",
    "m=5"
   ]
  },
  {
   "cell_type": "code",
   "execution_count": 156,
   "id": "3048add8-bc9f-400a-9c4e-de1d491372ac",
   "metadata": {
    "scrolled": true
   },
   "outputs": [
    {
     "name": "stdout",
     "output_type": "stream",
     "text": [
      "m is bigger\n"
     ]
    }
   ],
   "source": [
    "if n>m:\n",
    "    print(\"n is bigger\")\n",
    "else: print(\"m is bigger\")"
   ]
  },
  {
   "cell_type": "code",
   "execution_count": 157,
   "id": "e9e81922-ba6d-479f-ae03-ebafeac250d1",
   "metadata": {},
   "outputs": [
    {
     "name": "stdin",
     "output_type": "stream",
     "text": [
      "enter a number: 12\n",
      "enter a number: 34\n"
     ]
    },
    {
     "name": "stdout",
     "output_type": "stream",
     "text": [
      "34.0\n"
     ]
    }
   ],
   "source": [
    "a=float(input(\"enter a number:\"))\n",
    "b=float(input(\"enter a number:\"))\n",
    "if a>b:\n",
    "    print(a)\n",
    "elif a==b: # combination of else & if = elif\n",
    "    print(\"a is equal to b\")\n",
    "else: print(b)\n"
   ]
  },
  {
   "cell_type": "code",
   "execution_count": 160,
   "id": "9337ac8a-14ca-4f44-a2c4-33eb5d283cd2",
   "metadata": {},
   "outputs": [
    {
     "name": "stdin",
     "output_type": "stream",
     "text": [
      "enter marks: 56\n"
     ]
    },
    {
     "name": "stdout",
     "output_type": "stream",
     "text": [
      "Cgrade\n"
     ]
    }
   ],
   "source": [
    "a=int(input(\"enter marks:\"))\n",
    "if a>85:\n",
    "    print(\"A grade\")\n",
    "elif a<=85 and a>75:\n",
    "    print(\"B grade\")\n",
    "elif a<=75 and a>55:\n",
    "    print(\"C grade\")\n",
    "elif a<=55 and a>45:\n",
    "    print(\"D grade\")\n",
    "else: print(\"Fail\")"
   ]
  },
  {
   "cell_type": "code",
   "execution_count": 161,
   "id": "53fc43c7-4eba-4e5e-9eb2-19132eb42808",
   "metadata": {},
   "outputs": [
    {
     "name": "stdout",
     "output_type": "stream",
     "text": [
      "else\n"
     ]
    }
   ],
   "source": [
    "a=3\n",
    "if a>10:\n",
    "    print(\"if part\")\n",
    "elif not a>10:\n",
    "    print(\"else\")"
   ]
  },
  {
   "cell_type": "code",
   "execution_count": 163,
   "id": "ee8a834c-e5c1-41a6-8840-5ff1ed6337ae",
   "metadata": {},
   "outputs": [
    {
     "name": "stdin",
     "output_type": "stream",
     "text": [
      " 23\n"
     ]
    },
    {
     "name": "stdout",
     "output_type": "stream",
     "text": [
      ">10\n",
      "<50&>10\n"
     ]
    }
   ],
   "source": [
    "a=int(input())\n",
    "if a>10:\n",
    "    print(\">10\")\n",
    "    if a>50:\n",
    "        print(\">50\")\n",
    "    else: print(\"<50 and >10\")\n",
    "else: print(\"<10\")"
   ]
  },
  {
   "cell_type": "code",
   "execution_count": 164,
   "id": "3fd5e2d0-0bad-41ac-86ca-bc68dfc9abd1",
   "metadata": {},
   "outputs": [],
   "source": [
    "# single line comment"
   ]
  },
  {
   "cell_type": "code",
   "execution_count": 165,
   "id": "9ef27d92-9feb-4846-9658-ca53b53460fe",
   "metadata": {},
   "outputs": [
    {
     "data": {
      "text/plain": [
       "'this \\nis \\na \\nmulti\\nline \\nproblem'"
      ]
     },
     "execution_count": 165,
     "metadata": {},
     "output_type": "execute_result"
    }
   ],
   "source": [
    "\"\"\"this \n",
    "is \n",
    "a \n",
    "multi\n",
    "line \n",
    "problem\"\"\""
   ]
  },
  {
   "cell_type": "code",
   "execution_count": 172,
   "id": "c3b851d1-6dd4-487f-b5bd-b30965c8625c",
   "metadata": {},
   "outputs": [
    {
     "name": "stdin",
     "output_type": "stream",
     "text": [
      "Enter a real number : -34.234\n"
     ]
    },
    {
     "name": "stdout",
     "output_type": "stream",
     "text": [
      "Even\n"
     ]
    }
   ],
   "source": [
    "\"\"\" \n",
    "User will enter a floating point number let say 238.915. Your task\n",
    "is to find out the integer portion before the point (in this case 238)\n",
    "and then check if that integer portion is an even number or not?\n",
    "\"\"\"\n",
    "x = float(input(\"Enter a real number :\"))\n",
    "y = round(x)\n",
    "if x>0:    \n",
    "    if y>x: #if decimale is above 5 it around to next number \n",
    "        intPortion = y-1 # 29.6 becomes 30\n",
    "    else:\n",
    "        intPortion = y\n",
    "else:\n",
    "    if y<x:\n",
    "        intPortion = y+1# -29.6 becomes -30\n",
    "    else:\n",
    "        intPortion = y\n",
    "\n",
    "if intPortion%2 == 0: \n",
    "    print(\"Even\")\n",
    "else:\n",
    "    print(\"Odd\")"
   ]
  },
  {
   "cell_type": "code",
   "execution_count": 168,
   "id": "56166c52-f0c0-4d5a-ac66-29430655fff7",
   "metadata": {},
   "outputs": [
    {
     "data": {
      "text/plain": [
       "4"
      ]
     },
     "execution_count": 168,
     "metadata": {},
     "output_type": "execute_result"
    }
   ],
   "source": [
    "round(4.4)"
   ]
  },
  {
   "cell_type": "code",
   "execution_count": 169,
   "id": "bd17a70a-47f7-4413-8105-f06a120ca44c",
   "metadata": {},
   "outputs": [
    {
     "data": {
      "text/plain": [
       "5"
      ]
     },
     "execution_count": 169,
     "metadata": {},
     "output_type": "execute_result"
    }
   ],
   "source": [
    "round(4.6)"
   ]
  },
  {
   "cell_type": "code",
   "execution_count": 170,
   "id": "64bde1fc-2aa7-4c29-bbea-f938807b74a9",
   "metadata": {},
   "outputs": [
    {
     "data": {
      "text/plain": [
       "-4"
      ]
     },
     "execution_count": 170,
     "metadata": {},
     "output_type": "execute_result"
    }
   ],
   "source": [
    "round(-4.4)"
   ]
  },
  {
   "cell_type": "code",
   "execution_count": 171,
   "id": "c8d50755-6e74-4d34-a668-dac04b648647",
   "metadata": {},
   "outputs": [
    {
     "data": {
      "text/plain": [
       "-5"
      ]
     },
     "execution_count": 171,
     "metadata": {},
     "output_type": "execute_result"
    }
   ],
   "source": [
    "round(-4.6)"
   ]
  },
  {
   "cell_type": "markdown",
   "id": "cd35fcec-e317-48ea-b892-efc8d255c17d",
   "metadata": {},
   "source": [
    "# while loop"
   ]
  },
  {
   "cell_type": "code",
   "execution_count": 176,
   "id": "3dd5f5fb-c643-490e-b2c0-245880ceeea8",
   "metadata": {},
   "outputs": [
    {
     "name": "stdin",
     "output_type": "stream",
     "text": [
      " 5\n"
     ]
    },
    {
     "name": "stdout",
     "output_type": "stream",
     "text": [
      "1\n",
      "2\n",
      "3\n",
      "4\n",
      "5\n",
      "end of loop\n"
     ]
    }
   ],
   "source": [
    "n= int(input())\n",
    "i=1\n",
    "while i<=n:\n",
    "    print(i)\n",
    "    i+=1 # i= i+1\n",
    "print(\"end of loop\")"
   ]
  },
  {
   "cell_type": "code",
   "execution_count": 177,
   "id": "08c146aa-76da-41f6-a4c4-b8a7c5c7eb15",
   "metadata": {},
   "outputs": [
    {
     "name": "stdout",
     "output_type": "stream",
     "text": [
      "inside Else\n",
      "inside Else\n",
      "inside Else\n",
      "inside Else\n",
      "inside Else\n",
      "inside Else\n",
      "inside Else\n",
      "inside Else\n",
      "Inside if\n",
      "done\n"
     ]
    }
   ],
   "source": [
    "n = 10\n",
    "i = 1\n",
    "while True:\n",
    "    if i%9 == 0: # when diviable by 9\n",
    "        print(\"Inside if\")\n",
    "        break # breaks the loop\n",
    "    else:\n",
    "        print(\"inside Else\")\n",
    "        i = i+1 # i+=1\n",
    "print(\"done\")"
   ]
  },
  {
   "cell_type": "code",
   "execution_count": 2,
   "id": "ef77d1af-7ac4-4adb-806c-ca85a4d83679",
   "metadata": {
    "scrolled": true
   },
   "outputs": [
    {
     "name": "stdout",
     "output_type": "stream",
     "text": [
      "inside if:  1\n",
      "inside if:  2\n",
      "inside if:  3\n",
      "inside if:  4\n",
      "inside if:  5\n",
      "inside if:  6\n",
      "inside if:  7\n",
      "inside if:  8\n",
      "something\n",
      "somethingelse\n",
      "done\n"
     ]
    }
   ],
   "source": [
    "n = 10\n",
    "i = 1\n",
    "while True: # condiction is true\n",
    "    if i%9 != 0:\n",
    "        print(\"inside if: \",i)\n",
    "        i +=1\n",
    "        continue # it just ignore the current loop and goes to next loop\n",
    "    print(\"something\")\n",
    "    print(\"somethingelse\")\n",
    "    break# as condition is true, it will print infinite loop unlesss used break \n",
    "    \n",
    "print(\"done\")\n"
   ]
  },
  {
   "cell_type": "markdown",
   "id": "c6582cae-61b6-4f5b-84ad-9ff1b5ae45f2",
   "metadata": {},
   "source": [
    "# for loop"
   ]
  },
  {
   "cell_type": "code",
   "execution_count": 7,
   "id": "80bdc8e6-0d66-479a-a9ed-c1bda2839c9f",
   "metadata": {},
   "outputs": [
    {
     "name": "stdout",
     "output_type": "stream",
     "text": [
      "-3\n",
      "-2\n",
      "-1\n",
      "0\n",
      "1\n",
      "2\n",
      "3\n",
      "4\n",
      "5\n",
      "6\n",
      "7\n",
      "8\n",
      "9\n",
      "[-3, -2, -1, 0, 1, 2, 3, 4, 5, 6, 7, 8, 9]\n"
     ]
    }
   ],
   "source": [
    "l=[] # empty list\n",
    "for i in range (-3,10): #range(a,b) where is a start and b is end minus one\n",
    "    print(i)\n",
    "    l.append(i)# it adds the variable to end of list as shown in output\n",
    "print(l)"
   ]
  },
  {
   "cell_type": "code",
   "execution_count": 3,
   "id": "5800f8a8-8ab8-4b48-8258-1355bd455807",
   "metadata": {},
   "outputs": [
    {
     "name": "stdout",
     "output_type": "stream",
     "text": [
      "1\n",
      "4\n",
      "7\n",
      "10\n",
      "13\n",
      "16\n",
      "19\n",
      "[1, 16, 49, 100, 169, 256, 361]\n"
     ]
    }
   ],
   "source": [
    "L = []#empty list\n",
    "for i in range(1,20,3):# range(a,b,c) a is start, b is end-1 and c is nos to skip\n",
    "    print(i)\n",
    "    L.append(i**2) # append adds to the list in the end of list \n",
    "print(L)"
   ]
  },
  {
   "cell_type": "code",
   "execution_count": 1,
   "id": "9bd5a085-106e-4929-a510-1dddc10ebab7",
   "metadata": {},
   "outputs": [
    {
     "name": "stdout",
     "output_type": "stream",
     "text": [
      "apple\n",
      "4.9\n",
      "Out side the loop\n"
     ]
    }
   ],
   "source": [
    "S = {\"apple\",4.9,\"cherry\"}\n",
    "i = 1\n",
    "for x in S:\n",
    "    print(x)\n",
    "    i+=1\n",
    "    if i==3:# when i=3 s is @ s[2]\n",
    "        break # loop break at s[2]= cherry\n",
    "    else:#else if for if loop\n",
    "        pass\n",
    "else:#else if for for loop\n",
    "    print(\"Loop terminates with success\")\n",
    "print(\"Out side the loop\")"
   ]
  },
  {
   "cell_type": "code",
   "execution_count": 2,
   "id": "83783055-a308-4c92-80e2-abf85cb116ed",
   "metadata": {},
   "outputs": [
    {
     "name": "stdout",
     "output_type": "stream",
     "text": [
      "A 10\n",
      "B -19\n",
      "C abc\n"
     ]
    }
   ],
   "source": [
    "D = {\"A\":10,\"B\":-19,\"C\":\"abc\"} #dist \n",
    "for x in D:\n",
    "    print(x,D[x])# D[\"A\"]=10, D[\"B\"]=-19 etc\n"
   ]
  },
  {
   "cell_type": "code",
   "execution_count": 13,
   "id": "954de5f9-b3bf-42e0-bacd-413e54dbabec",
   "metadata": {},
   "outputs": [
    {
     "name": "stdout",
     "output_type": "stream",
     "text": [
      "[-5, 1, 2, 2, 3, 4, 7, 9]\n"
     ]
    }
   ],
   "source": [
    "\"\"\" Given a list of numbers i.e. [1,2,4,-5,7,9,3,2], make another list\n",
    "that contains all the items in sorted order from min to max. i.e. your \n",
    "result will be another list like [-5,1,2,2,3,7,9]\n",
    "\"\"\"\n",
    "l=[1,2,4,-5,7,9,3,2]\n",
    "for i in range(len(l)):#to take one vale by position\n",
    "    for j in range(len(l)-1):#to compare the one value to rest of value \n",
    "        if l[j] > l[j+1] :\n",
    "            l[j],l[j+1]=l[j+1],l[j]\n",
    "print(l)            "
   ]
  },
  {
   "cell_type": "code",
   "execution_count": 12,
   "id": "fe32c1f9-14f7-4745-9fb6-e60555c4c562",
   "metadata": {},
   "outputs": [
    {
     "data": {
      "text/plain": [
       "[-5, 1, 2, 2, 3, 4, 7, 9]"
      ]
     },
     "execution_count": 12,
     "metadata": {},
     "output_type": "execute_result"
    }
   ],
   "source": [
    "l=[1,2,4,-5,7,9,3,2]\n",
    "sorted(l) # built in function to arranged the list "
   ]
  },
  {
   "cell_type": "markdown",
   "id": "fa58c4b3-2a16-49fd-bea2-becb81ebf021",
   "metadata": {},
   "source": [
    "# Functions"
   ]
  },
  {
   "cell_type": "code",
   "execution_count": 18,
   "id": "ff41daff-f5c1-47c4-92f3-fe735197e737",
   "metadata": {},
   "outputs": [],
   "source": [
    "def printSuccess():# creating a function or define a function\n",
    "    print(\"I am done\")\n",
    "    print(\"send me another task\")"
   ]
  },
  {
   "cell_type": "code",
   "execution_count": 17,
   "id": "2f1fe34c-a22a-4a5e-a477-f19042444f45",
   "metadata": {},
   "outputs": [
    {
     "name": "stdout",
     "output_type": "stream",
     "text": [
      "I am done\n",
      "send me another task\n"
     ]
    }
   ],
   "source": [
    "printSuccess()# calling a function"
   ]
  },
  {
   "cell_type": "code",
   "execution_count": 19,
   "id": "b3f83e48-f4c5-40dc-af2b-c405ed50e9cb",
   "metadata": {},
   "outputs": [],
   "source": [
    "def printSuccess2():\n",
    "    \"\"\" This function is doing nothing except printing a message.\n",
    "    That message is \"hellow\"\n",
    "    \"\"\" # this is a doc function which you can write about function\n",
    "    print(\"hellow\")"
   ]
  },
  {
   "cell_type": "code",
   "execution_count": 28,
   "id": "7557c540-2777-49c7-be23-cd8e28ebad66",
   "metadata": {},
   "outputs": [
    {
     "name": "stdout",
     "output_type": "stream",
     "text": [
      "Help on function printSuccess2 in module __main__:\n",
      "\n",
      "printSuccess2()\n",
      "    This function is doing nothing except printing a message.\n",
      "    That message is \"hellow\"\n",
      "\n"
     ]
    }
   ],
   "source": [
    "help(printSuccess2)# tells about doc written in funtion"
   ]
  },
  {
   "cell_type": "code",
   "execution_count": 22,
   "id": "2f24fa7c-dc33-4f57-a50d-d1e181c180c3",
   "metadata": {},
   "outputs": [
    {
     "name": "stdout",
     "output_type": "stream",
     "text": [
      "hellow\n"
     ]
    }
   ],
   "source": [
    "printSuccess2() # by calling of funtion the doc doesnt get run"
   ]
  },
  {
   "cell_type": "code",
   "execution_count": 25,
   "id": "86a9c2b2-f731-4ffd-a302-e5b369b95dff",
   "metadata": {},
   "outputs": [],
   "source": [
    "def printMsg(msg):\n",
    "    \"\"\" The function prints the message supplied by the user\n",
    "    or prints that msg is not in the form of string\"\"\"\n",
    "    \n",
    "    if isinstance(msg,str): # true if msg is str/string or else false\n",
    "        print(msg)\n",
    "    else:\n",
    "        print(\"Your input argument is not a string\")\n",
    "        print(\"Here is the type of what you have supplied :\",type(msg))"
   ]
  },
  {
   "cell_type": "code",
   "execution_count": 26,
   "id": "c561864a-c568-4248-942b-c7842a499dbb",
   "metadata": {},
   "outputs": [
    {
     "name": "stdout",
     "output_type": "stream",
     "text": [
      "Help on function printMsg in module __main__:\n",
      "\n",
      "printMsg(msg)\n",
      "    The function prints the message supplied by the user\n",
      "    or prints that msg is not in the form of string\n",
      "\n"
     ]
    }
   ],
   "source": [
    "help(printMsg)"
   ]
  },
  {
   "cell_type": "code",
   "execution_count": 27,
   "id": "9fdefcaa-3738-4d0d-b5a1-526ee89aa7fa",
   "metadata": {},
   "outputs": [
    {
     "data": {
      "text/plain": [
       "\u001b[0;31mSignature:\u001b[0m \u001b[0mprintMsg\u001b[0m\u001b[0;34m(\u001b[0m\u001b[0mmsg\u001b[0m\u001b[0;34m)\u001b[0m\u001b[0;34m\u001b[0m\u001b[0;34m\u001b[0m\u001b[0m\n",
       "\u001b[0;31mDocstring:\u001b[0m\n",
       "The function prints the message supplied by the user\n",
       "or prints that msg is not in the form of string\n",
       "\u001b[0;31mFile:\u001b[0m      /tmp/ipykernel_14921/4168373691.py\n",
       "\u001b[0;31mType:\u001b[0m      function"
      ]
     },
     "metadata": {},
     "output_type": "display_data"
    }
   ],
   "source": [
    "printMsg?"
   ]
  },
  {
   "cell_type": "code",
   "execution_count": 31,
   "id": "fce25134-2a1c-4ad9-80f4-d0093733b40a",
   "metadata": {},
   "outputs": [
    {
     "data": {
      "text/plain": [
       "\u001b[0;31mSignature:\u001b[0m \u001b[0mprintMsg\u001b[0m\u001b[0;34m(\u001b[0m\u001b[0mmsg\u001b[0m\u001b[0;34m)\u001b[0m\u001b[0;34m\u001b[0m\u001b[0;34m\u001b[0m\u001b[0m\n",
       "\u001b[0;31mSource:\u001b[0m   \n",
       "\u001b[0;32mdef\u001b[0m \u001b[0mprintMsg\u001b[0m\u001b[0;34m(\u001b[0m\u001b[0mmsg\u001b[0m\u001b[0;34m)\u001b[0m\u001b[0;34m:\u001b[0m\u001b[0;34m\u001b[0m\n",
       "\u001b[0;34m\u001b[0m    \u001b[0;34m\"\"\" The function prints the message supplied by the user\u001b[0m\n",
       "\u001b[0;34m    or prints that msg is not in the form of string\"\"\"\u001b[0m\u001b[0;34m\u001b[0m\n",
       "\u001b[0;34m\u001b[0m    \u001b[0;34m\u001b[0m\n",
       "\u001b[0;34m\u001b[0m    \u001b[0;32mif\u001b[0m \u001b[0misinstance\u001b[0m\u001b[0;34m(\u001b[0m\u001b[0mmsg\u001b[0m\u001b[0;34m,\u001b[0m\u001b[0mstr\u001b[0m\u001b[0;34m)\u001b[0m\u001b[0;34m:\u001b[0m \u001b[0;31m# true if msg is str/string or else false\u001b[0m\u001b[0;34m\u001b[0m\n",
       "\u001b[0;34m\u001b[0m        \u001b[0mprint\u001b[0m\u001b[0;34m(\u001b[0m\u001b[0mmsg\u001b[0m\u001b[0;34m)\u001b[0m\u001b[0;34m\u001b[0m\n",
       "\u001b[0;34m\u001b[0m    \u001b[0;32melse\u001b[0m\u001b[0;34m:\u001b[0m\u001b[0;34m\u001b[0m\n",
       "\u001b[0;34m\u001b[0m        \u001b[0mprint\u001b[0m\u001b[0;34m(\u001b[0m\u001b[0;34m\"Your input argument is not a string\"\u001b[0m\u001b[0;34m)\u001b[0m\u001b[0;34m\u001b[0m\n",
       "\u001b[0;34m\u001b[0m        \u001b[0mprint\u001b[0m\u001b[0;34m(\u001b[0m\u001b[0;34m\"Here is the type of what you have supplied :\"\u001b[0m\u001b[0;34m,\u001b[0m\u001b[0mtype\u001b[0m\u001b[0;34m(\u001b[0m\u001b[0mmsg\u001b[0m\u001b[0;34m)\u001b[0m\u001b[0;34m)\u001b[0m\u001b[0;34m\u001b[0m\u001b[0;34m\u001b[0m\u001b[0m\n",
       "\u001b[0;31mFile:\u001b[0m      /tmp/ipykernel_14921/4168373691.py\n",
       "\u001b[0;31mType:\u001b[0m      function"
      ]
     },
     "metadata": {},
     "output_type": "display_data"
    }
   ],
   "source": [
    "printMsg??"
   ]
  },
  {
   "cell_type": "code",
   "execution_count": 32,
   "id": "80ce555f-f5b9-409c-abfa-628ba00b3489",
   "metadata": {},
   "outputs": [
    {
     "name": "stdout",
     "output_type": "stream",
     "text": [
      "This is the message\n"
     ]
    }
   ],
   "source": [
    "printMsg(\"This is the message\")"
   ]
  },
  {
   "cell_type": "code",
   "execution_count": 33,
   "id": "5937ffa5-ae86-4c7e-ba28-592dba93d9c6",
   "metadata": {},
   "outputs": [
    {
     "name": "stdout",
     "output_type": "stream",
     "text": [
      "Your input argument is not a string\n",
      "Here is the type of what you have supplied : <class 'int'>\n"
     ]
    }
   ],
   "source": [
    "printMsg(23)"
   ]
  },
  {
   "cell_type": "code",
   "execution_count": 34,
   "id": "0eb05a8c-5337-47bc-871c-bb38f24431c3",
   "metadata": {},
   "outputs": [
    {
     "name": "stdout",
     "output_type": "stream",
     "text": [
      "hellow there\n"
     ]
    }
   ],
   "source": [
    "y = \"hellow there\"\n",
    "printMsg(y)"
   ]
  },
  {
   "cell_type": "code",
   "execution_count": 35,
   "id": "2556e2b0-3b72-4da4-801f-ec0bf3aa7c57",
   "metadata": {},
   "outputs": [],
   "source": [
    "def mypow(a,b):\n",
    "    \"\"\" this function computes power just like builtin pow function\"\"\"\n",
    "    c = a**b\n",
    "    print(c)"
   ]
  },
  {
   "cell_type": "code",
   "execution_count": 36,
   "id": "5ec9980f-227c-4714-a0fa-b7c005b4c682",
   "metadata": {},
   "outputs": [
    {
     "data": {
      "text/plain": [
       "\u001b[0;31mSignature:\u001b[0m \u001b[0mmypow\u001b[0m\u001b[0;34m(\u001b[0m\u001b[0ma\u001b[0m\u001b[0;34m,\u001b[0m \u001b[0mb\u001b[0m\u001b[0;34m)\u001b[0m\u001b[0;34m\u001b[0m\u001b[0;34m\u001b[0m\u001b[0m\n",
       "\u001b[0;31mDocstring:\u001b[0m this function computes power just like builtin pow function\n",
       "\u001b[0;31mFile:\u001b[0m      /tmp/ipykernel_14921/2046694761.py\n",
       "\u001b[0;31mType:\u001b[0m      function"
      ]
     },
     "metadata": {},
     "output_type": "display_data"
    }
   ],
   "source": [
    "mypow?"
   ]
  },
  {
   "cell_type": "code",
   "execution_count": 37,
   "id": "dd4eaf19-f526-4331-8e88-b3ebc2d02514",
   "metadata": {},
   "outputs": [
    {
     "name": "stdout",
     "output_type": "stream",
     "text": [
      "Help on function mypow in module __main__:\n",
      "\n",
      "mypow(a, b)\n",
      "    this function computes power just like builtin pow function\n",
      "\n"
     ]
    }
   ],
   "source": [
    "help(mypow)"
   ]
  },
  {
   "cell_type": "code",
   "execution_count": 38,
   "id": "14308fbe-62eb-418c-ab17-9c50d8b804d2",
   "metadata": {},
   "outputs": [
    {
     "data": {
      "text/plain": [
       "\u001b[0;31mSignature:\u001b[0m \u001b[0mmypow\u001b[0m\u001b[0;34m(\u001b[0m\u001b[0ma\u001b[0m\u001b[0;34m,\u001b[0m \u001b[0mb\u001b[0m\u001b[0;34m)\u001b[0m\u001b[0;34m\u001b[0m\u001b[0;34m\u001b[0m\u001b[0m\n",
       "\u001b[0;31mSource:\u001b[0m   \n",
       "\u001b[0;32mdef\u001b[0m \u001b[0mmypow\u001b[0m\u001b[0;34m(\u001b[0m\u001b[0ma\u001b[0m\u001b[0;34m,\u001b[0m\u001b[0mb\u001b[0m\u001b[0;34m)\u001b[0m\u001b[0;34m:\u001b[0m\u001b[0;34m\u001b[0m\n",
       "\u001b[0;34m\u001b[0m    \u001b[0;34m\"\"\" this function computes power just like builtin pow function\"\"\"\u001b[0m\u001b[0;34m\u001b[0m\n",
       "\u001b[0;34m\u001b[0m    \u001b[0mc\u001b[0m \u001b[0;34m=\u001b[0m \u001b[0ma\u001b[0m\u001b[0;34m**\u001b[0m\u001b[0mb\u001b[0m\u001b[0;34m\u001b[0m\n",
       "\u001b[0;34m\u001b[0m    \u001b[0mprint\u001b[0m\u001b[0;34m(\u001b[0m\u001b[0mc\u001b[0m\u001b[0;34m)\u001b[0m\u001b[0;34m\u001b[0m\u001b[0;34m\u001b[0m\u001b[0m\n",
       "\u001b[0;31mFile:\u001b[0m      /tmp/ipykernel_14921/2046694761.py\n",
       "\u001b[0;31mType:\u001b[0m      function"
      ]
     },
     "metadata": {},
     "output_type": "display_data"
    }
   ],
   "source": [
    "mypow??"
   ]
  },
  {
   "cell_type": "code",
   "execution_count": 39,
   "id": "ada80ebb-5f5d-4c1c-88ee-c41115cac751",
   "metadata": {},
   "outputs": [
    {
     "name": "stdout",
     "output_type": "stream",
     "text": [
      "81\n"
     ]
    }
   ],
   "source": [
    "mypow(3,4)"
   ]
  },
  {
   "cell_type": "code",
   "execution_count": 44,
   "id": "a53d9a04-b942-4d19-bba9-1b30d6596ef7",
   "metadata": {},
   "outputs": [],
   "source": [
    "def checkArgs(a,b,c):\n",
    "    \"\"\" this checks if all given numbers are int or float or else print error\n",
    "    and isinstance checks if variable is of required type or not\"\"\"\n",
    "    if isinstance(a,(int,float)) and isinstance(b,(int,float)) and isinstance(c,(int,float)):\n",
    "        print((a+b+c)**2)\n",
    "    else:\n",
    "        print(\"Error: the input arguements are not of the expected types\")"
   ]
  },
  {
   "cell_type": "code",
   "execution_count": 41,
   "id": "abf88707-3b27-4124-9e44-560666e7451c",
   "metadata": {},
   "outputs": [
    {
     "name": "stdout",
     "output_type": "stream",
     "text": [
      "144\n"
     ]
    }
   ],
   "source": [
    "checkArgs(3,4,5)"
   ]
  },
  {
   "cell_type": "code",
   "execution_count": 42,
   "id": "9c662e32-ff35-4350-af1f-53989ba25b64",
   "metadata": {},
   "outputs": [
    {
     "name": "stdout",
     "output_type": "stream",
     "text": [
      "Error: the input arguements are not of the expected types\n"
     ]
    }
   ],
   "source": [
    "checkArgs(3,4,\"g\")"
   ]
  },
  {
   "cell_type": "code",
   "execution_count": 47,
   "id": "f6da7833-290b-4ba4-9548-740221c4b399",
   "metadata": {},
   "outputs": [
    {
     "ename": "TypeError",
     "evalue": "checkArgs() missing 1 required positional argument: 'c'",
     "output_type": "error",
     "traceback": [
      "\u001b[0;31m---------------------------------------------------------------------------\u001b[0m",
      "\u001b[0;31mTypeError\u001b[0m                                 Traceback (most recent call last)",
      "Cell \u001b[0;32mIn[47], line 1\u001b[0m\n\u001b[0;32m----> 1\u001b[0m \u001b[43mcheckArgs\u001b[49m\u001b[43m(\u001b[49m\u001b[38;5;241;43m3\u001b[39;49m\u001b[43m,\u001b[49m\u001b[38;5;241;43m4\u001b[39;49m\u001b[43m)\u001b[49m\u001b[38;5;66;03m# less than the numbers required\u001b[39;00m\n",
      "\u001b[0;31mTypeError\u001b[0m: checkArgs() missing 1 required positional argument: 'c'"
     ]
    }
   ],
   "source": [
    "checkArgs(3,4)# less than the numbers required"
   ]
  },
  {
   "cell_type": "code",
   "execution_count": 48,
   "id": "0a51a7c8-9d3c-434a-96fc-273951c69c63",
   "metadata": {},
   "outputs": [
    {
     "ename": "TypeError",
     "evalue": "checkArgs() takes 3 positional arguments but 4 were given",
     "output_type": "error",
     "traceback": [
      "\u001b[0;31m---------------------------------------------------------------------------\u001b[0m",
      "\u001b[0;31mTypeError\u001b[0m                                 Traceback (most recent call last)",
      "Cell \u001b[0;32mIn[48], line 1\u001b[0m\n\u001b[0;32m----> 1\u001b[0m \u001b[43mcheckArgs\u001b[49m\u001b[43m(\u001b[49m\u001b[38;5;241;43m2\u001b[39;49m\u001b[43m,\u001b[49m\u001b[38;5;241;43m3\u001b[39;49m\u001b[43m,\u001b[49m\u001b[38;5;241;43m4\u001b[39;49m\u001b[43m,\u001b[49m\u001b[38;5;241;43m5\u001b[39;49m\u001b[43m)\u001b[49m \u001b[38;5;66;03m#more than the number required\u001b[39;00m\n",
      "\u001b[0;31mTypeError\u001b[0m: checkArgs() takes 3 positional arguments but 4 were given"
     ]
    }
   ],
   "source": [
    "checkArgs(2,3,4,5) #more than the number required"
   ]
  },
  {
   "cell_type": "code",
   "execution_count": 50,
   "id": "e92824e2-20ff-4006-b267-817da4813e70",
   "metadata": {},
   "outputs": [],
   "source": [
    "def f(a,b,c):\n",
    "    print(\"A is :\",a)\n",
    "    print(\"B is :\",b)\n",
    "    print(\"C is :\",c)"
   ]
  },
  {
   "cell_type": "code",
   "execution_count": 51,
   "id": "e0a33398-9863-499a-a416-1ffddbf17c25",
   "metadata": {},
   "outputs": [
    {
     "name": "stdout",
     "output_type": "stream",
     "text": [
      "A is : 3\n",
      "B is : game\n",
      "C is : 2\n"
     ]
    }
   ],
   "source": [
    "#f(2,\"game\",3)\n",
    "f(3,\"game\",2)"
   ]
  },
  {
   "cell_type": "code",
   "execution_count": 52,
   "id": "cc74ae24-6172-4a56-9def-c9fb0b0c8d05",
   "metadata": {},
   "outputs": [
    {
     "name": "stdout",
     "output_type": "stream",
     "text": [
      "A is : 2\n",
      "B is : 3\n",
      "C is : game\n"
     ]
    }
   ],
   "source": [
    "#f(a = 2,b=3,c=\"game\")\n",
    "f(c=\"game\",a=2,b=3)"
   ]
  },
  {
   "cell_type": "code",
   "execution_count": 53,
   "id": "506ba6b4-79ea-43cb-8214-7f75d7b6eaec",
   "metadata": {},
   "outputs": [],
   "source": [
    "def myadd(a,b):\n",
    "    sumValue = a+b\n",
    "    return sumValue"
   ]
  },
  {
   "cell_type": "code",
   "execution_count": 54,
   "id": "e3949f11-ae00-4f81-808b-550d02bb9e0a",
   "metadata": {},
   "outputs": [
    {
     "name": "stdout",
     "output_type": "stream",
     "text": [
      "5\n"
     ]
    }
   ],
   "source": [
    "d = myadd(2,3)\n",
    "print(d)"
   ]
  },
  {
   "cell_type": "code",
   "execution_count": 55,
   "id": "9cb84596-933c-4a11-b9bf-15257034c0f2",
   "metadata": {},
   "outputs": [
    {
     "name": "stdout",
     "output_type": "stream",
     "text": [
      "5\n"
     ]
    }
   ],
   "source": [
    "print(myadd(2,3))"
   ]
  },
  {
   "cell_type": "code",
   "execution_count": 62,
   "id": "b3af2ca9-96e7-438d-9e97-1f655257ab33",
   "metadata": {},
   "outputs": [
    {
     "name": "stdout",
     "output_type": "stream",
     "text": [
      "3\n",
      "None\n"
     ]
    }
   ],
   "source": [
    "a=3\n",
    "def b():\n",
    "    a=5#variable isnt sent out of funtion\n",
    "\n",
    "print(a)\n",
    "print(b())"
   ]
  },
  {
   "cell_type": "code",
   "execution_count": 64,
   "id": "638ccdb0-e057-495c-bc7b-bd6062b34c48",
   "metadata": {},
   "outputs": [
    {
     "name": "stdout",
     "output_type": "stream",
     "text": [
      "3\n",
      "5\n",
      "3\n"
     ]
    }
   ],
   "source": [
    "a=3\n",
    "def b():\n",
    "    a=5\n",
    "    return a # value is returned so can be used outside of function when called\n",
    "print(a)\n",
    "print(b())\n",
    "print(a)"
   ]
  },
  {
   "cell_type": "code",
   "execution_count": 65,
   "id": "327229f7-bbac-47df-8620-88d414207a62",
   "metadata": {},
   "outputs": [],
   "source": [
    "def h():\n",
    "    print(\"A\")\n",
    "    a = 3\n",
    "    b = 5\n",
    "    c = a+b\n",
    "    print(\"something\")\n",
    "    return c # function ended here \n",
    "    print(\"B\")\n",
    "    print(\"C\")"
   ]
  },
  {
   "cell_type": "code",
   "execution_count": 66,
   "id": "948fb561-73ae-4b6e-b16a-de3b969060d0",
   "metadata": {},
   "outputs": [
    {
     "name": "stdout",
     "output_type": "stream",
     "text": [
      "A\n",
      "something\n"
     ]
    },
    {
     "data": {
      "text/plain": [
       "8"
      ]
     },
     "execution_count": 66,
     "metadata": {},
     "output_type": "execute_result"
    }
   ],
   "source": [
    "h()"
   ]
  },
  {
   "cell_type": "code",
   "execution_count": 67,
   "id": "7424a040-efd1-43aa-abf6-15fb16e5f046",
   "metadata": {},
   "outputs": [
    {
     "name": "stdout",
     "output_type": "stream",
     "text": [
      "A\n",
      "something\n"
     ]
    },
    {
     "data": {
      "text/plain": [
       "int"
      ]
     },
     "execution_count": 67,
     "metadata": {},
     "output_type": "execute_result"
    }
   ],
   "source": [
    "type(h())"
   ]
  },
  {
   "cell_type": "code",
   "execution_count": 68,
   "id": "5b861e73-86c4-48dc-a2e6-0bdab1b12fcd",
   "metadata": {},
   "outputs": [],
   "source": [
    "def r():\n",
    "    a = 5\n",
    "    b = 7\n",
    "    d = \"something\"\n",
    "    return a,b,d"
   ]
  },
  {
   "cell_type": "code",
   "execution_count": 70,
   "id": "d7c7e055-30d1-490a-818f-b548d08c138d",
   "metadata": {},
   "outputs": [
    {
     "name": "stdout",
     "output_type": "stream",
     "text": [
      "5 7 something\n"
     ]
    }
   ],
   "source": [
    "x,y,z = r()# return a,b,c so x=a,y=b,z=c\n",
    "print(x,y,z) "
   ]
  },
  {
   "cell_type": "code",
   "execution_count": 71,
   "id": "fbe8d3fc-f617-45eb-b776-03e3b1dec052",
   "metadata": {},
   "outputs": [],
   "source": [
    "def myAddUniversal(*args): # *args is used when we dont know how many no of arguments are there \n",
    "    s = 0\n",
    "    for i in range(len(args)):\n",
    "        s += args[i] # s = s+args[i]\n",
    "    return s"
   ]
  },
  {
   "cell_type": "code",
   "execution_count": 72,
   "id": "833dfbf4-e2fa-4732-a7d6-8dc629a01af9",
   "metadata": {},
   "outputs": [
    {
     "name": "stdout",
     "output_type": "stream",
     "text": [
      "93.6\n"
     ]
    }
   ],
   "source": [
    "print(myAddUniversal(2,4,5,4.6,78))"
   ]
  },
  {
   "cell_type": "code",
   "execution_count": 75,
   "id": "64865f30-9a79-409b-a7ed-6e9bbcdaa6d3",
   "metadata": {},
   "outputs": [
    {
     "name": "stdout",
     "output_type": "stream",
     "text": [
      "23.3\n"
     ]
    }
   ],
   "source": [
    "print(myAddUniversal(2,3,4,5,6,-2,4.5,2.5,-1.7))"
   ]
  },
  {
   "cell_type": "code",
   "execution_count": 81,
   "id": "b15c5dcb-e5cc-400a-8069-28933e0c4a8d",
   "metadata": {},
   "outputs": [],
   "source": [
    "def printAllVariableNamesAndValues(**args):#** means recives unlimited key and its value \n",
    "    for x in args:\n",
    "        print(\"Variable Name is :\",x,\" And Value is :\",args[x])"
   ]
  },
  {
   "cell_type": "code",
   "execution_count": 78,
   "id": "3587deca-f4e2-4c3a-9cb0-ffaabea01431",
   "metadata": {},
   "outputs": [
    {
     "name": "stdout",
     "output_type": "stream",
     "text": [
      "Variable Name is : a  And Value is : 3\n",
      "Variable Name is : b  And Value is : B\n",
      "Variable Name is : c  And Value is : CCC\n",
      "Variable Name is : y  And Value is : 6.7\n"
     ]
    }
   ],
   "source": [
    "printAllVariableNamesAndValues(a = 3,b=\"B\",c=\"CCC\",y=6.7)"
   ]
  },
  {
   "cell_type": "code",
   "execution_count": 80,
   "id": "4ea8b681-5613-4843-8b9f-27ff6439322f",
   "metadata": {},
   "outputs": [],
   "source": [
    "#for example when x is 0 value of x is a and args[0] value is 3.\n",
    "#when x is 1 value of x is b and args[1] value is B.\n",
    "#etc"
   ]
  },
  {
   "cell_type": "code",
   "execution_count": 82,
   "id": "2414dfbc-6caa-4db4-b3a5-32e48a18b84e",
   "metadata": {},
   "outputs": [],
   "source": [
    "def gg(s=4):\n",
    "    print(s)"
   ]
  },
  {
   "cell_type": "code",
   "execution_count": 83,
   "id": "45b00982-10cc-46b5-b63f-351367f75aab",
   "metadata": {},
   "outputs": [
    {
     "name": "stdout",
     "output_type": "stream",
     "text": [
      "4\n"
     ]
    }
   ],
   "source": [
    "gg()# if no value is given it takes value 4 as given in function"
   ]
  },
  {
   "cell_type": "code",
   "execution_count": 84,
   "id": "e10c2113-300c-4a2a-8658-0b9114939718",
   "metadata": {},
   "outputs": [
    {
     "name": "stdout",
     "output_type": "stream",
     "text": [
      "56\n"
     ]
    }
   ],
   "source": [
    "gg(56)# when value is given it will take the value "
   ]
  },
  {
   "cell_type": "code",
   "execution_count": 86,
   "id": "3543559c-e644-4847-8469-3b9f55e826f2",
   "metadata": {},
   "outputs": [
    {
     "name": "stdout",
     "output_type": "stream",
     "text": [
      "[-9, 2, 3]\n"
     ]
    }
   ],
   "source": [
    "L = [1,2,3]\n",
    "L2 = L# l memory location is saved into l2\n",
    "L2[0] = -9# l2[0] is pointing towards l[0] so its gets changed\n",
    "print(L)"
   ]
  },
  {
   "cell_type": "code",
   "execution_count": 87,
   "id": "21a79225-4840-422c-aafd-e510c430efe9",
   "metadata": {},
   "outputs": [],
   "source": [
    "def ff(L=[1,2]):\n",
    "    for i in L:\n",
    "        print(i)"
   ]
  },
  {
   "cell_type": "code",
   "execution_count": 91,
   "id": "ca6d3097-6830-4eb9-9cbb-da8d9726f929",
   "metadata": {},
   "outputs": [
    {
     "name": "stdout",
     "output_type": "stream",
     "text": [
      "1\n",
      "2\n"
     ]
    }
   ],
   "source": [
    "L2 = [12,3,4]\n",
    "ff()# will print the default value in ff"
   ]
  },
  {
   "cell_type": "code",
   "execution_count": 90,
   "id": "c05dda9d-cb6c-4168-8537-c27b51e77fc4",
   "metadata": {},
   "outputs": [
    {
     "name": "stdout",
     "output_type": "stream",
     "text": [
      "12\n",
      "3\n",
      "4\n"
     ]
    }
   ],
   "source": [
    "ff(L2)#will print the updated list in l2 "
   ]
  },
  {
   "cell_type": "code",
   "execution_count": 92,
   "id": "7829d3d5-3efb-4d5c-b041-b5ee736cd0a0",
   "metadata": {},
   "outputs": [
    {
     "name": "stdout",
     "output_type": "stream",
     "text": [
      "1\n",
      "2\n"
     ]
    }
   ],
   "source": [
    "ff()"
   ]
  },
  {
   "cell_type": "markdown",
   "id": "d9a8e798-2557-425a-8e8c-782e47d5f530",
   "metadata": {},
   "source": [
    "# Modules"
   ]
  },
  {
   "cell_type": "code",
   "execution_count": 2,
   "id": "be2519fb-0c78-41dd-abed-3a1182be1d72",
   "metadata": {},
   "outputs": [],
   "source": [
    "#import sys\n",
    "#sys.path.append('D:/mymodules/')\n",
    "#import myfuncs as fs\n",
    "#f.printme(\"helow\")"
   ]
  },
  {
   "cell_type": "code",
   "execution_count": 43,
   "id": "f62ef35f-b88d-4dc5-9068-aceac3dfa77c",
   "metadata": {},
   "outputs": [
    {
     "data": {
      "text/plain": [
       "\u001b[0;31mSignature:\u001b[0m \u001b[0mmyfs\u001b[0m\u001b[0;34m.\u001b[0m\u001b[0mcheckIfNotNumeric\u001b[0m\u001b[0;34m(\u001b[0m\u001b[0;34m*\u001b[0m\u001b[0margs\u001b[0m\u001b[0;34m)\u001b[0m\u001b[0;34m\u001b[0m\u001b[0;34m\u001b[0m\u001b[0m\n",
       "\u001b[0;31mDocstring:\u001b[0m <no docstring>\n",
       "\u001b[0;31mSource:\u001b[0m   \n",
       "\u001b[0;32mdef\u001b[0m \u001b[0mcheckIfNotNumeric\u001b[0m\u001b[0;34m(\u001b[0m\u001b[0;34m*\u001b[0m\u001b[0margs\u001b[0m\u001b[0;34m)\u001b[0m\u001b[0;34m:\u001b[0m    \u001b[0;34m\u001b[0m\n",
       "\u001b[0;34m\u001b[0m    \u001b[0;32mfor\u001b[0m \u001b[0mx\u001b[0m \u001b[0;32min\u001b[0m \u001b[0margs\u001b[0m\u001b[0;34m:\u001b[0m\u001b[0;34m\u001b[0m\n",
       "\u001b[0;34m\u001b[0m        \u001b[0;32mif\u001b[0m \u001b[0;32mnot\u001b[0m\u001b[0;34m(\u001b[0m\u001b[0misinstance\u001b[0m\u001b[0;34m(\u001b[0m\u001b[0mx\u001b[0m\u001b[0;34m,\u001b[0m\u001b[0;34m(\u001b[0m\u001b[0mint\u001b[0m\u001b[0;34m,\u001b[0m\u001b[0mfloat\u001b[0m\u001b[0;34m)\u001b[0m\u001b[0;34m)\u001b[0m\u001b[0;34m)\u001b[0m\u001b[0;34m:\u001b[0m\u001b[0;34m\u001b[0m\n",
       "\u001b[0;34m\u001b[0m            \u001b[0;32mreturn\u001b[0m \u001b[0;32mFalse\u001b[0m\u001b[0;34m\u001b[0m\n",
       "\u001b[0;34m\u001b[0m    \u001b[0;32mreturn\u001b[0m \u001b[0;32mTrue\u001b[0m\u001b[0;34m\u001b[0m\u001b[0;34m\u001b[0m\u001b[0m\n",
       "\u001b[0;31mFile:\u001b[0m      ~/Desktop/Python/My Modules/module1.py\n",
       "\u001b[0;31mType:\u001b[0m      function"
      ]
     },
     "metadata": {},
     "output_type": "display_data"
    }
   ],
   "source": [
    "import sys\n",
    "sys.path.append('/home/hari/Desktop/Python/My Modules/') "
   ]
  },
  {
   "cell_type": "code",
   "execution_count": 44,
   "id": "0975496a-4f57-416b-a908-6209b5ecd110",
   "metadata": {},
   "outputs": [],
   "source": [
    "import module1 as myfs"
   ]
  },
  {
   "cell_type": "code",
   "execution_count": 45,
   "id": "3d06e443-4834-4740-bf10-b6219eec4f08",
   "metadata": {},
   "outputs": [
    {
     "data": {
      "text/plain": [
       "\u001b[0;31mSignature:\u001b[0m \u001b[0mmyfs\u001b[0m\u001b[0;34m.\u001b[0m\u001b[0mcheckIfNotNumeric\u001b[0m\u001b[0;34m(\u001b[0m\u001b[0;34m*\u001b[0m\u001b[0margs\u001b[0m\u001b[0;34m)\u001b[0m\u001b[0;34m\u001b[0m\u001b[0;34m\u001b[0m\u001b[0m\n",
       "\u001b[0;31mDocstring:\u001b[0m <no docstring>\n",
       "\u001b[0;31mSource:\u001b[0m   \n",
       "\u001b[0;32mdef\u001b[0m \u001b[0mcheckIfNotNumeric\u001b[0m\u001b[0;34m(\u001b[0m\u001b[0;34m*\u001b[0m\u001b[0margs\u001b[0m\u001b[0;34m)\u001b[0m\u001b[0;34m:\u001b[0m    \u001b[0;34m\u001b[0m\n",
       "\u001b[0;34m\u001b[0m    \u001b[0;32mfor\u001b[0m \u001b[0mx\u001b[0m \u001b[0;32min\u001b[0m \u001b[0margs\u001b[0m\u001b[0;34m:\u001b[0m\u001b[0;34m\u001b[0m\n",
       "\u001b[0;34m\u001b[0m        \u001b[0;32mif\u001b[0m \u001b[0;32mnot\u001b[0m\u001b[0;34m(\u001b[0m\u001b[0misinstance\u001b[0m\u001b[0;34m(\u001b[0m\u001b[0mx\u001b[0m\u001b[0;34m,\u001b[0m\u001b[0;34m(\u001b[0m\u001b[0mint\u001b[0m\u001b[0;34m,\u001b[0m\u001b[0mfloat\u001b[0m\u001b[0;34m)\u001b[0m\u001b[0;34m)\u001b[0m\u001b[0;34m)\u001b[0m\u001b[0;34m:\u001b[0m\u001b[0;34m\u001b[0m\n",
       "\u001b[0;34m\u001b[0m            \u001b[0;32mreturn\u001b[0m \u001b[0;32mFalse\u001b[0m\u001b[0;34m\u001b[0m\n",
       "\u001b[0;34m\u001b[0m    \u001b[0;32mreturn\u001b[0m \u001b[0;32mTrue\u001b[0m\u001b[0;34m\u001b[0m\u001b[0;34m\u001b[0m\u001b[0m\n",
       "\u001b[0;31mFile:\u001b[0m      ~/Desktop/Python/My Modules/module1.py\n",
       "\u001b[0;31mType:\u001b[0m      function"
      ]
     },
     "metadata": {},
     "output_type": "display_data"
    }
   ],
   "source": [
    "myfs.checkIfNotNumeric??"
   ]
  },
  {
   "cell_type": "code",
   "execution_count": 47,
   "id": "814988d9-2ffe-4cc0-bb33-30666f5c693e",
   "metadata": {},
   "outputs": [
    {
     "name": "stdout",
     "output_type": "stream",
     "text": [
      "27\n"
     ]
    }
   ],
   "source": [
    "d = myfs.addAllNumerics(2,3,4,5,6,7)\n",
    "print(d)"
   ]
  },
  {
   "cell_type": "code",
   "execution_count": 48,
   "id": "29f18409-1b1b-4b38-af21-92e9f7293e71",
   "metadata": {},
   "outputs": [
    {
     "ename": "NameError",
     "evalue": "name 'addAllNumerics' is not defined",
     "output_type": "error",
     "traceback": [
      "\u001b[0;31m---------------------------------------------------------------------------\u001b[0m",
      "\u001b[0;31mNameError\u001b[0m                                 Traceback (most recent call last)",
      "Cell \u001b[0;32mIn[48], line 1\u001b[0m\n\u001b[0;32m----> 1\u001b[0m d \u001b[38;5;241m=\u001b[39m \u001b[43maddAllNumerics\u001b[49m(\u001b[38;5;241m2\u001b[39m,\u001b[38;5;241m3\u001b[39m,\u001b[38;5;241m4\u001b[39m,\u001b[38;5;241m5\u001b[39m,\u001b[38;5;241m6\u001b[39m,\u001b[38;5;241m7\u001b[39m)\n\u001b[1;32m      2\u001b[0m \u001b[38;5;28mprint\u001b[39m(d)\n",
      "\u001b[0;31mNameError\u001b[0m: name 'addAllNumerics' is not defined"
     ]
    }
   ],
   "source": [
    "d = addAllNumerics(2,3,4,5,6,7) #remeber to add imput file name or it will show error\n",
    "print(d)"
   ]
  },
  {
   "cell_type": "code",
   "execution_count": 52,
   "id": "80fbdb09-5641-44f9-94a3-8f5f2c87461e",
   "metadata": {},
   "outputs": [],
   "source": [
    "c = myfs.addAllNumerics(2,3,4,6)"
   ]
  },
  {
   "cell_type": "code",
   "execution_count": 53,
   "id": "b28100f7-5d9a-4784-b525-a8f06a7156a4",
   "metadata": {},
   "outputs": [
    {
     "name": "stdout",
     "output_type": "stream",
     "text": [
      "15\n"
     ]
    }
   ],
   "source": [
    "print(c)"
   ]
  },
  {
   "cell_type": "code",
   "execution_count": 54,
   "id": "684f1ac9-4674-4714-9d4b-690400c6a227",
   "metadata": {},
   "outputs": [
    {
     "data": {
      "text/plain": [
       "'Python Course'"
      ]
     },
     "execution_count": 54,
     "metadata": {},
     "output_type": "execute_result"
    }
   ],
   "source": [
    "myfs.myName # get the value from the module"
   ]
  },
  {
   "cell_type": "code",
   "execution_count": 56,
   "id": "77393cfc-14d7-448a-a7a8-24050ae5769d",
   "metadata": {},
   "outputs": [],
   "source": [
    "from module1 import addAllNumerics"
   ]
  },
  {
   "cell_type": "code",
   "execution_count": 57,
   "id": "97b29650-3dc7-40ea-9106-f17a4c7f5b83",
   "metadata": {},
   "outputs": [
    {
     "name": "stdout",
     "output_type": "stream",
     "text": [
      "27\n"
     ]
    }
   ],
   "source": [
    "d = addAllNumerics(2,3,4,5,6,7) # here we have imported specifi function so we can use it\n",
    "print(d)"
   ]
  },
  {
   "cell_type": "code",
   "execution_count": 59,
   "id": "370291b2-3fd1-4a4f-9135-d8618c44c2d2",
   "metadata": {},
   "outputs": [
    {
     "data": {
      "text/plain": [
       "' Given a list of numbers i.e. [1,2,4,-5,7,9,3,2], make another list\\nthat contains all the items in sorted order from min to max. i.e. your \\nresult will be another list like [-5,1,2,2,3,7,9]\\n'"
      ]
     },
     "execution_count": 59,
     "metadata": {},
     "output_type": "execute_result"
    }
   ],
   "source": [
    "\"\"\" Given a list of numbers i.e. [1,2,4,-5,7,9,3,2], make another list\n",
    "that contains all the items in sorted order from min to max. i.e. your \n",
    "result will be another list like [-5,1,2,2,3,7,9]\n",
    "\"\"\""
   ]
  },
  {
   "cell_type": "code",
   "execution_count": 102,
   "id": "3aac4423-0bbf-4661-a7af-4a7b8406a514",
   "metadata": {},
   "outputs": [],
   "source": [
    "def findmin(l,startidx):\n",
    "    m=l[startidx]\n",
    "    idx=startidx\n",
    "    for i in range(startidx,len(l)):\n",
    "        x=l[i] \n",
    "        if x<m:\n",
    "            m=x\n",
    "            idx=i\n",
    "        else: \n",
    "            pass\n",
    "    return m,idx"
   ]
  },
  {
   "cell_type": "code",
   "execution_count": 103,
   "id": "13022b12-9609-4599-94a5-7da4fb4ae199",
   "metadata": {},
   "outputs": [
    {
     "ename": "TypeError",
     "evalue": "findmin() missing 1 required positional argument: 'startidx'",
     "output_type": "error",
     "traceback": [
      "\u001b[0;31m---------------------------------------------------------------------------\u001b[0m",
      "\u001b[0;31mTypeError\u001b[0m                                 Traceback (most recent call last)",
      "Cell \u001b[0;32mIn[103], line 1\u001b[0m\n\u001b[0;32m----> 1\u001b[0m a,b \u001b[38;5;241m=\u001b[39m \u001b[43mfindmin\u001b[49m\u001b[43m(\u001b[49m\u001b[43m[\u001b[49m\u001b[38;5;241;43m2\u001b[39;49m\u001b[43m,\u001b[49m\u001b[38;5;241;43m3\u001b[39;49m\u001b[43m,\u001b[49m\u001b[38;5;241;43m-\u001b[39;49m\u001b[38;5;241;43m4\u001b[39;49m\u001b[43m,\u001b[49m\u001b[38;5;241;43m5\u001b[39;49m\u001b[43m,\u001b[49m\u001b[38;5;241;43m-\u001b[39;49m\u001b[38;5;241;43m1.4\u001b[39;49m\u001b[43m]\u001b[49m\u001b[43m)\u001b[49m\n",
      "\u001b[0;31mTypeError\u001b[0m: findmin() missing 1 required positional argument: 'startidx'"
     ]
    }
   ],
   "source": [
    "a,b = findmin([2,3,-4,5,-1.4])"
   ]
  },
  {
   "cell_type": "code",
   "execution_count": 76,
   "id": "b6101954-dfee-40d3-b944-b2a72f25c05a",
   "metadata": {},
   "outputs": [
    {
     "name": "stdout",
     "output_type": "stream",
     "text": [
      "-4 2\n"
     ]
    }
   ],
   "source": [
    "print(a,b)"
   ]
  },
  {
   "cell_type": "code",
   "execution_count": 78,
   "id": "b99f8075-7d12-472d-a9e5-26ee94d77a86",
   "metadata": {},
   "outputs": [],
   "source": [
    "def swapval(l,idx1,idx2):\n",
    "    tmp =l[idx1]\n",
    "    l[idx1]=l[idx2]\n",
    "    l[idx2]=tmp\n",
    "    return l"
   ]
  },
  {
   "cell_type": "code",
   "execution_count": 80,
   "id": "48dd3d84-b8c4-4abb-b895-a5222c413aff",
   "metadata": {},
   "outputs": [],
   "source": [
    "l =[2,3.4,5.6,7]"
   ]
  },
  {
   "cell_type": "code",
   "execution_count": 81,
   "id": "d7b6b654-509a-47ba-888d-20bb8dd81b8d",
   "metadata": {},
   "outputs": [],
   "source": [
    "l1=swapval(l,1,3)"
   ]
  },
  {
   "cell_type": "code",
   "execution_count": 82,
   "id": "63d7fd78-551b-4642-8d9a-e2716a00baf8",
   "metadata": {},
   "outputs": [
    {
     "name": "stdout",
     "output_type": "stream",
     "text": [
      "[2, 7, 5.6, 3.4]\n"
     ]
    }
   ],
   "source": [
    "print(l1)"
   ]
  },
  {
   "cell_type": "code",
   "execution_count": 107,
   "id": "c7fdfb53-1cc8-4571-a775-f136e9e54bc0",
   "metadata": {},
   "outputs": [],
   "source": [
    "from module1 import checkIfNotNumeric\n",
    "def sortlist(l):\n",
    "    if not checkIfNotNumeric2(l):\n",
    "        print(\"error: list doesnt have all numeric\")\n",
    "        return\n",
    "    else:\n",
    "        c=0\n",
    "        for x in l:\n",
    "            m,idx = findmin(l,c)\n",
    "            l=swapval(l,c,idx)\n",
    "            c+=1\n",
    "    return l        "
   ]
  },
  {
   "cell_type": "code",
   "execution_count": 108,
   "id": "674ce670-36e2-43d9-b46b-d300ced55d60",
   "metadata": {},
   "outputs": [
    {
     "name": "stdout",
     "output_type": "stream",
     "text": [
      "[-8, 1, 2, 5, 17]\n"
     ]
    }
   ],
   "source": [
    "l2 = sortlist([2,1,5,-8,17])\n",
    "print(l2)"
   ]
  },
  {
   "cell_type": "code",
   "execution_count": 106,
   "id": "4bdb32b3-2746-420c-95e6-4dc0905a19d0",
   "metadata": {},
   "outputs": [
    {
     "data": {
      "text/plain": [
       "True"
      ]
     },
     "execution_count": 106,
     "metadata": {},
     "output_type": "execute_result"
    }
   ],
   "source": [
    "checkIfNotNumeric2([2,3,4,5,6,])"
   ]
  },
  {
   "cell_type": "code",
   "execution_count": 109,
   "id": "97ac47b1-089a-4322-9e9b-389db3e4df39",
   "metadata": {},
   "outputs": [],
   "source": [
    "def checkIfNotNumeric2(L):    \n",
    "    for x in L:\n",
    "        if not(isinstance(x,(int,float))):\n",
    "            return False\n",
    "    return True"
   ]
  },
  {
   "cell_type": "markdown",
   "id": "b337745f-4534-4b4f-b8b6-f6f552c91dd5",
   "metadata": {},
   "source": [
    "# Strings"
   ]
  },
  {
   "cell_type": "code",
   "execution_count": 110,
   "id": "eac2b0f4-314b-4d12-8d44-9f64891325e3",
   "metadata": {},
   "outputs": [],
   "source": [
    "# \"abc\" is same as 'abc' but not same as \"abc' or 'abc\""
   ]
  },
  {
   "cell_type": "code",
   "execution_count": 111,
   "id": "fd33b159-a0d7-414d-9075-d3a314929624",
   "metadata": {},
   "outputs": [],
   "source": [
    "s = \"Python is a good language\"\n",
    "t = 'Its good for data science'"
   ]
  },
  {
   "cell_type": "code",
   "execution_count": 112,
   "id": "fd77c662-9af5-41ab-bf67-e991fd798d20",
   "metadata": {},
   "outputs": [
    {
     "name": "stdout",
     "output_type": "stream",
     "text": [
      "Python is a good language\n"
     ]
    }
   ],
   "source": [
    "print(s)"
   ]
  },
  {
   "cell_type": "code",
   "execution_count": 113,
   "id": "f9ccbee6-97f3-4b59-8836-81916a2966b0",
   "metadata": {},
   "outputs": [
    {
     "name": "stdout",
     "output_type": "stream",
     "text": [
      "Its good for data science\n"
     ]
    }
   ],
   "source": [
    "print(t)"
   ]
  },
  {
   "cell_type": "code",
   "execution_count": 121,
   "id": "62a529d7-3b12-4cb5-899f-7d7d8ffe593d",
   "metadata": {},
   "outputs": [
    {
     "name": "stdout",
     "output_type": "stream",
     "text": [
      "The price of this bookIts good for data science\n",
      "The price of this book Its good for data science\n",
      "The price of this book Its good for data science\n",
      "The price of this book Its good for data science\n"
     ]
    }
   ],
   "source": [
    "print(s+t)\n",
    "print(s+\" \"+t)\n",
    "v = s+\" \"+t\n",
    "print(v)\n",
    "print(s,t)"
   ]
  },
  {
   "cell_type": "code",
   "execution_count": 116,
   "id": "3d52069a-35c3-4b6d-a4b3-e9a2538ff58c",
   "metadata": {},
   "outputs": [
    {
     "name": "stdout",
     "output_type": "stream",
     "text": [
      "hellow 12 hellow2 who are you 5.9\n"
     ]
    }
   ],
   "source": [
    "print(\"hellow\",12,\"hellow2\",'who are you',5.9)"
   ]
  },
  {
   "cell_type": "code",
   "execution_count": 119,
   "id": "3afc6159-fbd9-4eae-98ef-26f2c5e11a5e",
   "metadata": {},
   "outputs": [
    {
     "name": "stdout",
     "output_type": "stream",
     "text": [
      "The price of this book is: 12\n",
      "The price of this book is: 12\n"
     ]
    }
   ],
   "source": [
    "price = 12\n",
    "s = \"The price of this book\"\n",
    "v = s + ' is: ' + str(price)\n",
    "print(v)\n",
    "print(s,\"is:\",price)"
   ]
  },
  {
   "cell_type": "code",
   "execution_count": 122,
   "id": "1579745a-e41c-4728-b5a9-3a4f0cd3d4f3",
   "metadata": {},
   "outputs": [
    {
     "name": "stdout",
     "output_type": "stream",
     "text": [
      "this is line 1\n",
      "this is line 2\n",
      "this is last line and this line is 3\n"
     ]
    }
   ],
   "source": [
    "a = \"\"\"this is line 1\n",
    "this is line 2\n",
    "this is last line and this line is 3\"\"\"\n",
    "print(a)"
   ]
  },
  {
   "cell_type": "code",
   "execution_count": 123,
   "id": "774b1e63-8d98-4a78-9b72-5cc9280268cd",
   "metadata": {},
   "outputs": [
    {
     "name": "stdout",
     "output_type": "stream",
     "text": [
      " The following options are available:\n",
      "            -a       : does nothing\n",
      "            -b       : also does nothing\n",
      "\n"
     ]
    }
   ],
   "source": [
    "print(\"\"\" The following options are available:\n",
    "            -a       : does nothing\n",
    "            -b       : also does nothing\n",
    "\"\"\")"
   ]
  },
  {
   "cell_type": "code",
   "execution_count": 124,
   "id": "9a01731c-ac95-42ac-88de-6453a15f0674",
   "metadata": {},
   "outputs": [
    {
     "name": "stdout",
     "output_type": "stream",
     "text": [
      "r\n"
     ]
    }
   ],
   "source": [
    "s = \"How are you and who are you\"\n",
    "print(s[5])"
   ]
  },
  {
   "cell_type": "code",
   "execution_count": 125,
   "id": "3e1ddd31-caf0-4cde-b587-c66fa968e2dc",
   "metadata": {},
   "outputs": [],
   "source": [
    "#s[0] = H,s[1]=o,s[2]=w,s[3]=\" \" ,s[4]=a,s[5]=r"
   ]
  },
  {
   "cell_type": "code",
   "execution_count": 126,
   "id": "0738febe-6bbc-4343-88a0-e418c6fbcb5e",
   "metadata": {},
   "outputs": [
    {
     "data": {
      "text/plain": [
       "str"
      ]
     },
     "execution_count": 126,
     "metadata": {},
     "output_type": "execute_result"
    }
   ],
   "source": [
    "type(s[5])"
   ]
  },
  {
   "cell_type": "code",
   "execution_count": 127,
   "id": "67cf24c0-4b9a-4eb5-9f70-e4b483eb8f41",
   "metadata": {},
   "outputs": [
    {
     "data": {
      "text/plain": [
       "'How are yo'"
      ]
     },
     "execution_count": 127,
     "metadata": {},
     "output_type": "execute_result"
    }
   ],
   "source": [
    "s[0:10]"
   ]
  },
  {
   "cell_type": "code",
   "execution_count": 128,
   "id": "9b9396ce-c03a-4287-8f6b-62afb3689476",
   "metadata": {},
   "outputs": [
    {
     "data": {
      "text/plain": [
       "'u'"
      ]
     },
     "execution_count": 128,
     "metadata": {},
     "output_type": "execute_result"
    }
   ],
   "source": [
    "s[-1]# conuting from last (right to left)"
   ]
  },
  {
   "cell_type": "code",
   "execution_count": 129,
   "id": "e77aa082-f60f-429a-9b87-07bd6455bd00",
   "metadata": {},
   "outputs": [
    {
     "data": {
      "text/plain": [
       "'y'"
      ]
     },
     "execution_count": 129,
     "metadata": {},
     "output_type": "execute_result"
    }
   ],
   "source": [
    "s[-3]"
   ]
  },
  {
   "cell_type": "code",
   "execution_count": 130,
   "id": "c3316f9e-31f9-4517-a33e-b6c3f16d2eb7",
   "metadata": {},
   "outputs": [
    {
     "data": {
      "text/plain": [
       "' who are '"
      ]
     },
     "execution_count": 130,
     "metadata": {},
     "output_type": "execute_result"
    }
   ],
   "source": [
    "s[-12:-3]# counted 3rd from right untill 12th from right "
   ]
  },
  {
   "cell_type": "code",
   "execution_count": 131,
   "id": "2888fb2d-c7b4-4ca0-8470-0572940d68eb",
   "metadata": {},
   "outputs": [
    {
     "ename": "TypeError",
     "evalue": "'str' object does not support item assignment",
     "output_type": "error",
     "traceback": [
      "\u001b[0;31m---------------------------------------------------------------------------\u001b[0m",
      "\u001b[0;31mTypeError\u001b[0m                                 Traceback (most recent call last)",
      "Cell \u001b[0;32mIn[131], line 1\u001b[0m\n\u001b[0;32m----> 1\u001b[0m \u001b[43ms\u001b[49m\u001b[43m[\u001b[49m\u001b[38;5;241;43m1\u001b[39;49m\u001b[43m]\u001b[49m \u001b[38;5;241m=\u001b[39m \u001b[38;5;124m\"\u001b[39m\u001b[38;5;124me\u001b[39m\u001b[38;5;124m\"\u001b[39m\n",
      "\u001b[0;31mTypeError\u001b[0m: 'str' object does not support item assignment"
     ]
    }
   ],
   "source": [
    "s[1] = \"e\" # you cant change it "
   ]
  },
  {
   "cell_type": "code",
   "execution_count": 132,
   "id": "dff1097f-a1bd-4ce4-8963-ac4c93544ff2",
   "metadata": {},
   "outputs": [
    {
     "data": {
      "text/plain": [
       "'Hwaeyu'"
      ]
     },
     "execution_count": 132,
     "metadata": {},
     "output_type": "execute_result"
    }
   ],
   "source": [
    "s[0:12:2]# starting from 0 untill 12 while skilling by 2 places like 0,2,4 etc"
   ]
  },
  {
   "cell_type": "code",
   "execution_count": 133,
   "id": "86f0eb92-820d-4017-b489-e18629b849b2",
   "metadata": {},
   "outputs": [
    {
     "data": {
      "text/plain": [
       "'How are you and who are you'"
      ]
     },
     "execution_count": 133,
     "metadata": {},
     "output_type": "execute_result"
    }
   ],
   "source": [
    "s"
   ]
  },
  {
   "cell_type": "code",
   "execution_count": 135,
   "id": "d12594cf-b6ad-46a5-b78d-4952f62fe2c5",
   "metadata": {},
   "outputs": [
    {
     "data": {
      "text/plain": [
       "'How are you '"
      ]
     },
     "execution_count": 135,
     "metadata": {},
     "output_type": "execute_result"
    }
   ],
   "source": [
    "s[:12]# s[start:end:step]"
   ]
  },
  {
   "cell_type": "code",
   "execution_count": 136,
   "id": "924b606e-d21a-47b4-b77b-fa9f8a2ef6c1",
   "metadata": {},
   "outputs": [
    {
     "data": {
      "text/plain": [
       "' are you and who are you'"
      ]
     },
     "execution_count": 136,
     "metadata": {},
     "output_type": "execute_result"
    }
   ],
   "source": [
    "s[3:]"
   ]
  },
  {
   "cell_type": "code",
   "execution_count": 137,
   "id": "e5381bdf-bdb9-420c-97d0-72d62296689e",
   "metadata": {},
   "outputs": [
    {
     "data": {
      "text/plain": [
       "'ow are you '"
      ]
     },
     "execution_count": 137,
     "metadata": {},
     "output_type": "execute_result"
    }
   ],
   "source": [
    "s[1:12]"
   ]
  },
  {
   "cell_type": "code",
   "execution_count": 170,
   "id": "f7392892-6b51-4b92-b1bb-a62ddd8bcb24",
   "metadata": {},
   "outputs": [
    {
     "data": {
      "text/plain": [
       "'uoy era ohw dna uoy era woH'"
      ]
     },
     "execution_count": 170,
     "metadata": {},
     "output_type": "execute_result"
    }
   ],
   "source": [
    "s[::-1] # start and end index are swaped and it shows reverse"
   ]
  },
  {
   "cell_type": "code",
   "execution_count": 171,
   "id": "a33a4d29-a7cf-4ada-92a9-e4819e35dc6d",
   "metadata": {},
   "outputs": [
    {
     "name": "stdout",
     "output_type": "stream",
     "text": [
      "abc def     hgq asdfaf\n"
     ]
    }
   ],
   "source": [
    "a = \"    abc def     hgq asdfaf     \"\n",
    "b = a.strip()# it deleted the extra space in start and in end \n",
    "print(b)"
   ]
  },
  {
   "cell_type": "code",
   "execution_count": 172,
   "id": "71678884-3016-4914-b190-4db7b9194fa6",
   "metadata": {},
   "outputs": [
    {
     "name": "stdout",
     "output_type": "stream",
     "text": [
      "abc defg ;; sadfa qf\n"
     ]
    }
   ],
   "source": [
    "a = \"ABC deFg ;; sadfa QF\"\n",
    "b = a.lower()# it coverts all string to lower cases\n",
    "print(b)"
   ]
  },
  {
   "cell_type": "code",
   "execution_count": 173,
   "id": "3d580457-a889-44ec-a6c9-974dc2c6286d",
   "metadata": {},
   "outputs": [
    {
     "name": "stdout",
     "output_type": "stream",
     "text": [
      "ABC DEFG ;; SADFA QF\n"
     ]
    }
   ],
   "source": [
    "c = a.upper()# it concerts all to upper cases\n",
    "print(c)"
   ]
  },
  {
   "cell_type": "code",
   "execution_count": 174,
   "id": "2b5f67c4-860d-4e6d-873a-59a462e3334c",
   "metadata": {},
   "outputs": [
    {
     "name": "stdout",
     "output_type": "stream",
     "text": [
      "ABC deFg ** sadfa QF\n"
     ]
    }
   ],
   "source": [
    "d = a.replace(\";\",\"*\")# it replace a variable with another throuout the string \n",
    "print(d)"
   ]
  },
  {
   "cell_type": "code",
   "execution_count": 175,
   "id": "ae2e312d-4c31-4c19-b408-930d102077e4",
   "metadata": {},
   "outputs": [
    {
     "name": "stdout",
     "output_type": "stream",
     "text": [
      "ABC deFg **&&^^%%**&&^^%% sadfa QF\n"
     ]
    }
   ],
   "source": [
    "d = a.replace(\";\",\"**&&^^%%\")# you can replace by  a string too\n",
    "print(d)"
   ]
  },
  {
   "cell_type": "code",
   "execution_count": 176,
   "id": "17a80768-9a24-4b39-b760-a613c9efe79c",
   "metadata": {},
   "outputs": [
    {
     "name": "stdout",
     "output_type": "stream",
     "text": [
      "ABC deFg two semi colons sadfa QF\n"
     ]
    }
   ],
   "source": [
    "d = a.replace(\";;\",\"two semi colons\")# a set of sub string is replaced by another sub string\n",
    "print(d)"
   ]
  },
  {
   "cell_type": "code",
   "execution_count": 177,
   "id": "d388728d-d35a-4d75-85c1-1d5225755c6b",
   "metadata": {},
   "outputs": [
    {
     "name": "stdout",
     "output_type": "stream",
     "text": [
      "['abc', 'def', 'hgydfa', 'yy23']\n"
     ]
    }
   ],
   "source": [
    "a = \"abc;def;hgydfa;yy23\"\n",
    "L = a.split(\";\")# it splits a single string into multiple tring by a variable and put into list\n",
    "print(L)"
   ]
  },
  {
   "cell_type": "code",
   "execution_count": 178,
   "id": "33f5a335-79bf-4363-a943-6aaa19375214",
   "metadata": {},
   "outputs": [
    {
     "data": {
      "text/plain": [
       "'hgydfa'"
      ]
     },
     "execution_count": 178,
     "metadata": {},
     "output_type": "execute_result"
    }
   ],
   "source": [
    "L[2]"
   ]
  },
  {
   "cell_type": "code",
   "execution_count": 179,
   "id": "59ffb50f-11e8-43f3-a3d7-16631d7ef55b",
   "metadata": {},
   "outputs": [],
   "source": [
    "# a. and press tab it will shows all funtions "
   ]
  },
  {
   "cell_type": "code",
   "execution_count": 180,
   "id": "0b949aae-0208-46a4-b7b8-4a36ec1598da",
   "metadata": {},
   "outputs": [
    {
     "data": {
      "text/plain": [
       "\u001b[0;31mSignature:\u001b[0m \u001b[0ma\u001b[0m\u001b[0;34m.\u001b[0m\u001b[0mcapitalize\u001b[0m\u001b[0;34m(\u001b[0m\u001b[0;34m)\u001b[0m\u001b[0;34m\u001b[0m\u001b[0;34m\u001b[0m\u001b[0m\n",
       "\u001b[0;31mDocstring:\u001b[0m\n",
       "Return a capitalized version of the string.\n",
       "\n",
       "More specifically, make the first character have upper case and the rest lower\n",
       "case.\n",
       "\u001b[0;31mType:\u001b[0m      builtin_function_or_method"
      ]
     },
     "metadata": {},
     "output_type": "display_data"
    }
   ],
   "source": [
    "a.capitalize?"
   ]
  },
  {
   "cell_type": "code",
   "execution_count": 181,
   "id": "5979860a-acce-4ab1-92b6-f0aa6e155710",
   "metadata": {},
   "outputs": [
    {
     "name": "stdout",
     "output_type": "stream",
     "text": [
      "Abc;def;hgydfa;yy23\n"
     ]
    }
   ],
   "source": [
    "print(a.capitalize())# only capital first leter of string and rest lower case"
   ]
  },
  {
   "cell_type": "code",
   "execution_count": 182,
   "id": "95bb4e09-6fd7-46dc-ae41-c260c0083107",
   "metadata": {},
   "outputs": [
    {
     "data": {
      "text/plain": [
       "'Abdafadfggq'"
      ]
     },
     "execution_count": 182,
     "metadata": {},
     "output_type": "execute_result"
    }
   ],
   "source": [
    "\"abdAfadfGGQ\".capitalize()"
   ]
  },
  {
   "cell_type": "code",
   "execution_count": 183,
   "id": "3bc74f4e-c20f-4d0a-ac9c-93edf04d9967",
   "metadata": {},
   "outputs": [
    {
     "name": "stdout",
     "output_type": "stream",
     "text": [
      "Help on built-in function count:\n",
      "\n",
      "count(...) method of builtins.str instance\n",
      "    S.count(sub[, start[, end]]) -> int\n",
      "    \n",
      "    Return the number of non-overlapping occurrences of substring sub in\n",
      "    string S[start:end].  Optional arguments start and end are\n",
      "    interpreted as in slice notation.\n",
      "\n"
     ]
    }
   ],
   "source": [
    "help(a.count)"
   ]
  },
  {
   "cell_type": "code",
   "execution_count": 184,
   "id": "3659acbc-5f2c-4d9d-a128-daa45c51ce71",
   "metadata": {},
   "outputs": [
    {
     "data": {
      "text/plain": [
       "True"
      ]
     },
     "execution_count": 184,
     "metadata": {},
     "output_type": "execute_result"
    }
   ],
   "source": [
    "\"abc\" in \"asdfafdjabcl;jfdopasdfoajfd;la\""
   ]
  },
  {
   "cell_type": "code",
   "execution_count": 185,
   "id": "53cd5127-e60b-4944-9dac-c41cad1b9275",
   "metadata": {},
   "outputs": [
    {
     "data": {
      "text/plain": [
       "False"
      ]
     },
     "execution_count": 185,
     "metadata": {},
     "output_type": "execute_result"
    }
   ],
   "source": [
    "\"abc\" in \"shbdu4r';.'owevuhyasnkon2937yewbdwijen\""
   ]
  },
  {
   "cell_type": "code",
   "execution_count": 186,
   "id": "771d5938-1c80-41db-a7ef-8f2c506289d7",
   "metadata": {},
   "outputs": [
    {
     "data": {
      "text/plain": [
       "True"
      ]
     },
     "execution_count": 186,
     "metadata": {},
     "output_type": "execute_result"
    }
   ],
   "source": [
    "\"abc\"=='abc'"
   ]
  },
  {
   "cell_type": "code",
   "execution_count": 187,
   "id": "d2e4595c-3217-4b6c-af87-ed6e56147846",
   "metadata": {},
   "outputs": [
    {
     "data": {
      "text/plain": [
       "True"
      ]
     },
     "execution_count": 187,
     "metadata": {},
     "output_type": "execute_result"
    }
   ],
   "source": [
    "\"abc\" < \"def\""
   ]
  },
  {
   "cell_type": "code",
   "execution_count": 188,
   "id": "08b69b1c-bb80-4a1f-9857-e8b9638ce98c",
   "metadata": {},
   "outputs": [
    {
     "data": {
      "text/plain": [
       "True"
      ]
     },
     "execution_count": 188,
     "metadata": {},
     "output_type": "execute_result"
    }
   ],
   "source": [
    "\"abcdefghi\" <\"def\"# based on alphabetic orders"
   ]
  },
  {
   "cell_type": "code",
   "execution_count": 189,
   "id": "ec5f4ed0-59cd-487b-befb-240f5f01360a",
   "metadata": {},
   "outputs": [
    {
     "data": {
      "text/plain": [
       "True"
      ]
     },
     "execution_count": 189,
     "metadata": {},
     "output_type": "execute_result"
    }
   ],
   "source": [
    "\"$%\"<\"*&\""
   ]
  },
  {
   "cell_type": "code",
   "execution_count": 190,
   "id": "ff45537a-c006-405c-836e-b450fbc9bee2",
   "metadata": {},
   "outputs": [
    {
     "ename": "SyntaxError",
     "evalue": "invalid syntax. Perhaps you forgot a comma? (243648698.py, line 1)",
     "output_type": "error",
     "traceback": [
      "\u001b[0;36m  Cell \u001b[0;32mIn[190], line 1\u001b[0;36m\u001b[0m\n\u001b[0;31m    print(\"we are learning \"string\" here\")# if \"\" are used never use it again in between\u001b[0m\n\u001b[0m          ^\u001b[0m\n\u001b[0;31mSyntaxError\u001b[0m\u001b[0;31m:\u001b[0m invalid syntax. Perhaps you forgot a comma?\n"
     ]
    }
   ],
   "source": [
    "print(\"we are learning \"string\" here\")# if \"\" are used never use it again in between"
   ]
  },
  {
   "cell_type": "code",
   "execution_count": 191,
   "id": "e2df54c2-df9a-49ff-a69c-75cf0c58ea8a",
   "metadata": {},
   "outputs": [
    {
     "name": "stdout",
     "output_type": "stream",
     "text": [
      "we are learning 'string' here\n"
     ]
    }
   ],
   "source": [
    "print(\"we are learning 'string' here\")# chnage the \"\" with ''"
   ]
  },
  {
   "cell_type": "code",
   "execution_count": 194,
   "id": "7873c20e-296e-4a27-b97d-63eba3c8e3af",
   "metadata": {},
   "outputs": [
    {
     "name": "stdout",
     "output_type": "stream",
     "text": [
      "we are learning \"string\" here\n"
     ]
    }
   ],
   "source": [
    "print(\"we are learning \\\"string\\\" here\")# use \\ to ignore the next variable "
   ]
  },
  {
   "cell_type": "code",
   "execution_count": 195,
   "id": "31a57768-2dea-485f-a0ca-efedc433489c",
   "metadata": {},
   "outputs": [
    {
     "name": "stdout",
     "output_type": "stream",
     "text": [
      "we are \t now on another line\n"
     ]
    }
   ],
   "source": [
    "print(\"we are \\t now on another line\")# \\t means gives tab amount space "
   ]
  },
  {
   "cell_type": "code",
   "execution_count": 196,
   "id": "46161691-f1b2-44dd-b547-95395cff8e9f",
   "metadata": {},
   "outputs": [
    {
     "name": "stdout",
     "output_type": "stream",
     "text": [
      "we are \n",
      " now on another line\n"
     ]
    }
   ],
   "source": [
    "print(\"we are \\n now on another line\")# \\n means new line"
   ]
  },
  {
   "cell_type": "code",
   "execution_count": 198,
   "id": "6e33cf2b-71a5-48ea-ad5f-9eb829362477",
   "metadata": {},
   "outputs": [
    {
     "name": "stdout",
     "output_type": "stream",
     "text": [
      "c:\n",
      "ame\\drive\n"
     ]
    }
   ],
   "source": [
    "print(\"c:\\name\\drive\")# here \\n is used as new line "
   ]
  },
  {
   "cell_type": "code",
   "execution_count": 201,
   "id": "9e3c74c4-d404-46cb-bd59-ed55f5bf6c7d",
   "metadata": {},
   "outputs": [
    {
     "name": "stdout",
     "output_type": "stream",
     "text": [
      "c:\\name\\drive\n"
     ]
    }
   ],
   "source": [
    "print(r\"c:\\name\\drive\")# thats a raw string so print as it is "
   ]
  },
  {
   "cell_type": "code",
   "execution_count": 202,
   "id": "1aed793b-5412-4cb2-bb55-ccb657ebc1a5",
   "metadata": {},
   "outputs": [
    {
     "name": "stdout",
     "output_type": "stream",
     "text": [
      "c:\\name\\drive\n"
     ]
    }
   ],
   "source": [
    "print(\"c:\\\\name\\drive\")"
   ]
  }
 ],
 "metadata": {
  "kernelspec": {
   "display_name": "Python 3 (ipykernel)",
   "language": "python",
   "name": "python3"
  },
  "language_info": {
   "codemirror_mode": {
    "name": "ipython",
    "version": 3
   },
   "file_extension": ".py",
   "mimetype": "text/x-python",
   "name": "python",
   "nbconvert_exporter": "python",
   "pygments_lexer": "ipython3",
   "version": "3.10.12"
  }
 },
 "nbformat": 4,
 "nbformat_minor": 5
}

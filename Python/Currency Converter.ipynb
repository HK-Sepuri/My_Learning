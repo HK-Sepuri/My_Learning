{
 "cells": [
  {
   "cell_type": "code",
   "execution_count": 3,
   "id": "73a98a9a-0648-42a2-80dc-f7b604d97669",
   "metadata": {},
   "outputs": [],
   "source": [
    "def main():\n",
    "    print(\"This program converts US dollars to Pounds\")\n",
    "    print()\n",
    "\n",
    "    dollars = float(input(\"Enter amount in dollars: \"))  # Use float() to ensure the input is treated as a number\n",
    "\n",
    "    pounds = dollars * 0.82\n",
    "\n",
    "    print(\"That is\", pounds, \"pounds.\")\n"
   ]
  },
  {
   "cell_type": "code",
   "execution_count": 2,
   "id": "9e5a2740-5ee6-4fee-bbeb-69658cfaffed",
   "metadata": {},
   "outputs": [
    {
     "name": "stdout",
     "output_type": "stream",
     "text": [
      "This program converts US dollars to Pounds Sterling\n",
      "\n"
     ]
    },
    {
     "name": "stdin",
     "output_type": "stream",
     "text": [
      "Enter amount in dollars:  1000\n"
     ]
    },
    {
     "name": "stdout",
     "output_type": "stream",
     "text": [
      "That is 820.0 pounds.\n"
     ]
    }
   ],
   "source": [
    "    main()"
   ]
  },
  {
   "cell_type": "code",
   "execution_count": null,
   "id": "773df4dd-c29e-4aa9-b295-bd1882a1e991",
   "metadata": {},
   "outputs": [],
   "source": []
  }
 ],
 "metadata": {
  "kernelspec": {
   "display_name": "Python 3 (ipykernel)",
   "language": "python",
   "name": "python3"
  },
  "language_info": {
   "codemirror_mode": {
    "name": "ipython",
    "version": 3
   },
   "file_extension": ".py",
   "mimetype": "text/x-python",
   "name": "python",
   "nbconvert_exporter": "python",
   "pygments_lexer": "ipython3",
   "version": "3.10.12"
  }
 },
 "nbformat": 4,
 "nbformat_minor": 5
}
